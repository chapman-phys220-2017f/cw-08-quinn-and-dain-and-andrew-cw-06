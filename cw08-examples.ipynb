{
 "cells": [
  {
   "cell_type": "code",
   "execution_count": 1,
   "metadata": {
    "collapsed": false
   },
   "outputs": [
   ],
   "source": [
    "import animation\n",
    "import numpy as np\n",
    "import sympy as sym\n",
    "import matplotlib.pyplot as plt"
   ]
  },
  {
   "cell_type": "markdown",
   "metadata": {
    "collapsed": false
   },
   "source": [
    "# CW08 Examples\n",
    "\n",
    "This notebook is intended as a gallery of useful examples and functionality, to reinforce what we have been doing in the class so far.\n",
    "\n",
    "Go through the examples and corresponding code, and see if you can understand what is happening. Discuss with your group.\n",
    "\n",
    "Feel free to create new code in new cells to play with the ideas further, which can help you understand. Save your updated notebooks and turn them in if you do so."
   ]
  },
  {
   "cell_type": "markdown",
   "metadata": {
    "collapsed": false
   },
   "source": [
    "## Language-specific Cells\n",
    "\n",
    "You can change which kernel evaluates individual cells in Jupyter, which can be useful for quick demonstrations. For example, the cell below has been switched to `bash` instead of the default `python3` kernel being used for the rest of the notebook."
   ]
  },
  {
   "cell_type": "code",
   "execution_count": 2,
   "metadata": {
    "collapsed": false
   },
   "outputs": [
    {
     "name": "stdout",
     "output_type": "stream",
     "text": [
      "0\n",
      "1\n",
      "1\n",
      "2\n",
      "3\n",
      "5\n",
      "8\n",
      "13\n",
      "21\n",
      "34\n",
      "55\n",
      "89\n",
      "144\n",
      "233\n",
      "377\n",
      "610\n",
      "987\n",
      "1597\n",
      "2584\n",
      "4181\n"
     ]
    }
   ],
   "source": [
    "%%script bash\n",
    "\n",
    "# The line above acts exactly as the #!/bin/bash line of a script file\n",
    "# It tells Jupyter that you are running a script, and which interpreter to use for the script\n",
    "\n",
    "acc=0\n",
    "acc2=1\n",
    "for i in $(seq 20); do\n",
    "  echo $acc\n",
    "  tmp=$acc2\n",
    "  acc2=$(($acc2 + $acc))\n",
    "  acc=$tmp\n",
    "done"
   ]
  },
  {
   "cell_type": "code",
   "execution_count": 3,
   "metadata": {
    "collapsed": false
   },
   "outputs": [
    {
     "name": "stdout",
     "output_type": "stream",
     "text": [
      "e =\n",
      "\n",
      "   0   1   0   0   0   0   0   0   0   0\n",
      "  -1   0   1   0   0   0   0   0   0   0\n",
      "   0  -1   0   1   0   0   0   0   0   0\n",
      "   0   0  -1   0   1   0   0   0   0   0\n",
      "   0   0   0  -1   0   1   0   0   0   0\n",
      "   0   0   0   0  -1   0   1   0   0   0\n",
      "   0   0   0   0   0  -1   0   1   0   0\n",
      "   0   0   0   0   0   0  -1   0   1   0\n",
      "   0   0   0   0   0   0   0  -1   0   1\n",
      "   0   0   0   0   0   0   0   0  -1   0\n",
      "\n"
     ]
    },
    {
     "name": "stderr",
     "output_type": "stream",
     "text": [
      "octave: X11 DISPLAY environment variable not set\n",
      "octave: disabling GUI features\n"
     ]
    }
   ],
   "source": [
    "%%script octave\n",
    "\n",
    "# For example, this script is now in Octave, a free clone of MATLAB\n",
    "# Next week, we will be looking into using MATLAB itself\n",
    "# Note in the code below that the function names look very similar to numpy\n",
    "# The similarity of numpy to MATLAB is deliberate - you will be able to use most of\n",
    "# the syntax you are familiar with from numpy with only a few minor tweaks\n",
    "\n",
    "e = zeros(10,10);           # 10x10 matrix of zeros\n",
    "v = linspace(0,1,10);       # vector of length 10 storing domain of points between 0 and 1\n",
    "e(2:end,1:end-1) = -eye(9); # Set lower off-diagonal to -1 using 9x9 identity matrix\n",
    "e(1:end-1,2:end) += eye(9)  # Set upper off-diagonal to +1 using 9x9 identity matrix, do not suppress output"
   ]
  },
  {
   "cell_type": "markdown",
   "metadata": {
    "collapsed": false
   },
   "source": [
    "## Matplotlib Animations\n",
    "\n",
    "Recent versions of matplotlib have now enabled easy creation of plot animations. Below I highlight two distinct animation modes, using the code from the supplementary module `animation.py`."
   ]
  },
  {
   "cell_type": "markdown",
   "metadata": {
    "collapsed": false
   },
   "source": [
    "### HTML5 MP4 Video Rendering"
   ]
  },
  {
   "cell_type": "markdown",
   "metadata": {
    "collapsed": false
   },
   "source": [
    "First we define a generator that yields new frames for the animation. We define a frame to be the updated range for the plot, seeding the generator with the constant domain. For simplicity, we will show a Gaussian wave packet."
   ]
  },
  {
   "cell_type": "code",
   "execution_count": 4,
   "metadata": {
    "collapsed": false
   },
   "outputs": [
   ],
   "source": [
    "def wave_packet(x):\n",
    "    for i in range(100):\n",
    "        yield 10*np.sin(2*np.pi*(x - 0.01*i))*np.exp(-x**2/2)"
   ]
  },
  {
   "cell_type": "markdown",
   "metadata": {
    "collapsed": false
   },
   "source": [
    "Now, using the code in the helper module, we plot the wave packet, choosing a domain of points $x\\in(-4,4)$."
   ]
  },
  {
   "cell_type": "code",
   "execution_count": 5,
   "metadata": {
    "collapsed": false
   },
   "outputs": [
    {
     "data": {
      "text/html": [
       "<video width=\"864\" height=\"504\" controls autoplay loop>\n",
       "  <source type=\"video/mp4\" src=\"data:video/mp4;base64,AAAAHGZ0eXBNNFYgAAACAGlzb21pc28yYXZjMQAAAAhmcmVlAADt5G1kYXQAAAKuBgX//6rcRem9\n",
       "5tlIt5Ys2CDZI+7veDI2NCAtIGNvcmUgMTQ4IHIyNjQzIDVjNjU3MDQgLSBILjI2NC9NUEVHLTQg\n",
       "QVZDIGNvZGVjIC0gQ29weWxlZnQgMjAwMy0yMDE1IC0gaHR0cDovL3d3dy52aWRlb2xhbi5vcmcv\n",
       "eDI2NC5odG1sIC0gb3B0aW9uczogY2FiYWM9MSByZWY9MyBkZWJsb2NrPTE6MDowIGFuYWx5c2U9\n",
       "MHgzOjB4MTEzIG1lPWhleCBzdWJtZT03IHBzeT0xIHBzeV9yZD0xLjAwOjAuMDAgbWl4ZWRfcmVm\n",
       "PTEgbWVfcmFuZ2U9MTYgY2hyb21hX21lPTEgdHJlbGxpcz0xIDh4OGRjdD0xIGNxbT0wIGRlYWR6\n",
       "b25lPTIxLDExIGZhc3RfcHNraXA9MSBjaHJvbWFfcXBfb2Zmc2V0PS0yIHRocmVhZHM9NiBsb29r\n",
       "YWhlYWRfdGhyZWFkcz0xIHNsaWNlZF90aHJlYWRzPTAgbnI9MCBkZWNpbWF0ZT0xIGludGVybGFj\n",
       "ZWQ9MCBibHVyYXlfY29tcGF0PTAgY29uc3RyYWluZWRfaW50cmE9MCBiZnJhbWVzPTMgYl9weXJh\n",
       "bWlkPTIgYl9hZGFwdD0xIGJfYmlhcz0wIGRpcmVjdD0xIHdlaWdodGI9MSBvcGVuX2dvcD0wIHdl\n",
       "aWdodHA9MiBrZXlpbnQ9MjUwIGtleWludF9taW49MjUgc2NlbmVjdXQ9NDAgaW50cmFfcmVmcmVz\n",
       "aD0wIHJjX2xvb2thaGVhZD00MCByYz1jcmYgbWJ0cmVlPTEgY3JmPTIzLjAgcWNvbXA9MC42MCBx\n",
       "cG1pbj0wIHFwbWF4PTY5IHFwc3RlcD00IGlwX3JhdGlvPTEuNDAgYXE9MToxLjAwAIAAACMuZYiE\n",
       "ADP//vbsvgU1/Z/QlxEsxdpKcD4qpICAdzTAAAADAAADAAADAAChIqB7aCCkyPQAAAMAATo2T/gc\n",
       "P5gG0MDJOAwGTjdPv0ArbHd4Z0vRiiUA2jVtBGMJO5yNmTubTrp+GwHUh+nT0UClAOMlfZ56XkRC\n",
       "8pkOR4xl/QW6xAEH4XEhbeZGwMSSAwLtuxOG/XmDpRanJicRuWksTAB1ZJDI3vZcVPbnYsv2yjzD\n",
       "UyzumBEuXVPRQfvmjFzxbjqtn9Si9wWJH1ap+wB9bFPstRxsvPJHWL0RTfnOPTy9/ckV8ZfSWyuN\n",
       "hoMhDNiqv51NMPqBMhqGgyrCsAhElJP0nLj9hH48OVhUTKJDtaFMtuS+Pml5XYnPJc5Fcd0fciUa\n",
       "DheUQQqfxg02aCKiuQmPkWaQaR3WS7oNTI67dIN320n5wuDeu5D23+CbVSuVPdRwkOwirJysmQ+X\n",
       "umsSi3MvJX7zyXimqreYvHnsE3arNxAKkxaFgCQJ37QnJGxyDA00uZQVVnkvqfsbBPV4Nph53qK4\n",
       "fliyjdWTaPXvkmgrQxy282YNUV2s5o9j7fGDBjae/f9taDJcFdyw6Bl38dbJKXBvfXvRJrprwSCQ\n",
       "gSwI3dJJLUsx7aFadeVTtzfd6yMfncsLiVlRHfsfow5i/XJ1qkKzsxZbTksz6aL5FjFYgWBzyKQC\n",
       "+v5WyxjwTX/xi/IjHczS3wfMVLrVVYc12fjX3D91GRse9i1NUXnSrXLxYLzzwRTLwlpHlt6BWZOZ\n",
       "3HRI4vN8jKhHRZcIaIe3nwx8HIh9bhEo6mvIOHrPIpZZ8JYMoX7rgjzjgp+WA1yZUhT04by1RkAC\n",
       "zs9z4pUGEhRb4SwntAfWqnh+S++snr7kw2nU0ow8NxWGbKh5kvThlHvFEqDXVUtQXaZNcYM8/Ner\n",
       "VwjMTmepZNPQq1LSgYhYK6CIcYyv2lFz+eSUk7VQrCzTNuiUWKStlyrkshjT6x93QluafPmIfj2N\n",
       "w9oZY/iG3cGAbCOtuPMpP7xGy32SIW4SKS/nFWrzXN5z7HLrEuMJXio9HY6OJX8lDC99EJv8rqZd\n",
       "uPEoPs+sTihSpC8z/0iDz7OyimR5YT1y3nL2o0ghEHQCXbtmFBnHUUo3jwdMK++BEUG+BGFCusIH\n",
       "glrm1c1Z+B56kGgd1MxAOAfqgcTArXOldu0aH/tXLCLF4gsoAigbM9J2p8Q6RDkPHMRMXX9COz+B\n",
       "0VmsrREAruTLuwg52Y5M0Oe9zOx/KHH6msZMTry380Ln47wdk9BjAn7CKMaKGqa50zB21HVgdmoz\n",
       "PNfViBRJiKkSApy6Oq4XQpGQjDOp44N2q7emtXmiYOXpqle8LE3v4MwuvMnVi0nfXQfu4KvuTUJQ\n",
       "DYt4O+kHt7TNlHZZf2LbrKMoGDsRSIsCH0N4t+DUkHsEXFncWn+lljVrXRiNGum5diOThM7AX1uK\n",
       "WJvzwJJ4tX/hC9C664GxAMLaGDxrkkH5IMweeJVCIHzoAGejBuY3fkjIioAQ8vUOH3np7iJHdKf8\n",
       "69adcvwkuQny7qsRIJhePdIH0Y6wk0YdF+gp0kItkONWvXTSnbJWfab7UAI8kj3ih/dZEdkMTmfW\n",
       "t9Qyhe5du6pcfgl9UDwqTpBMJf1oLCGybBN5BLKYE5VAAOE1UlNNVoX/bhtr7nhfAWCKm+LtLHCW\n",
       "CypHFb6VICIDBr1x3Y+h2OAxxljLhbFeSCAAAAMD8pNpgHemKkJSDy6g1pMTGI0kIo/7QB03n+Hr\n",
       "pz6OfSXB02xUUFGhOO668hFrQm6aw0egedSYQYZAoXjwcmdW9+TV21+DRqZohf5cbiwrFq/qrWQv\n",
       "t80XhDROfe/gC3lLlQJt6Urjnx3BBTuuf6EYW28T8/IDI0+YasoXHW+XygKfuhHorYvUAFO8W2nx\n",
       "mGz6SN40DJdRiY8t4TazShNDdUjm4KL6EQbr/5EEp2Snt6QdCtiMlb10AsPul943g6wsox8Rfbrk\n",
       "va108hje9xX/OlkrNi8rb/quehkf+K4ivYBP2a1SlFUeWRdKw44smKEbN2k+sa5JlIaGSQlnsSXM\n",
       "nr+txi3K+TwzHER+pJGN6Qx7M5jy0Wl4wsdRZJFM4gL/kJUxLwveJINP+8e06ILoVH7wyDWK/Ug2\n",
       "JXYqmvds3o32YQtkVBEGYfgAAit7yKK4Cnkgl2P4++0TFdug1VQnYw12oVqlDDtZVPR9U3MeygZL\n",
       "LOdlERJ6vELx4d8cw6GVpcm/3BdCFl9u6UznazehvEpJx8pKYqvwiqgo0ireuGH8TubRuSO3acAG\n",
       "fV9RgHgxaqkdk7+/VvgHjCJw5t2wWQDfOangdwsSyD8bGbq+5/2KJ7pFucCpzEoQwWhJhBSQFtLL\n",
       "OFUm36e01QEl2QcYUqJoOauQpdvm0ERzp4GVzu9m8+ULgEcZhWTPGos2thr/goRXRXfvAfK6jgja\n",
       "aeDZQ0Uf9gdGZILtXPR2pOCqmrsCt0PKnVsIJBEVGzpo0N2vkNoijIM1HovUBYvJkTMDkJRe1gW3\n",
       "EvgA0GJMqo7432yKW2vrX3Nvu4p/UnG7GTIQu6NZTzEPoHfCiulX/+//8XAN8gXimGlMW8EZ2dB8\n",
       "raCNFQEizIw3W7SvvQuPRzC/nMtB5K1EKLqzPCXqJS7S6sszu1fmkTcBOUf7x4lLKZ+OdEP/jcyo\n",
       "+FdIszePCVCIJF6XLt8TPh3tEGgqKOVIxjp/zbcnoLermWFRKCzLZkLU1/sVyX3yPo2FoctlNuOQ\n",
       "t1bvDruPW2CvWaITLihvXWzPBKHO4Sy9lE//RMTYBiKFzG49MdGVvE5cX9Xn36hZ5YHjrEqTAVSz\n",
       "mKW2rm5boFAPMNrypaOsEd77coF4iO/4OT41lUEalCR2tyRaM+fxjlAo74HJvKlGM+SVhPif/VRf\n",
       "k+3g7AACizanGKFdse6DMmdG0piUarFBiyz8dXctr9zbYmO0CPkUKB8QKFnuS8isTi5fdddaVJz3\n",
       "PhsxmD/64fOjeiabDDzkRjkrcqrefGhzbDr50vUG8zt9S8U9QzaZKlXeMctloKCewknHhB4xlpD4\n",
       "X+dZZB86GdBuaeU8sXeMROWGf21n/ZfI0awN+K2S3ayf78/Vi7vTTZZT91lc+6aLCSz3i7iFzymy\n",
       "q7ETBh3IXPQF31hXIflvvy8GFAZ8CnDoIagUFTHioz2aA28CBQ/XKWtP+OmFLKzTyTX1iIcVWriF\n",
       "6Xs3Fqx4Ib1Kc39A2/MDm81mQZa9o3WHk9H0IVqOTRArqHraS5+Jd6LUDeGGs8ES/7AangFSJvi5\n",
       "FuTXELstzeI5eDNnTt68d78xKf8sDBoQXsCwt6x+LYj+EIQlhRNAi42ydNHpgiq/hi1w/n+fA2Ee\n",
       "21yr6M33Ep8YF8FvSudvbsHA2wCBBOBRahPGOkkjmSDHTg+QpxGZjivrvrCd5l2Cg5FsXuJlkR1v\n",
       "j5wbEma3CicmAAjVwJD+hWEPxnFXMJ3HnwEdtCid3G22jNm+kTPJy3mWwvIcNbAUH2bBMmXzWK1I\n",
       "CBG+E6WOsFJtdFD1/EFJEf75fbp6eb8p1BR0X7MEwlj0+XW8oVlO/Mfvmm4AxgD+3NPU/lvo7y1s\n",
       "HhVxqsplywVKl9YFUFRdDcy+XTv/vzEN/lI4pE9D4ptD/GnCk/kvOenMltI4ZCgMhaadFIr5FZMT\n",
       "RVPvuB5l+n74hqFSlcwXiCfM9+k2/mUkN5tKxqcgIEOskhkuWAHZYhHErZEbbo8eOwQYehJR1WCH\n",
       "72dfdSr0clefVrEmG+tTV99ZdXmRuyHudPaPAEZiBrolY7qr+bpI/96GwDl77CF19563wl8w/Tzo\n",
       "UHbILKdCkUr/C3O78/rtR+kVfO7ItbVeVR26it8J/IQNRFTFljmo19igC80vL1/5yApbEYEu5SnH\n",
       "FlP8iviFBDh5QcucpoCsrIXnEz2MGf4CZS1FuOiVa2vQBh7DaZs2iPpiKHCMdDnQ0yWiG1XRuQYM\n",
       "fo+qOf/gvoCVy6WS0aeeS/PeStkHEsC/r5V1pULUCL1TQ0YnLQHRrjmmR/ummUODcF2XBwj0Ekk8\n",
       "Idvh9h+w6ImVWQMs175fKdlRbViRG5Fb1ddkenxZEIr7KF8tpXsxjXMUsHKjDm02fbqIezAASUDK\n",
       "X4RmWA6YMfQLzpf9ktKPX3q74wjQfHxQ693Vo/IrhZ8IJ9z3ltM3oFQ5Fnguhd06GWJ1uUt19Kau\n",
       "nPtloZVQQWCOhSpAoVk+1FccPhroYbnK4wEM8hQlDf3WvrqeNOhA1PR0lowDjwRxgwIjRd/CQcM6\n",
       "MkitJOjUxm7IqVDLzHWcZZc9TyYJaEWjDaKSNJd6xU2PWznNve/S9atVXpQfttZZOuaYBoezsxfi\n",
       "d5rrBZ/UN6BV/4mrDijaSxahOwSNPQ+yzouTeSdP5W8+6EdurgxiyxRKYBIoTO3XgjGc0/gnayaw\n",
       "dHHPwrJ9VrfOUwqaWSLeGHriTiWGAZd7UWTfvbN4UufxXTFh0/k3IPUv6ByRUbWD8kxs22YaZtSr\n",
       "wOYjy0VcFZr9YdLM2rLXcwGX+BIIB84W82eFoxiW8Qv/hKdUN8cOPeC3npRihlvCUUwEXdFMR1Dd\n",
       "I/nGjc/j5Hf38olJA2d4fHtZUYmHk15wZCy6of72vmoibS+y5JsjNLxZm4a7vryaEzUmoq9HE+kQ\n",
       "R0xFWEIgOW7Fi4o6h6XeLDt/Gy8IK+5ukgA167UDtf7ef5ReY/MvClAH5mmQKcw6X0qlkJSN2ONG\n",
       "S79OcvvvSs/a/RDRsKrgeNb5TtQHzS/0IyYBvGYf8pYQZqM9wUAa4Fcvw3FZq8YU6XBZEJCAECeF\n",
       "8I2tR/PY0vfIKWZpBc2ORpX94zJWNWZdQhh7b0bA8OUAEFrab59izNeO+3bd1CaR1WfLENpLJDN8\n",
       "hZWBhNLS+padyvYvG9smcxD47NIpz9rLEiKxwRsbyPWqvN0VwEn0wg72ehXR7mJ8ta/sPiX3G5H7\n",
       "nEyJgig893+M6vY2m6TRsOs8BfleNysFEb73yIIIc65AXxxLlvXKcPt8UqqpzcSqJNL5dOPdNHLk\n",
       "YAeTBHWppai9NdknlW5pO87gGFArnGmBz2+ND2KtAfL/ASxcAHQXv+56iyCSDC7Tri7mBu11d53K\n",
       "QZx9u6kvTcrYc56D+pO7A1DkEihyIk8mwlTXDZAu3tLS/9uz/5QOBGOTuSJ8iQ1mRGMJK5e2xLxS\n",
       "A0hTxB5e7968FAPe+IPcHz2Gm6FJeS6npXTztBBnjd4rrFdErud7k0kB7LbqRkvlAfdV41Ssz4RK\n",
       "8OxkNngYXkbe5wPdJasgDfKk3+vFnjXh+iZEAKVqg/Q8ZS+XWsdX5ewbuxuJPQmtS2qyCKUVBFTI\n",
       "UZcO3gIHjFBcnIfL9R/XxQCGRPkGiT7WJAdsRExxiBQhU36H/pN7zvjIfC3e0lVqy4f1LV/56eIr\n",
       "0FMPh/tR72gddrKwXhG44reFISndzMs7uVPwkiKJRKXDGD9teFimXTOFGxxfh+w6niVBL9nzUBzt\n",
       "nHLV33j7U4eoRE6OwsBzSFsG2hBbfVMwosV3j9jT7WDLMxt96lepDDiJU4kfIrc+l8tiDp7sfeIn\n",
       "+g7JRUsRQRSpboSfdFtuSM9i0heUE5HqwUy2Vs7wRdy1ekRDJOieCkIzX3+PHTkcZ5pg8y/2b5YM\n",
       "/EgmISWD4tF5mtaMvj9axaaD2uPVhFfw/Q0YlwmtqOorp0aYHHU90XoH6kLxsSCf9vWsuBWl3Pb8\n",
       "L+lq1aqUIrFYnOKG26EQPaQZK/ZE7hYdExOo3Rh1mMqMRVnT2M+pTrta2LxecaFQXXK0K7xbmDCi\n",
       "kgfXr+CBO/zzJvYSiBNzO/bSqIldUJCg48DF3McPNjlMVnuQSg0T96eQaTpj8e7K+G87Z5DeYGK0\n",
       "oVtPSH/2/9mZQPum1l1ziqPl1mecUo7Jgq8tZEdBRqgNf1r+2UjT00dh8xc56vEGZtvp0aZpMJxs\n",
       "Q1eg4eKB+q7IFnkw8MhzUDbux3f3UKk9EO34QwA2mLHj5s+o43CD7rBPrCd1YDxVFvYrVGQKi0hi\n",
       "R4HB2CfZep29SObEkKj4P2XnPuOK5923NJeLpQmxfhY4+uAOzUpIjUT7Q/HfUigOvrTLigrrYx2e\n",
       "DZrDUGRhq5ysjSuPSssgAO+8s5ALoRKjo3+0kKqBJVu94w0XhFPA5/WZJIiFAngekZDIrUjCUyQo\n",
       "LBYjbkMH7mS8nXkkQ3ltc2v+Wwr4whUEQ3mvm0Nu0iQbHl/S+LeOpJicdTDrSX6vyxMRBHr4amX6\n",
       "VkggPMI0o2Lw4+u4g+xwBn/jek2s5YcoEuywQ21+NxmcsZZk+hHClIBlDiKuvfNFYdM8LA99NMPe\n",
       "GetWCqii/UJTPHa8X13phzJ7KvsWTvwEHYWEUYlujW++oDwBX2+gU9Lkt8eMTYV27BUf/8a5GBPd\n",
       "NVSwLCesBiogroHvB1DK8ZXzcV3V8yUJpFCaxKFKYXnaTUrEET8+uu5oUMDrXBwxTe6K8flH1C91\n",
       "tQuHx/gJde4T7/GJY0okOlJ90JcSh9gOknzNiGlelPykUtnLRMCMDzxD6/3nLG239MAp4R80ZKMa\n",
       "LlfWlu8YqmS/ekuUSy0Jfc+CfAfKt3mBPydnjZDjznVIbQ+2oEcIYT4N1hezseYbcg+COtk8fbKR\n",
       "1niQFOrklUSGUp4jj5kPOhdqEg5wgq+lRKegxJpqEd03jXr+t+1qVuSiRGJVF1aDfg/oLfiPJ1rn\n",
       "lbLqdQHD2hQDQUOYCBJiPc5iakCD8km86A5F/3r5z/qJgu4unAZVhYqxnar8Biqh9kbAtbtlnGg6\n",
       "tqRgJ00EmAtcPtX5zi0Ya/jIrhdiXBXqxVeFZeyF3JeFh+7uCKIjrlif5UBG0p9Ammv1+RC/Y569\n",
       "skrMTx0RJKveeq6EIWQf4TQv7TSQGB5jS+xfy4UF7wpp7x8A33QO6VT8Zs0RAnQtlDwgNcPHagVi\n",
       "3YzpFD29Z3EmrylDBPH47zx3E+x+Ow82a8c09/i2iSZripPc1uNWeNNP4hEZs7svfmwntOfU60qU\n",
       "saS9uLvJC6EdPnbs3Fu/vFQb4N7hDVf9/F46ziHzxxFbAtZP3jWXeCNmDDb5tww9S/tELesnQamK\n",
       "NKAWc+N6oV9Wfxd534UaZZLhLmnjEEfurHdajVhz16o+3y+6ofq1ghgWmKWMFZSlTtV0RZh5glkp\n",
       "aCJGmgQ0OZJxBBtpv7jkCDfeI7p3dMi/wqpz6042yer41wITZm7mpKWXKkTEHbFHyl1R3KUsiR6z\n",
       "0r4dq0Kk0cuQz89lvLkHQHQLHUvqgEo+9y/PfgyBTrP+hVxvNxGqPTztyjx6nZrm2ve+NcTCF+qk\n",
       "G5Xvnpy6+SEYoq6Q7y9O6gc3PUY9QIZOEWBqeqI3OhPq/NN78UL/+3fxFkGvo59MIHBM+Z+tjCcK\n",
       "8WY7eKvLwuacqy+mzp9gb1EO9KvwZiQYaY46TPFG03LZ5Eg4ZonE/Yu5r+t6+zBgw5Zn/zbthWVD\n",
       "5etXMoet9sUJPdlCAiYrvfmv0WhACGY7tAajORfvT1oTmZkVIeN67WgzMDeFb/jYAEStxv7gtsFo\n",
       "zusau+w32r9CAvxXr8Lyv+S6Xa1Bwh5NN5eR5Xu2058Q547N88Wr9Nf0AlvgkdCqVu7ogCuLyAOp\n",
       "LzcSFVKjkyJk2aYt9fvuucPoOICCAMOAkNAnIYIHZCIfRhg+n4n+MoxP/oPca1+sTSkIW5iTTaZO\n",
       "IvVpxDFk9EA593z/njHE7zlCQpioR8lUcn+tIBLB80o0ukE17CfbN20OtEj0dbOFY98qj9Tvyhq/\n",
       "NvONXEfDkpWnX476OgkNqGGg7v7gzAyCOnzEgQApdsdQJ9dhI4RpORNe9bNzLj8KipdU7WYYtK02\n",
       "h34xAFCh53pshcZJRCGqHAnronnf8wXnUXw744JfwUEZBvqZRQFPTqTiKMRyRRjrmk92oSmbwdEX\n",
       "Nd/wFsd3PhySi6jPvbUd8A9c490M7A+B8lq+tcjuXz6tTymJ5eohTl4C+Q5+cmWSNrmXTqqgkU65\n",
       "Y0iUiFP6tPn1VZIe95Wh3nVIA1YCAB3V5G70PtZtvRtLFgMrY8nZA3/H1/5/vXXqhYMSsXNSaaTh\n",
       "MU3iVnnMoM15dqnVYbs1lUKxc1oB8B6Qk91UQQEayMm3BWY24aUNffUhvm7IebIlJtE46bCEo4rU\n",
       "viOcuHXZzqJSf4kxKtih0siHQuCdyGed/eYO8Z7rvQnmyh2bvmUB6K2gy6dXU97Pfbq7S78GqnKg\n",
       "KGv7q76SpFOAAEFkd4NG7H2WVFYQzRhXdMEu2266CN92t07Zv5r6ZZ0d95+XXlAO1vnZhBe5lB4r\n",
       "wdmjhbIhdXuPRQVhVA+Iai2xY55NrFgyPmhfVL4e7D79G37/AFxwSeQcOixXjb0fvWCHx6BCUSQR\n",
       "6QqI+RMr1CPPelIrra5bX9CgzmkJiv3+lTb7IoqcYFFxGcZWnvkrtonPXTUsGaow0yuhBau+XLtw\n",
       "Jr4AOOPKRqL0wT7YBUk8zprDLA+/2uYYSUka8744CKxZWWBXpfHmnaNFBCYwB7cmd77Fqvj5vRQ9\n",
       "H8ZMaTo9aXK7CTzWGBXE5RVXXi8UeDTMe9Mpx5m0oBTaIN5StrPdwMiCPep5YDAEtnHrQym5/8Rw\n",
       "Itk1Fx6Pz3+OB7Br+FxoOwAzXB9yBBtmf6vaI+IqyQJsfyitVk3Afdl0myd0Du0KFxBzxkZKcNHm\n",
       "o9d+M9OpDNS5bSBi6zZHBhg9JtwNDAJP/qpRsrBJClfrlhlgYjGSrZMBw4IyCFAKS40StcuFqs1b\n",
       "eV9UA3aGBH5l4GoD+sNztgaruLrEvKLvG0oJipkLveAcOXeqCnTu7Fi871FDjXtpC4Dx2xY3Kbwn\n",
       "kp7ZtMsNAaiHOppxWsHBvowlLx590x66EfnVy2rKkFrnW6Hb9aR6gW9QcgEcJQYKg5VL1J79Ob0V\n",
       "D+6yD6RfowdNBjpcAjYE+c060S+k/pXS/s/xbMOlgYNMzILOieDXCs+nBzUgMNZYlY7UOizF0mLo\n",
       "BvoswtRPufgpmx9Z/brhgGV/ibo9SXni9SyqFFKL/S03nnPbvLFT9qVMq0yUPGs3L+Oi6ArEFoX3\n",
       "kcjgD1CS94to7yBa4gQqvI/6zwE3rjOCNXlHIoFlYgYXvBolZyDogHDkEeSml2ChiNjbENOeI5/m\n",
       "YIXnKmOYeYwL0ZY0ktGXEWKhYnENOyJgcQvCshJw6A9bn/UU41Ujhz5YTAc742PduOW1EzKSyh3v\n",
       "zp8as63eV025kKhL4G8I0voj5nL9llKKvy66vLeQP/C39/Sz+PIgBxjl+B5kP97dziKgTGYnuB99\n",
       "twYaL2M/G9WrOjM11Ekg+d5vTVKb0/6Q76NzqnBGlTaTvrWNI9PooxK6rvANqhO0ko93eq8ZDVYk\n",
       "g/YAzxiwR02cMEAKKHE75Jj6Mu2e2XEqG8VP4CHG2M9gAklPheCn+crxiBk0pHg1V+mmX0IfjC1F\n",
       "mcwWSsUAycsMzNi0OXQnx0M70QiQOP5uvHWdiWYEirWgCCfqyuk+uf/RsdQO0VafA3zzUF/YnuTq\n",
       "Xyx8pvrZloLcuo/gwgUKN7xUN9dfGFQhnQCaC2E/uF4Z4ERoLWoPpD65wJoXo4Jmk7Di4a9/7CuD\n",
       "E2AHFNuKfT0a5TC9X+b+qpPgcJBOlu8SGTLEVNGPdrgBCzZpCEteE9QofaR+jT7CK4HGrtmdy2OI\n",
       "d7Akgw8V0gaNc6bzBDflmshQ2OfUeZk1I3QD/KmM4yktlkf+wX7suABS44SlSN9VF1an0VYzXDr+\n",
       "WxiHHUrgrYNufe9Z/6TE+WdH5LUh/EKbCR6/qzigYBwkJdhVIXIpeH7uPdPXqoY/kxsF4XckWBpc\n",
       "pv/I4GYY0qZ4NTr6rvKMzINnyf95q+dJywXXlWmwaE8AvcT0D9Pf1sI/sFfi96R6FDW0mOkrCT1E\n",
       "DkqZM3Du1SphBB9qVrnA8e6ALf8840yrzm0rydQ4efuRyvvPJYzYs8XZEbmLis+zMb2QyvjUeqf+\n",
       "0WuGDqNXzA5cLrnASrVyhcK6G4jkKUwkkn6Pt/vlZJw6WYLvqbYIwEASRy14MWjbX1ypixOqKuW+\n",
       "VhneJ3Au4Qb2/h/r9u+QjKzXYZAUNMXBrb73maT59Vb4A+taPpWJwb01ZZ7VjSIvSHWt1XxhTf3S\n",
       "m4I0Ax1Nh0awctlAyQb33tSo0K8czLCX0GHM55GvoMCQt8f/DzJm24IdhsdH5wiKfYgT4bkzqWOZ\n",
       "XGggv820C1CtH7jWnTe6iKQt79uty7DPVBrsAAL8+6pUlFHT2YtlpdaEl83ZVZLgdEPiHdAkyYBa\n",
       "wagUbe/j1jNEabHPr0bsU9oZkJ/w2JqutzvfEPkNh2YHy/vbJk+aFpGiUkyrEeGNaVzE+4jTmwan\n",
       "kSM6Rcmezg9rMze0xY3IvZDkWvN0Ihgpak2tFe5nsSzjAQ/OjV4eQGNBuxZmauCIr2brhWnWmNhN\n",
       "+M0zdX1rDluwTGT+VmNi/znlr0ywACJgDIZlRXrkUbPtNpIDL6opf7X6z8nic47cy0D+EjtYJ4JY\n",
       "ZcBaYF7J1B+FxeOCfolPMhXzoqtvx+ULtmSnJZUW37u1p8rUWTx99lJIsZavU/h5KZPTszTs4DtU\n",
       "MbCPrphsTbPWrLWJMbDZZwD7QMZBlgPi1fANvkZCq0OD0L9xTaZI6S3O5VDg8+vfkoMBoaSmqaO6\n",
       "dbLO6aMDuWGtyKbrJr1imFyWVjO+SkfzV034c5jYs/zUsfwVld3JKPvgRoI/qS/nbIAA7nRvi73l\n",
       "Pht2Wmtaw5e0J9qIX+Obq5L+gUGpAmJNlEdZmuJ02NVmcyz2HyAJkeS9f4VC4jyxVcfNfR4LgImr\n",
       "wZr65GCSkIseF/I68I/DDG8eG0gGIOXPAiQ5X9+/EF0hdMBwF+XCA1V0yXxTaZeM6lxoTiGWLiVK\n",
       "VvMmQJgc3qavzk86uFOYGnLg9TWOBpcXGFNeP7x99OgGNKxNQSJBaUcNoVnq2ux5kkk+4I97/Y1h\n",
       "k171KZe/OWAuJ/u8SrHyZPMOTbxvSwxz6fC5Y3PY97k04//HbFUqHKG0oyzz5t4pjixgxmNYAWBP\n",
       "tAfDorvKzNkdCa0KJqrHk8/pvwIeyaScAdLHX48HRqmfS7ckgK9H2eODIa/O1IUPt6XX+Kn65evj\n",
       "2gIsfmdakgx9sHecrCCEiUl8Jis1kUbbapyEN28yubwZO4Uvp9qu4NwsiBeIx1+7w+/hZYbwti8x\n",
       "oQlk7GhMZAd4AE3RK6sMUubBjaO2s4GHnCg8B+WYHsHPBJUp1B7QaiKVkCtkzqVesvV1nS9hEmiz\n",
       "/Tl99zXgi3U2yDHRZszpNYQfRbTzezk1mn9THFsmobUmG17K9EW6eeMBgYyNzpYFL4jAABagAepB\n",
       "3f0uLGGzqyUgGyEaIh1Y2dPJYytpiHhndhyQpa2gMGOcoW/vp+hqyKaqZ3Ie57Vtm4VWHLlbKRCM\n",
       "j883VlRyNe7QstnF34V3mfM4/dDLKCf3EZ947YB7Ef1uaZchW2l4Nx6m8D9GGqGHisoXnJMW0yfK\n",
       "JlY7aY/yIbkzpFJWssjUa9C9DviBqEEqB0+OhFRM+d0Tp6VfhBYCDpadoYmJ2CyKTQ5r1qJfEuq1\n",
       "fdGY1+cBTjeu91ZZnT2FsJVb6A+64lNrH/Owm82cHdHQtuhd/bTDl58cRxHoill74FvmVZyt0Uie\n",
       "RZAk9SKWopsg9/8Pk4DDAM1aKAVOe0EFsc+dhGjARdrTrv31bszvcN99BcMWClDQaBRTZ0uLGeD+\n",
       "pk/TCF9BXF9PpF0ntDygmm3nUmucXuJPPD4D4wwAO6em+cCSDRW6hxj5yDllVsf7YzxlpXRuIPVU\n",
       "/OXLFJNwf2+0F5J4dchLV+s0tn/VOOJBeNBVMq3l2frDfXwTAA0RIVj7BMeadD4/TENN+kam8VnA\n",
       "dce+jrx0d5I8nst1sA0i4YKQ96rs5eFuvCGktsavRs3NkkSPcI+gcTF3BjysEQshCd1m9zsAnACr\n",
       "gK9s24u9Hh/NiwF73T/MtQ42SErgLVjmPaG9axqFWVU5tfrzzP2Zxd8yEvgAqIAAAAMAAAW9AAAG\n",
       "CkGaJGxDP/6eEABkarQAJ8XH2y8mmdm+Qa1y36QLS0/DDFh5Hn8EuNkXchNosGtBNVbwAA9f+QIr\n",
       "3ZLuAEO+OE27cKRaGXQwiFf3qJIMnIfwx9aM4WWFhWdq2Wv78Eij7QaPj3a6hc0OQIKaIH6szsfn\n",
       "uXMcxUDV6wL+pXmcYQnsJWNrW/g9hnBuYbiO8hN7WjNq+BO0EUuwrLRUkI9Q7K21cOOZy1LdnB3M\n",
       "rfzOl8BYDlZxfr8OifYRhJbE8nPLej41WzqHNXbQQwro9E2MI1gdHcBg0gYNEZQdUJf9bF0MbZAI\n",
       "KUs28kiCDkPVEgJAF3WJ+ZheBIPtGtdDKtAPZcfKSAR6RjEQG1n01cbAoiCCJtmSMT21Iv50YFW3\n",
       "MW0bSi+4yECdSSJ2hy6Zb3DjcWAeoM8oM+Pu0kY6oP/XHE2ZaI1/k4tsSZ01lOnFdlG/UP2t1rNM\n",
       "h9Fum7toT4y258O8JOJQ62MKyr5GVggfJPYtiO83XYlI5e00goi/NNXowD85vO1/ZzFHREmeLy71\n",
       "QUFPt01dj3HrqDiI0yYWWy0oM8hL48y6cxyV7Jt3foi5lhyBOHpaVnmwSpsVgwlYWUoNyDJ8dfyd\n",
       "fZf2/+RExaDNF8K8f0c6xvlZWkeciZKFmnMPvxx22XRA4JrfuHMxWaIVCoQlbJtUWIABhHSGCoRD\n",
       "8CQYk2mxVYWkE/bqphW5MDWU1F6jmDR3SNxING/hkMmVoTma8RxMqUkQ9gRg4kwxigMpYSCUWqF7\n",
       "2gecQGDuYTFod7MiHe4Ykc4mi7wT3xPLrEoBFQTtKrpzRZLZUJcy7CY1mh/kZmevIhA1cf0+HuxV\n",
       "W3EJLjguTf3oY5/F4kU/YuKe2pMtcDP0dQvhyLuHO5uCtk4wdsZ1TTu3Msh5wuOK4xvxOi3kxhDK\n",
       "xZzj4glvOYazQ1y3OHHHpbaKUE6PQf1Ux1KFNfeqFbNs/KNXd3rtUGEmsrh7hA1fIOGo6NUDyzQQ\n",
       "KtiCDWKhv9ihQMy2r71YwJuJAB4j7Y1aYbzaeiZXCQkVV3K/Jq9rOBdZfE2vVpyX6IVzEN3weQze\n",
       "VHaqxNsIKwuJwLaMPtIeGdWOX21GElveyg5kBpD18UdPKduBNiJnoJjeob+z22MaoDfanfN+3W6G\n",
       "0oBv+KtpGQ4X55tdsCOZtmVNmkJhAaWKboA4zsvWymoYV0fC2IUx2Ek1EEFjlZw/6jQ8AMlonZ8w\n",
       "IzzArem6aW6JHWoBvWCloaokgZDM16y3TKCh8t+CbWzvdrT18LRTuLpnKa4AFGuQbC9NFm1p3tSs\n",
       "J1LgyRtnRl4LodDcxZm9PByB6YkNHRAkTKzKwFYIYNAWar0CSSNr16Nw7+2UfitQCjI06AdRLpF+\n",
       "fddi6Isy/n2mwc8nr+GPVCZ3PnAcvhM9ZUEHt9bK3wGmFLvxq/5f2pNt+elnz8ck0tyoVx1OSvwI\n",
       "xu6kvlKAzTI1jOgIX0Btolq/4R6mrqbeb359bfIf+25hLTeYBJBWqyoLj2f7w7KrcUFwexy19FfH\n",
       "4JSH8orxF0P7UYbpMpEcS25F8fKFt/ekiu06czvXvdWBBTdwmzjwCrwDsVJgyz0zv9AHyf6eggjh\n",
       "dHWv9oPldi7ofGOCbgW7wCcSmd3MUEBe0K1rp4mijmFix+/BgN4bgz8Kv3aKw4Xss0jRs+/e7qUS\n",
       "eQUi/r/oh/L5OfFyIIZJvDNCXKBsQRAoJGDjTbsmsZWvgj9jMr/F6SLTemIKoKDovCHxyRYYvc3m\n",
       "0ClOa2LF261q4/4ZWa1HOJrH3fulamB017KKuAOwkJrJHYuubBiNKjSoy6ZpH0ngNAniW1d8B5ab\n",
       "Rk583yAfUQnzWMSg+Q5wu6u/Xip+8XKJmL2MNC3yhEEw7HtrBByL3PDDK38S4flfRRW/kSQKKyLA\n",
       "edhMOWRJOvHEvwOFdO7pDGnAaGCHX/PkcDMFrHKF6G287VniK4Da+DfYp6LNMfb/bxlB44fjQgF5\n",
       "T4+7eGILipyWdKmSiEcGj4cX57SXVo7I4Argm7cGklCSs8nQPDMf3ZXevamwFlspZCi/nvSbL8GO\n",
       "3UYuIbSyGqAAAAIeQZ5CeIR/ABJX9XZoz6SBBudShFkKAEwh8MpeZj4klwmu6YIH9rl4yBdNnsvZ\n",
       "VhtqVdVFzl0/Fz97Y1c4UALhu3E/Tl3iOXblmo4y3b9BfYQyC9wPIRobx7MqpG8GdjYSpgKQJMgC\n",
       "tp968eVvsCjQkS4QCySsKDdCw8NDsTiTJAJPCWiFU0czB4CSQW8DSe5psLHX3agz1UWBiGFi+74z\n",
       "Q2PVIJeu4E6WIVG/RjyxMPG5zzHiMtArh8V3NyGX/7yRRS5cVy5eDB7K36nTjf5hhRZZSfsj5zZ8\n",
       "X7feS6CB8ddTYAY0yOJ2GsC1TE+U7fi4cBUicuLf8z9cWDFebF+Vycf7xZjz9eZZRQRtJi5uD1PL\n",
       "Q3RpGC8OLSkfLwkZfflv26CZiig2IkTzFvHz7q4wCb3jGiy3l89EmeKwRbr6m2Y7347sXtAHG/g7\n",
       "tLqLr66Xyi+Kuw+OMpUINaTJu6gYLtADQxxlFzfEau24DBQhQiF6GbeX5Vq6BheyG5Gc7GV1Rv1n\n",
       "PBo7WikcVyqR5eaenZfRkxBzBYiDj/WaaVWlUIf50tNRXnWH8qwa4hJYbJ1jC8h2NUN1unK3zIIt\n",
       "eFtBr83ZijjZVcaBf5DasEZLA/pMlv/pTwYiPdMurGwQrT/gO2YyVRwfq+0dNxD1zYrnBxeWhxUj\n",
       "HXMz1NSyaq8Au2ybQWLN9vLrkRNyCeL4P0N2NOY5HHkDAZks37CZAccAAAGOAZ5hdEf/AGmvYzCD\n",
       "exxOP/QAAAMAPzL56saitNPHtUy3SroSZTEZg5rwc+vPiAFU0cboL8UEQfVvQmMAXO6azRos/so3\n",
       "mAfArnylCXX8EZWBfapNRtea/vqIhsxyAw2TP2cSaJnfce/fptdFkAPFJK3TiImFYEV9nK1QB40D\n",
       "2Btopo1YByltr/pnHBF4gxhpwZ0FkSquWtWJ0ojR4JzReyUX254M5sdY8GIZ02TrHKZ5IGp1NVTK\n",
       "7BabP1UUCaR+wI4heWYzWz/EuSjv9K/aoCoGO/BV23knWAvfKtVD87Gw3HBMUbk3oDR6zOH+Qstn\n",
       "CC28Qkm4i+5wTPkIYkTnv4guejF7wHAYHkDGjpcuK0rzFNXmt1ClPLic0O8jty2y3GktLMlwjU99\n",
       "9FVjJRTffazt2oTt6sTDNEHUswdun5zjz7suhBInoIHV/RjXIy0oFOaXFk0KfW1ThQqtBrxsiN6p\n",
       "/5eRK6DuAMAM3qv3w9GBpvUmmhBK+5ss1lUURx4dOW7ldWSD+8KSZr7g8IAAAAGPAZ5jakf/AGm8\n",
       "gG7Y5XZxuQgAADiWzkRprdGZhDcJGORbrlebKcMdw/1i3Qn47TqtbIp3hri0hrw1VRhkJD+l5cxn\n",
       "gEsgVEQQlBE9ASIKWAd6agABWtIIOzlSYahYVObyh/Y6lf30qi/ShvhKf3BDlyhpthQjYmJjWKtb\n",
       "IVwfy3uPCcWKZ0PupUaeG7If2jwIRdeIOvmSBJ283j4xvzdR+reT0D+pK5QH2g6NCjYbGuY7Pqr0\n",
       "XUlDNnz2RVthZwjoViy0JcJap+OOH4pWo9lehlgW5b0+4tNW/cb/uf5MonG1nDYY+184920NvEyJ\n",
       "WSrU5CCi5M5u3vtVFnm7hPHOTUosfJ5JVKr6VapvyjYTqUSBNbXqZ6bRp68qVHddy0Q4gvAAzZOD\n",
       "W8hinhdi2DQUDztWrOZU/q0V81PApFqBl15Ccrg68qcBj0M6jGc/XLemWa6bUp7XExFFbU3LM0Si\n",
       "wa5ZTE6nPfqqDQ8jce26qGcDHSInkS1xacrmtFStSEFRSYTH4sUj5xA38jI4mQFlAAAEU0GaaEmo\n",
       "QWiZTAhn//6eEAA0tTM4AOUQH2n8FtBgfwRCKE2WgAl8d030+4JWphqmEe/AcjHN4z3koiddu21K\n",
       "y0NYCAhN1HBUjkHDyRlNQkyVHpf712I/68hefIX+eTJWHGw3kG0hXNwb8FEmkNnnCH8k1nWFhp2b\n",
       "v0yInCmREa77BPrbI7WSPCoTpZQ0qYPSGE6Uq2u/56snDjLhEtZIgk7emQDoN7AiGkwBETnjuHSg\n",
       "CMVR4RLWCNI1iP6xS4E/68EzbN527IhJVitU22s8FvfjNT5kvV/nb29M9JEi69eScmltU/bcZQcA\n",
       "jq6VGqOvPOqZpkBS61yUETCaT6mu2RfpJtCSsxCzzQEdz1GZC1dXo12Bvf2b1TvgQ9q4ICGapp6h\n",
       "1524O4WbN8mGiTAhCvXlk7SXQUyaxVGeEGWu6thA42DOTYCfU2i6GPxKX5Kx0v6tZJlFgqIX3OHo\n",
       "ic6+3KAFfxWOHFngFjJBA9OE1blVWzH3x1/z4I4aZBixSJa5VbHHR01DyXq70LyKhx8PtVOaVvVy\n",
       "HVgAwr34XgKNkY5XImWHDicr2vWgaloGTiLNvEwX+LKd0MHCQDzbcGcPcKugAqjsaZJOzlFQnXWp\n",
       "WkJ5n1hJN9fmKXhqo8ZZu4EOWnDiLi2TnxTrUp2pCnGe8jJU+sLdaxLPxyGucI3WupG0majqefy1\n",
       "Y+7BYcn4PV6JuLz+HqqUxRfUhC4o6VxMTNZDJIE8VVo0yLrdIv1AVyuGo4vRt9HVzn8YBHi5XhhE\n",
       "caP2wNYvjFtMNOhOh+XUJA5ubCDf/DBFr5nRHkj7rKqw/fc12HUGhyhA5f1Lxy2edM1rCwte5ge1\n",
       "tkA0FThi/tzSjVAGdOss4HqEmipCR/lNopCPczD/UO8by/wOH14eb+GUdvytZily3qw54oRRVcft\n",
       "cPkkh/9X+pKIllBDrOSKyaFjUIGxQkEXqKWvIB6J7KV+5L+poZe62xQcpdhCaY6llL1Ca/3EGWvV\n",
       "KfxVgqHhobHXHyTpoW0TgyzwkeQ4o7u2s8ioLyJBL4nKuCKu3XU9fdRPQQX3yACrPxQQCAuZSbmn\n",
       "7CJyCjAG98pqOgG20w+lHeep00ZgrKarmLob2TZm6GcQLJbrwIyM20OSrBNZ6QAOfoUQVyLMggZn\n",
       "L3A1rbCSYy3P61i0o0ujNK3uuvLw4OHC7eLrS3Vq/0/DpOjWJJXgWOvAcFNL7O41E74x/k08osJJ\n",
       "fS+tZ2PbZOk0Y86Y5sY7BvyCbHrz0kvvBfMtH/SYJ4VQfa3ALjdFZZ3M+ygn/L4p5pYxDEvVS65f\n",
       "SjxclaX5oGmTGx4mhGkK2/lijsvtu30tf4nefAawIudpNG8V7vCg/kuGecZr3A94N6ar8bi+fSL6\n",
       "5Dw4gX60bk2nnd9AYZ0Sal5MfIMs76ANf0njLHRWOGLSs5ejU3Tn7QnyThY62tyD8Hvk4TMpCd9h\n",
       "dv2qj6P0BCaIZNVl9O5ttN8lkwAAAedBnoZFESwj/wAQV/V35N9eGIAOTrgPRd5+2GGtR3fNTMvM\n",
       "7E0ra9Wd4AAVv570KASDEEumUWz7H+nRpmfbrklvHmAqqTH0o9bI9h683Xsm6nlE0/aLw94nYQiv\n",
       "O5rG8vXfOhcrV+nl7/rMmHcDMTo7hELnBP/D/raKMFdCQV5xs9XiiF5mp8/jUI1H7K5EK5AWA+RJ\n",
       "uaxYLOaQCLmZ78R9qvHzsQ7o1aPVWuZVjHg8ybNU0J6KJCT0NqnUaMn9VCH8gMHznE/lXj4PVSx+\n",
       "7KB5r21jdCkHcxUMZ+ozlK0jSVjmeSo8Cl+jWqFV8+NqfVMHTm1Va111s/XfhfIFHMDTwNuaZQhf\n",
       "rTfA053yuNgsm+B+dXsqvHobpJQeNxZA/6uu1I0AY0nWW1pfZmV4QdLrGMPLemjkQDmkblRqyl/3\n",
       "EvkB2r5TmKhbRBhcTzmQ5fGjPv+dHNpEYLvBUg78/eMo8en322dNd2jD2/AQYrGLw82TSwDnj7SZ\n",
       "/Ld5P3hAylkix0Py8N0s1SEnNlnYOldtghW5Zh4T0GS9v7/cz3hkNHZNNPz2f5mtAGkTrPa1aUDu\n",
       "X93BlrI9GuMj1LoyCM3ByTEAlzTxQFV1d+mdceU6b78U9nGl5lnZHUWCcPc9X9GCZUhPCAHTAAAB\n",
       "lAGepXRH/wBpkNX5Y1nSGjsAAAsa9791Hpkniam1itPB1SZraEc1XQQOZRV1VxWcSJFYpOnbgscj\n",
       "ABGIwG1U6bMWKkmz5EJHSnMI8+30uZUpYjtftXHF6+99wqbQRJP8z810QMug9kTXFyOuKv4ztbyI\n",
       "zkUZtdDX/IgZunQiFeHH5UWKkF1yts/ZtEbu0f5ng6dMrLcmh2AR5DIbZ2L0POoqS68QKy40U2lm\n",
       "srtFV2HP4uKxiK7zKDrjVChyDgr1d0mZ5oHALtsgKm7q0VK2VbG7f9LjxtBC9Jhj9slGulI+Ar69\n",
       "twCm79ZQpuIFnRvsMdQEe0jYP8QXgsfZXH/AXEh9eKRAehtMH1bnv7rIADIIh717eWmgqT13ThyU\n",
       "GDU3b5HUum2YLEt0n6SUluEPnmmkmWcOpqJXHJ3siMBj7erVt1LIFJ8dQWv4pNpIgNrSK85lqe1l\n",
       "J2lpriHiSvEqxkhmi3dILL6MYj7oSVeGEPclRGCiftYnM3NFy2NiTnPdTgBS8+u5eZLy7mCUIJ4M\n",
       "xKNQAK2BAAABWQGep2pH/wBpfqvr1c/qHzTvfzGZ4jhhIhv/MeaTgVuJfHBZqb5kiLp8eGiDSwBo\n",
       "Evh9MIAV0RK/BK7XRRep7PyWjuzOd8oxxetLe+xNSyzKHBo5TsyMCdWWE/myAa9DRa9m8fiwx1+w\n",
       "n1xdr6e04xEdc1d4q7NF+raDYD8ygisLrI/gAKgv3/zz6Css+jxnfLyPttNXvd/CXZo+6ek2jUMF\n",
       "uWYAC2I3B8KMszo+6VP4uTcIybb6r/kqZf34mjeEyhDA24fwsAY4dRaxJ2rGSvoXdE/qTCkykQ1h\n",
       "9nJeH6d0cUa5KiSa9McYAYItZXR1Cz7RkfZLNFNtCYuX/6S/nHbEYNwR4hi+rUM3uB8CvnSQ4ZrI\n",
       "CL3mbHJMc9B9COnTZGX8i/FJ+ST35DJJM5KzOS2NR6QeXbPUIIBOpNgNIe4ypEF+cqrxEWapkhNA\n",
       "1+/14rbVe75cSpBtQAAABFJBmqxJqEFsmUwIZ//+nhAADjcJzm3fSSf9Nt45VWm8DcGfPLx5NHPq\n",
       "/5WgBZ8i68hdYfFKm3joan/Ev1UsIkHkkietkFLefafSJPdKe3+t1v8bC9yMstdLucUmvY6JKOPT\n",
       "hhoIJge5Z2Gxny3Oew9oQbKI7ysxOED0FJxNAVTMSI04tGCKIJ7yRop8nJ75k1KPzum7exdmyn11\n",
       "XRqVcOvCJvLwyJE3qUWYdlZDQqw3HiZEjS2tS4o/bus54K/eJ4Z4R47NUY8r+aLCBuJrxr01Yoc6\n",
       "CWge2hE6E2TBZwvb1rsAL/4PUi5zkReCd+Y+1IRNm7UficEM7tKAG47eJB+Dj3gtrbDJTNnos+W0\n",
       "UzPTXD9eesRk/jKWu9jPEcqS5vKXiH8+HPXtrTPIm9xx/jo03zW6v9y3I1YC7KL0fluJ1DrGoimP\n",
       "WcweDGGKgOLpyKnPAU6PVpcK1FywZA+50U54hV6Gv6eOW4Ah7ZLmTyiilepIGadIGFS9Itr/Pqry\n",
       "hqiD/cjy+qmyurEqd+LFOB3w+Ip+lq4b+c3ViePKo4JksQi8AHnlfCzEbAWKocRNkkeCVOVfTQlj\n",
       "zavYM5Jin+SBuQD8Lb+d3plOfoqfxXx3Y6SS0fM8SbMk7Li7HRhKpRXlN4t7gM1UyauG+ek73DQl\n",
       "hu/AZ9DiFoOzu9MrY9EaOTiwy+TkzU/jgoC5DAKanc9hy7bDapLdnGMhb5KX4yp6nwUtIOHkNKo0\n",
       "k9FmNWbBCKrO6unMb7OJYsP4J2FqVB6dS2mpKltpaqxHFRJ4kXxC1/gq8p9+KD9nkpqp169AtQms\n",
       "yy984l7UhNzYBicdyMLdgF8XOS8N+veJr90CP+jE27PzRW+FpYtVq3ARzlvDjAXzI/iqzQsSsd9u\n",
       "Ceb6OQuQdpR9XrozKga2Vu8UA9ouEgy7jsiuUjxHhMUhkVCCFEpO/eR+mwRHTOU5wOjUu5+rRh43\n",
       "lbgSR/wi1exujiq868VRPenbFdeXWUZGhDHT6Or4j2lDvf6FdBLXmeXQYTSQjei7EwPPL6HwuCpQ\n",
       "CXuDQbD4huxGa6kXDhJJGUYYMVZDRYDArpf+4VGqig1ExPbRIyVa96kxmFdWV9mV6WN990OuS11j\n",
       "RvJK2OSYkg/Cxt5uUW7gi1nGgYaC3Nt6rHAwHw9Ucl04gH/seOpS+xo759a+BkOXaCHde2YpYDH0\n",
       "1OhBVlYNrHM+unZJPTwjZrLlKmTp3qvPzJeNiXsnqgGLFfunQW2oICOG1m8iyoRHK/2ehPI4MZFS\n",
       "dGPKXfuacuEU1ghls2hg+Eoq7FJfR2Mg984kum+zaj6vlfd7RWUiqJCOCsLVhr0fBdyG0xxgArrI\n",
       "FmKKIjbYiZGsw2mde0LtCwypoRhhldVuAUHBomvNiHL0eg7vK1l91rTvg9IpR1ppCQL3coqIj+FB\n",
       "kNTVzwHithQNUEyAZ22leuYtzR5iOCXKH+ysJ6yDOmlTBAvvIMoOagAAActBnspFFSwj/wAElfA2\n",
       "/UH9oQIggrUf3j0o5J8M9kBk3x5Kb3z8zcYvdHosQytXSwXtRlElBqHjvY4UZIb7xUgbZjiYDqTH\n",
       "60hu/Ccxs63GlJiqO1urUI69oDstCg2bdsRaDhqLUZnOjCMm4UNF9OnMRM6kpK2qT5VPKChrOX23\n",
       "eVSFxaXyUEqMQGt1XzS6WdO8fgIEXgQphmIQLUI/Voni78Ow+vvB4113RemZnkYtfluA10TcJKK/\n",
       "WhUhQQxP8ji089GeJ3JxlDgABxqc4XO1r2Cp9tF9VLs+sviLbnSldrHttybpApYxFs8Hco8Yw/Fi\n",
       "DbUHqkrLiU60xeMKlTsgpb+pxq+V4h+6o7xQnzF7otxBCyk7ndP3jOHg27MRRHTOdaPZcC314QKI\n",
       "YGHNFOzDXiKqgNV2FsQnLH6UjedqIdFLm2loTkAnV7N0yF12ZEHNJhlON5OZfcSFgQQeU0nR7y+p\n",
       "qky6fpoR1tqJuUPNmevIVmFk3RX0kVvbomD60QE6KrgVcadQtBGQ7B38m43YMpZWp3e4TaVp2IiC\n",
       "75Xei6sicU+QPUdz/t+UPGPT8LMpUXmlOaxoRKc1u1+RBcvaCBEDwMPYdApgakEAAAFmAZ7pdEf/\n",
       "AAc+I62/fGZqn78I2azcPZLGeuyKA0NgACtsK/LsDNwO/ijXZR7zFk/Qtzy68MXT8Sv8UtQXA83u\n",
       "lypNwlReidMuKP6n+CmLIqcEgJgOeCLmsGiSSU/wuE8+JFdqsJ3diiuNQf6BOv9xx0BjQmpoxEpo\n",
       "rjISBdsm1yFBNQqeL3+L8PWy8ow7PunOcHr9cshkxZeIizuMHbDbhc7mtHa2+jEueICMYPe1d4tW\n",
       "OOMF7sTy0WlsNX2hDKwhGjn+OJg2E19dnZKooHldQM3LgrcYW1yfBuBYTHD6x5f2JeCKfMESZl5N\n",
       "Y/Bxux6Z4fOpK/A0V27SKpX3YHzLgMZ7qcme9VgpK5LSIfHyz8XBes+sV7SwbS8U5xqrn5VXSlm0\n",
       "thu7S3CAPLLNw+qQyB3lCIvUm+0AAA3qOd5kF/1Yh0nOvLuZIV1UN6CUUcivbf1+G06sB/HrnZVZ\n",
       "YUQkbJLEC4CTgAAAAXMBnutqR/8ABvuHFHo+k1MJDLDqZYy/YrVF/P12n8s+BUItbLtq8W9S/sb5\n",
       "1f5P2cmjACMReNK5uhFzr5Z6J2HKoyjv3VVVNIDQ+E4RJJtoFELzaBxnXXwPEexUnw9B2ub5NSZJ\n",
       "2RgnSW2R1CEm4TyAk22Cob+T53XS6D49m4dqkqSuo8Rcac+mbPsudbxG92vEUMdukyTpoCKAM0pT\n",
       "Hc/jBOPd6R+9co4wr6ltZtYXZBCo7cX/4G3pcMxQ/LERIP3bOc0zrm/kT9eWUTdWbVklwTRLr/XN\n",
       "Rucp0rNUIIwrsepeCqKqJukhGk/VEb5hBQAQcJg9TcZLqm8mpAML+7m6EfDrH2Xne45Harx7xSIw\n",
       "dZExfgLUC0uVce2ajOPSajvfDDjdv9Ud2/UdOyHnOxq1zm+FBeTU6EoAZS5C86WyF8/p4qftxQXK\n",
       "QZ0cqf+3TwxRZxOOsg8QCCnn6Mmcl71Qfu/YLzGrhRnza3M2SPVqHugHHAAAA+NBmvBJqEFsmUwI\n",
       "Z//+nhAADdiLZtMyABU74uQomgdQjnnYL761gmHFwCPOQbykLdVJfBpjQ1nXS3/Lf9X6en7giHOv\n",
       "mmN6ZSsmqWR7gSr1gfhiQicfR/YawgG5oBBrF1k1dVFlh5kJjW6WLN7XyP0nUkzAWA+IdjCCezIE\n",
       "NnwiBRYMFMi1iFVA0qxSgTr8fXLeXktZd5gkd5Wz/aqpnLGyZq8jv//Pa/La6nsYy7Cv7TZXorpx\n",
       "9aNlnj47mPvt70wfNz30if311mByTOysXzbwWphjdSssx2uexveVwUa31YnUj16wVivaGiO6mcT3\n",
       "pLkYY7R9y4LJxxD06Q60ve/gWHyi3kC8I1oAaYV05DUA/FrKjkfZy/Q/0ELaucy8wWw6CoAMs41M\n",
       "8U0ZuTL5YVwWJqgdukjaDTYBecd31r2C/7ExuoS98Npgv/hFZv/uwNIfoevpfq+kpbs0NIWXnm95\n",
       "JQZPr7pIJPjA+yAWwHlS+sEmyppmPgScjwq1BD6MtXRNFUeH+c0nEKSJ6cKZa7zG3HZTO99cTY6L\n",
       "AHjVpfpIeQW2Yk/zfhJx+1s8h208Qdokmk1sZMxrPlYhjkBMZeI7drYhM1vIZxHUp4lWADcet3jO\n",
       "R4l4iO/Byao08/e7zq6qF7ZwqGlvOFt9Kb4hrg1ruKDibYWTGX5QnjuGpGx/Xh/UCsrytwJsRCLy\n",
       "Bzki8O831JIK8IZ4wenhKgetKAibCNyADRBJyd9qOEHJogYiBB6C/GKDI19NO4docMwPPJZnROhZ\n",
       "NRy3/IkEM2P4KA+h9HbEELqpy2bpz/Fka5TZONJABNbTezCGk9YboyTX5pG2rcVD++rneuVruZcs\n",
       "sL6j34JKkofBscC0/xXnu8AMvfQAcjPh8k4wmNdDTM1Fqzui19pBt9jbBwZ4nazQq0LW1qFNzo5L\n",
       "cDDmNyHpzSyiY6FFhLWGeto9CacW/I9XlqBfMnk/hY/BO4ZarSdP70J8TLRqkT0BVH2LQvWc4bNY\n",
       "zsJlbNYYGPgTg/j1pjP0jTyiMSLqgYbhLlI7kLwndMKj/oT5Ob4uFZunDrEFt9QBfLQ4PBdUUeKK\n",
       "NoaQclcyVCZc8I4/e3YOuCwJof7D7qQ20MAoaKV26WLZbvwq9h1SnS86Zh6sZPxVn+LPUixltJID\n",
       "GKuU004ewaV6fAGovQS+1GusYUJFgVmcIIea8NSM+MxcoxINkA8nSthpHRabxn8A/PoUz5DOr6iO\n",
       "M062/h4EfpqLDf/W79411feuUDvkTxeiqGOVkjkDhgK1NPZ63se00cGhgEE8zA3gErPAqEcSxFQG\n",
       "Emx+Bapr/S/3NUPYuo/NaQAAAclBnw5FFSwj/wAEcy78vJhivAgEwRlChMnaARQxvHoz8AgEuYgQ\n",
       "SXrILDVQBwACuJFIzXAiNoKYXIDe+65hM9rwjX0im9OwjCymCxiyxZNkz7G4u0+GEBveH6qWahVg\n",
       "nuXwXedtaaLjGE0aSWuaYZTZfelAKP47fV5zCbdynYLlM9gVAAWRC/QRHAxmQc6WZzjveRmUVREb\n",
       "/k6lTKpWg5J6aP0Vw7vv9n6QYfE9bnpHThZIcSfHJ8rtC62T46nYT3pv5fAEqr1hQYiXra7leNdZ\n",
       "vbQX1c+zV2c+NHpjKUfrkV7VHSeI7HFLC+0TP0h0+elbmI9xWHrcAX/754k57L+UlOBOv1jgN+kD\n",
       "eVfVkUaK99MoQDyUXbMAD14DKtx34afVo3CYR/ne8gvhuoRu+Y/5zd95uP2ol+K+wrYfZEjt75er\n",
       "BwaQBYH4fQA+eM0dyKaE30ejpy18jQa/pNphexzM50peD4fsdFuNr2bRJ8bcRMc2QUH4ewOz8efg\n",
       "Gkmj9raRjht9lnx2J8owasR+oeXu/wSOpLrYpRuf33q15BxbCyMXsNBhTWZ+RcN4uXb9ieRMjYq2\n",
       "eZAY9hBUXy6xnX+3knZ082uaQwEfAAABagGfLXRH/wAHFlUmFwo/MWLMBTAsqW+ePAv6Bj1lNRAG\n",
       "pyzIIoRolUn/ZWACMReOdZO6r4+VNvA7GS7rGi98SsIHk6IHSi1l0np9YbcLWtfM8o2TjDJzvQ5Z\n",
       "EGWGJ1e2Bo2m8UngJxHnYgrQVLmY7gabgP1ywlFDEpJJCSG9Zw6ejWFI5InAoYOSKs364VOuH+6a\n",
       "fGipYc8R+PvkRSNiWOriEy7YD3O7Arkuxr7fj2TaqYVgNMcDUsobAIguCQnQaWGvtOuzvgb8D35+\n",
       "jh0a9NnB9zZSF5DhzRgUxd+ZOxsRGW2BDmRFPriwJ6HHz0oiYrUKRFPrmvIfdsQpDBYEcPJfkAXR\n",
       "GY2xjbUpvBXFbmWuafhDc+7NCBA7GRB7L9i380T3MHr39lgS4brJRTO1i/DhcZRRK0o3gxsQgN9t\n",
       "vOJKD2xuVBuNMgmT4qZyOcI8XDmAGlVaZ3RXbl3MBomJE0GkqfmNUaFAxHlPAAABRQGfL2pH/wAH\n",
       "Eou8ZL5DfzAX4qMaDSmavrpP86xMrLsFqh9y9ovvsDLwRvrPUTiaHJ+P2whQlGHh3tvMZbYEKdH+\n",
       "AAVpmt1GAzSqNMBr97ek5KQEnJG106rZjqxgJ7wJAXHfJzqptxCPiseyPwb/PzQy92/EfbBGCmjk\n",
       "09HPKssAYPfM97qJzTbedZDAS0LvKK+WoFdqy5IVR4q++KPTxTSGcsIUYltkkA9SIDvALDk8rhQJ\n",
       "jkmk1VdP0lvdMvFN8QqvmhmhFC2EwiwjSuop83ampa3SFwjomrebw92mMkKmF8jUd2zh4IgLW8GU\n",
       "dSQovUtSM0SORxagN6R0AQprwbATUKpV2KT6NJrMWsXFiRLLgT7LM4dBHgGr9EiRZTbn+h95n308\n",
       "rCsUOmcSxYyDYfW9DGNTcMR4E5jWiecY7oxcYjmU/xwAAAOzQZs0SahBbJlMCGf//p4QAA3Ir41o\n",
       "NUQADjMxYBKRpEaG3nB1xEl9FcAicrO6W7RiKmP852Ef6WxKj0I0PHjKv2LosbEX6Kgnv2Xwi5r1\n",
       "XiP+O9scHAjoZaJ6BUJgWl7S5v3Xnw8mvkNExfOfHb//qNdHQQzAEq3nL+1b3GuhYlQD+dL4Q1X5\n",
       "e5PwrD2Rw35Wrhr/sLcsB3PkcWEeZkOSei7EmGJMqQY7opfKNIB9a8wa+eBL3iNxzWYxP5U0sHQG\n",
       "PQNTKHX2OSjByL3FTweVrDHK2TTRU7rNpuB2D83oI1redTCsAG4k/sxDWuvu+3Gbyto7FPmVo840\n",
       "fgt779/qHEyhFiR57taZsKwM8lP58SYlYi01tf3KDGkbgncu/nCKc3bVI4Zri1Wrad3NQyPc6o6h\n",
       "yMPVtx32Uja+tsdNcrXpS3yR75ovkAX0JZYnNZLJIZFF63BR0ebA2KtYKcs70R2QG9bQzyCHq6La\n",
       "Kwhfi+lZSrpv3drkEN8Par27Fa8gl8SkBdLI1fneZCJYPKxY3A/j8XDrsMfhM7pbSNrg+O+2FEW0\n",
       "R6SRZDvG9gFRABlvn3qkCBkfoTE8PbfJKTV3niq+jT3XlbqN8rdt+5ASSm1pjjgQSVxY8qLsFmqO\n",
       "71GDXMa2bZ0CI4useNqSEGrCIxfLGX48b0FW6JjkcL1eXQsAsmHu0nT1kCG2FUIs8xBaU9Qc9f6Z\n",
       "b0XixXIQYOzHhzA6IuMOznt05IZYZzkbU3IFhOX/Dagx0MXTbkd71rU2hMuWnAnY3+5+vFOQapz6\n",
       "Dpo5KVx0sUCB1Xbk3TcRRqvXjd8ca0DNaAmLO1vW/v4XRI6WlI2VE1wp9hBclEtglVsWbi5ENEjN\n",
       "8HjzH8Tbkvp3rBrvVE/qMVl5Sqmsy/Bgff9RrNPVy0YX4yM/+r6EqzpHfTDM4Lnu8urhrqJ+a7ZV\n",
       "rl+YX/pfM1f5OY/xZeBfcgqs3amRLWFvijHPWGpch7x3kVIfXJeOOYPUqySn+oCsKWjBmMOHJ7Qs\n",
       "0HCHqYM71JttW26J/5tE7+akq3S+RKORt57UTob411DieOefZr7pZbXh+2a6P11Q36AwHeDFCXg6\n",
       "fTHntBZCOtcrC1YtYZneOHfk786KcC9arQOPrJmkYjw2VcMmUR4jSZlwtQWPGLseVyKU09oDfR/f\n",
       "ZF5PuEgMUg8q4W7+8BThIEUiJTe5cXTfmQB2f4waXQv0+UpWcOVZfqc9LTd+U270uY9xwkCnaDOb\n",
       "xvAEiO8dZ2RJFLVzfSAAAAILQZ9SRRUsI/8ABHWRyFXADNxmz5JY8Je1+kUEeFjZHLjvDWi5YqXY\n",
       "Xntvh7yyesLxBUx8vTXzmZliZzEbAAhGCBSQLwykzC1Ce56cFti6yKOLFRz1XmoMUNM8eW5J2aWi\n",
       "JkMlpGSKWpApILXVCbrjOs2UokU1w73WShXsEPj7rBWmO9fxTFL8zury1GgFMa6r5r/8g/Ctjb9N\n",
       "pWIHHBw0jPgq2IYn+f3IGETBgTWQtiwBdOnt181FJChCvEezeuy6Ij9ZjwvyOFwTNV8cGq7yPk5Y\n",
       "me/534u6S1SfTRbriakc0AFAlEoYdEku/6Gxt9wJTx3FXCb+8ARi0DgtEtACl3KmtBDN0SNX9L1x\n",
       "8xFrpfHu1rblp9LBb431OtJkTJ7GJSxytk1JAeUK0CSFlSLdwLet1MZZiRpzlPr6qzXukAqC11W2\n",
       "m+P9QuaYbFmMqGAEYoDyEDVrfl/52TPFvlKT22G9G8tBIOOFYMmXzGyPzk+k4sqLCkblecx74wb4\n",
       "FwvEC+uFzDGT1okHS37OWCSi0fFn/YuBzaXOciAeqSRVYcnE+1pdu7ZkQqaYLl4XPpjA4TCZofWL\n",
       "pXgH2btpRq+BrVxbJ/0DzpeEM1nUfFwqu5dR7LHalNdRn4LzkTEEagXoPl46uNs/Pl2DrQynUpJK\n",
       "/6zcWuwNF8d8UBB2TssNnLL50YirGvktIl3FwQAAATsBn3F0R/8ABxHQCfSrebB+AEoQLhyFofxd\n",
       "65HWAdTmBvWytdPhTR+QYJWpYXbqbJSiG3lFrgACuiJX4RfGy3WMIugEMOOD1nXVtkIRDMayCz2x\n",
       "XsWYGl9CU9ifoJiTFTpgPvWYZXfp02xxDQ1lKxfQh3ttxkDWcxu1rWvo8y3nxlj8Q5GSjERuH1bg\n",
       "rZzJqaA5Wc7xZbhgXquAl1oDp4plOpepWpUH3BzG/d9kQJVUpADgVbhswND7zPLpJIfOxiEmGvYj\n",
       "Sr1749RLWjGnRLJyTA+88YECyzR6weIpZmmx4kc/tfH5fNLMepf5bikHpm1bBKSCm+KpFFiEpS/H\n",
       "yVxGv8jaKX0j+a7JV+cex5yDDn4p6SbgN+AqQKFHRw1LORiA1CkfjTYdaLAW7ChPt4T1VefTuFrm\n",
       "sOhICRgAAAExAZ9zakf/AAcXiwcx/P2kiRisxq1XFkquCkqOoRWCM9+QsTzxJOyq9aaFTIDvKQBu\n",
       "asK4IA2i5gBGRcBqEGIE+ARCzn/wT+mrJ5Ikwd8GoKbbHgvdEa7p1uao+zb45Hg1AQqOMNzBVxRU\n",
       "amVIYzyui2Oi3nxAGnU3DudlrbYhe0v4armdvJR2bnz9t8Jcunx0ZgIXyqkCqU9Hc04VO16os5aj\n",
       "TO0EsxWyP6I5A5OLZ5RWS/SRgcIkkPxBbpf21BV51UrtGWr/1a03qtgqep3Z2Z3m20UAgoN3jkcz\n",
       "JFzI53hPf4tMiv4tos3lUX7/cnlUqLtiiyfJeDXCNU5o0N0az9lW9k/San1Fc7XHGsP4wgXsXdiF\n",
       "gX0rErFY6NJsHpZnRueByucmU6rOJsdoPxNqgekAAANuQZt4SahBbJlMCGf//p4QAA3fCdHomcwu\n",
       "R8yGwQTiMinb+xLWqTQ14lxeQAFcUPovyChcfcnuPXkZIfCrvOjUCvPO46AOfVcVmZoLKcqZTmud\n",
       "LAQnabU2z86FJZLo3+udAKWdjDpGsNdGXtAIF75HugOoznXOyU5NBju6cx2R55ynuonQuT6vEBBt\n",
       "kMa7mGSa8CYW07yYrLCP4yIN/pGmsXtMrG1kuAY4SajKULW9qaZKM2VWoMfmTPCSFtRNL/QAj4UF\n",
       "IZcsgABS6vJ4dW0Zf233D2Te075cruaKiewSyjAs5fyY8zFt6CL4OqumHvZ3pSr3dNh6oHOeR7Sd\n",
       "8ZW1eF0R3581TZyK5vox5vLikIOe+2TrkmyHstUIne+zK7GcKzXQKQol0cy9TkhpNLBq9kZyHEka\n",
       "huNzArgyrsjeN2DeUF1hyuSWybK2/fmn1i/p1rY+VtHYuqZ7gdZN233ck90ZHgeJts+WnfPPXVTM\n",
       "oHNVEs7tmT263DLkaXv/dNC5JLwWOeIdKZDJ0VewSsTPNbwqB10l1b+ui/02yc8JDYrkyc8+x3Sx\n",
       "TqIJ893fNHkKMLm14UAQ4m58fCxjDhiFGap/CJRaPKiNkzcRKyHmnLjcuf59d2B4AVGTaHaLdv+6\n",
       "fBqsb/mDayx3NrdMh8fnFJpADSMF/rD03HMjh3WEFI4UN+rFKgrJj4ifjCN7ZC8/w45WFyVAJg9P\n",
       "KmDhn1JHEk6/wCoqXmdzdQ/4FizFjTC9/ufEz1XVfqFm9PNYtAEoX6xm1S9va44yoSeo/h/R18ea\n",
       "u2BpOy2EQUV2sjRFt0vIte8YXoNTlRSnlwHA2QW7CAiaS5VWApTnN3t0qoR3QY+S2KZLNczUFhmA\n",
       "yhcGe2n9DIap+jn6RJufevq3j9jCyD7a4dT/5wI3Y7ksrNCyvGtAzK0KzB+mQdN0bBPrl4U/57hj\n",
       "NgQ6K/cWaY3VJy+Vl1I9L8O00b4yFkILdAXLHdXcV1MmocSHmisBTYXBWSJtyEt7KE0Orh06/XrF\n",
       "EdXKixA9gg2JX6HwydidZDI9gP5vX27DSo/LzNYsaOgQ1HV8IAhViQIXS5ZF4d9xfKh5mlctPFgC\n",
       "ND37V+TqVOZ4KYySZ/FDRSPwzCd5b6ad0Q/C7kEj3kOZLDxzW+HcCYz2HZyKujsoRsnhOXlD2REA\n",
       "AAHYQZ+WRRUsI/8ABHdiLhL6aMxkgbRuclGi3MpbsCD0oxguOOwVBz076JbO3vCAFRdfyocEsahi\n",
       "O7+M54cvzU8ihh49favJbMEMmTuWncIqJOHnn+yZHDQj2yCz7K84qibw6BUTbBtixBReAf0yu97J\n",
       "yp2/FOleZevNvELlTYsuma02IVHqmcQ7w+NyFssaTsYbWKPf65WxmYzDU0JCP5fI5cxXwHfMCV9l\n",
       "u9+6E+VtgwVmcx0+BFq77FrzM4uJ+UaELZrJo7R0au0A71v2QsavAH977vNQkIGw9VM9bzewXOuh\n",
       "GMEfUi+HvqAAABDvAQYqXrkgBXnD3TNSI2UB0FNz0x3wDIPyRNRcx5+HTGphpj6NMcmucfdWaqTh\n",
       "x/QBnloMEXBWZeKkTnq6g4p3pn3Yt7+HAEj+JuIBVtZeIB+0wLiy0oU595nLFpx7LH6LSpJw/UcV\n",
       "9pSr6oVJi04VI4HO2tNlWPaiawIHqhE1CNLMit0de4PrGwJ0qyLwpVk0CNPBczX0q/nKccBwDRdD\n",
       "fui2B/0HQaMMsxBsWW8A+A4E8L0HVjV98ujFywnM7yWdPF7kapUkyzEeCShBVrp6efZ0enMQK/w+\n",
       "X3IGNkQD4KOnSqUlAO/fU+rj4AAAAWQBn7V0R/8ABv62nge/BZNxLdWYmx/kiIf0qYZe7Wa8TM6/\n",
       "xRIF1WfgD0kQ0exfgDSJ6NXfRhqsLQUqCdso68xJCAFiOnAFS9xCcT+iY+m0IRmHGEVLkaiqyvQf\n",
       "vKXeaMyGR/QGw+KqUIN0Sdb2II9kiPFFopgOj67P3EWyaGRKxYc9eHNVvNikLYX1btKloqoIaEOH\n",
       "AQCXgQ9iCNc/nb9rbwfJwgste4YdgPlnJktlZPAsjNP88OCR3wkl/mcwNy7yTNuxejEYEVFZHemy\n",
       "hfaoNZbMIUDuYDuHOfnzQXhg/ftAQhGMw0DNZTfGPWkRhQnFQvaNAvUvMJkNnqg+qnK+hwxgGM5l\n",
       "6GykRi/ZQ4NBO+JmdDsQqk1yrb7zcRpf2gNfa7XUqOFNRlBdP80ek1OPZ312odnEjWLyY/CzSTAW\n",
       "axS+Fd/QOxVBP2hIlG0NnSYAdHYDfRHrgAZdhDarhOHaBiACpwAAAUsBn7dqR/8ABxMqP1l9lfDQ\n",
       "G9qPXGvR8ibBb8FxwCnMa+ZuMLilvO5PbX5xUxcoFThw4cMtJWRlCrrB6VJXPACriOAO1KFBdlSZ\n",
       "Gr7khZn+oQi9Z7ohBBK8AjFphsZfbhw/6+zcesklrj8uJrIcFyVhcgS/cPzbXYcKfTVakEvfgn8v\n",
       "7N/bCfqwl9T49euypp9Myc0E461xvfeICzgbLH1p+nq7twa7Aqeuiiigy6V78WIoKriOx7zWw7TE\n",
       "xXo75NKRm5yvCttgA0ms8PoHD/IwbnqTRJONtxwo21GVqP8gfNP3X09qqw0XoZSdp9xsXCT+PcYe\n",
       "8qsw2KbQhTTSz2obBOt7NVjGSQmHmwPwgDPcZjWYTtyhlAzzeSA5GxCYiIg2iJ7gINCTcDnjlr+g\n",
       "nvioMkKc2ntYng6ufx0teHvVxfF7CygNywL/YAGVAAADwkGbvEmoQWyZTAhn//6eEAAPJ5Te89cA\n",
       "s0bIRleHvOISvj9lZ5csTnHLypOKqg1oxAfTkZh2oPH9IBV3EvDeiichv9rD+uvyUACiFeu5UE/o\n",
       "RFq7SZZ+Q+sIwq9Nut6jTcKd583Jtju8S1xFa03dJWVQ4Cbl5O3a04EyPLxMAlCSEIttOloKsccO\n",
       "A3lmSp4CG7o1V8yUlhz1wVfWWzf5UZNLfAg+BBMYXrb/0b/2+eAJGUmZIGkwivyn4u7lHs6DY642\n",
       "vjD6/FMexibBgGMb9yROwIp/EMQzRk9b2PVL3TvcfshChu0PU6rbW8KFpJ+ZuJ0F8m/QActxPao5\n",
       "9BHDnzR2X7iE2JjUUJ/Q34rGn68lyM9pCh9vLHMsnx8tyBLjysbbI119TPbG/8pSyzouzqUYWMmY\n",
       "Mr/MEJcg5uk3sMXapX+C2Ny5sC+3UcZZ/2rzzNqp9QVvBveAco8KRXX+10uruLP2jhVjV0kEZs31\n",
       "xHcfqgE9HCdRA7aFZX79t+Epq8OWwjHvNdrULemWVnSiRxBAK08RXbfK4tlJG8REYSOQZaX/Nv+C\n",
       "NCrxA/j557PtGuvKa3q9iEmoTuJQG0/+XScFEjx57s1ZiXFcIfTDQxU29EjBE3tzlpfEow6fSNUZ\n",
       "60GWb1tjJCphXwbWbzcrUMo/V7ZJoad4txA5Ay46sshlI8cRN8eW3/nTEasiJT7zhnCtIozLpNcH\n",
       "+Ic45lMsTqUy9eS641YEkIAcgeHiAIu2lSMVmFG34hsh0esUq5dkgern6UkY3jXiJ94/lEspOQfW\n",
       "wz/mG4IIYt3QyD5Kh9vBfcvYPFy83KKvOIJjkpokszsfTrhvJecsItjQr0bECkiSZ/+Hxe86vELX\n",
       "PbBLbY8NoVkzZ+y+eQzTkg/4twjZua3B9GG3BeXG/ou6fiujUs7LYAwbKdYy3YyltqQ4m+M0JceV\n",
       "nLW2yJ/H7PH9OsNZfWiDn4WxQMhUIwJfXMs7HvY+GCRfW7ZEjU8Rip29QdlLVVaJAhhM1vmZR5wx\n",
       "YWKQowMxfAqaboSmyVnCEK8RfgN7Dzr3CsFWgyXYEDXPhFQcZMTb8ds3uRaIN5dSr+E5Ly93t718\n",
       "Z5hzBHh51hhGUkt/OcCeMrt5Se74H9dAgBddPkGsM+Ksvy2FQLaRZlrF0whzlE+Nivbhu9kGh6FD\n",
       "6LkYT64SdQohtgwUqZ5JvfolFis0rTOL6Ur02fwcyRWZZFIiG1UdjyzkBF+s4AZszijzzV288bT/\n",
       "L8sCQohebnbKGCAdiNlViowJCIhbYxmazkbwAAABvkGf2kUVLCP/AAT7Fzqfgp98mPSpLF1n9RvU\n",
       "s6azN4Q0ciZKkufjoCADNdFePBXNCEyvGIkwHXQW6Z0VlY6yEhwfgL33C2zpHk+Bd+g2YSuJKYvt\n",
       "NQKr1up1+zFI8zU5Jp7yJRDgAakZmx9o+DAYyvasKOq/dnMV1TOpohYfj5+jYUtmUhKaVCFGr0LY\n",
       "xahqahs44GnqAYWxVHhNzgn48/WPy/Rx1z5pwsSvB9bed/xxL7A/Kwd2q+zjSyi35W/eMQek9lXh\n",
       "Y4PIApplg1qfWgB/gWqMxH8kHS454wQpbQN3B3dUQ4BnZwm4LtjrM8mSOy41d51GOjYIbO3VyU0N\n",
       "R+pCz2dRS4h6dUnF6NZt5w0hkNxJkUqZk5PM8roRRevdK3l2qG1ktjZKN+K7U8Au5FvWQabg/era\n",
       "yXVRaNASxZW2kxE2R4dpzt17KarJ3METALvEWqCr6itll5gBfT1M/GqvYTwxKsZkCyiHDbSmp9KB\n",
       "LKasPi01+aIPxXXshyjjy2Pp28sx6W6FhF6XAv40l92L2otveVhAsUhOd7obW7rTwNKyeikq4Bc4\n",
       "uL+dRQHDpXwfjrcRq4luThMGo//xAAABZAGf+XRH/wAB/I3wyw/dOMnwAU+udqhQtCWpC27/vhRM\n",
       "xcO9z4381SDUmXbgQqn6GHLgTi21Abh23/g+tjzxQjQmnO/aK+N7vHuOZRMVGw+opbb3p9Q21wSd\n",
       "SZXiQFyhhu7hdWpis1c2HM+YYkYQ+X8D3anDHjEBDzKsOsWnwvzhqwIbVfh5l9rG6J1/TLP/WEAN\n",
       "9aXuVE0cS5RYPkWjUp+QNyPlfmpJSxs00g2pAj1/5C9oRarjpSxWeAYSzZXtJi0UjtroGEv0koEG\n",
       "t+Z1M8HHQu3U454oGWDdXa+tx8gqBF7Xb4hIZG2HMMk7YNkisC9zcKn1hw57YCjNFRc0t4Uw4zIY\n",
       "3DYk6O/6qTMnu9fhEGKlTRg1sdAiU6AEDQjPsN4fUtOxv/S6hE8GWTUV74R6DsKIIHINJXVCPUUu\n",
       "K/gtPueSOEtCaJj4V5tOesX+HKHBMI+Lo/pMZNvJN8IdwC9IHDKgAAABQAGf+2pH/wAHxl6mW+87\n",
       "oAbUxaAD21E56SYnITTDXb7d6AN+iQine+QuJ132wq7MlswD0Cs0bKhFB704j6LDrosOZvVAYgqe\n",
       "/R4hhRHSBVRE/1lmaCjInY5muYuClFdTY+PF5J/tiN1nfkGbKdvAH1tOPtZ1ODcEuWh7qXC0AUvT\n",
       "mv0vXAKQcuijRAizEYjSP3Ek6+44EpQy35I9VMwwX8NvTU1DPFrQlwZ0ND1KaQ0P9t3TSDP4u72I\n",
       "p+zZH1A36xTiiLSfFLoAab7UKv+wpU0F9OghCLZWnn1zbyEbhuhvCbEDebGKb3MqRGJf0ds3lbib\n",
       "b4xuI1Y70EfgKOX41bRVEiba61Ib5c/KaIACre1gKy7C2ZPu4I/A5Meo/oRfwOgw5vUfBhTdZi3M\n",
       "u+2k08HA+b1uAekmpnhxLRzIBw1bAAADm0Gb4EmoQWyZTAhn//6eEAAPJ5Td/TE9N6Rm3kfBbcgA\n",
       "lIlzqo+FTy6cjXvVTelfCcwvrMKg7xLY4PvjxjiBZLAimtlabdB9QHXTrY5PR7Iu2d/apq5t134H\n",
       "NC/ocG6p1zMD81FBpkuUnwn6uJwJ2AyS0gc5hDLR5Fu9cLin2CyHeFkx5HwBHROoYhTOeU6Gu9iU\n",
       "XpU+joeAsvYxZNLQ7yq+qDYpKSJtFWy6gw6xj6qOB1r0yvslqCUYNE0Hzgk0Q4nQBtDSxYbojnnm\n",
       "4eeAImBUKinSRMbE13NFnX5Vt0YmSDvRbPIWlVNdsA3GKXtXfOeykIBQ887+ZP2vdW+ox+i1KFmF\n",
       "aIc28kB4/AEsVsAZgD8+7WY0dZmHJ88L/VBropIaEW27bIXwBAQHQknXdA8xyekWu5V+kKBR9/R+\n",
       "DT52ZWMZ6/86QA25Ktwh6eHk8p3yTkj4ZooYMuBmoGHG+QytnBq19fmzyV2VUdBgW4evn/mSAykg\n",
       "3aJH1PLSQjCndOsoB3EcjlHKsC55+S2b4FnP8z3f24wdWL0ZbJmpV5mUD8oJui2xI5b2DAIxZKbX\n",
       "7AEtR2lROBSrXdqa7dvISUmaaMb8JDnlYOjqkF8g5WSa8J54grZRHFTKJ+uaRZ/hZMFXXY/aI9tv\n",
       "OClC/OoxvBt/O7GKCXCP6+xocQtNBuOjdmQKRwQdKb337kJSJeoTBB92Osts0XZNVutzauoXKOlj\n",
       "kU4Rmr5r0bm6YOB88IYznoeFJ/r8Rw8AVpmTMado512qJVVRxOt3SEgWdpV7MPuPVWundu2uru5Q\n",
       "syPtqsGHV3kjICnzGXF2wTve6C41kSALC3bSTYLOHfd6BPvzIi31ngpkYf5TBkOdxJOn0HU4wqSy\n",
       "vAClyT80oGzf/jIikTtqj7BiIRRWsosKzyFVY62s9/EQGUmP6mLoplvrqa7D9RCWEzgVfZPUJSOx\n",
       "5Mf31hiy4g/5Ojy5Qwc7jQMFgupZk/dcgr8YCj5EWhuyWX78MzFHrjKckqYTlRPm+4Jq4hkMfJMh\n",
       "8LT8qPcmB9itDoToYlqku5bEU1/fL9guloiH7qPZ0RFqSgGl73P8D46LTSIDrTV68u/uujjDyiDd\n",
       "M79FQs3+VmLEM6HDvBBiFUE35oOZjG8dTpn5wFgz3EQRwxJReEPl88L7eABM44Yc1U63JCBkgq0D\n",
       "yJhH6Jy1CQ0aTt7mig4N79chII1qYGjBWNQgUFXNC1lwZ2WBAAABokGeHkUVLCP/AAT8DOW4cAA/\n",
       "2EWNzr3lWQ+DvLLwLe8TXbGgbCtteWgb0ZAeJBe4kFypqBcn7V5JkU9Cdb85Ksw7g2AEi7XKBnum\n",
       "ZJQp1VF0kJnsIIt8VDNWcRe2hYj2XlUD01NnQyt4mA8Bo3TWjZLiUz3xjuNBke/vAd5Pl9pGEn58\n",
       "e7TquZRDZjtYL5bsKZXCLILaiFUi0QiSFO6Bb2CG081ddeSqiq8PjwKmxGAVT0eC6SCPZ3M1tFaE\n",
       "UP4OEdpXmVki1d67d86Dwn+pDPytoeMQoc1H5FHeAFK+puEbQPe6yZjWATmiJkOrImA3OvGzCtMz\n",
       "JgpMq0TCL6Ajx4GKCM90kDtVp3R2s01H1kkc7rMEYNoFxlnvHYs+4qiDSncL/pDts3Mesn3dAQbl\n",
       "AZVAEmBSfOylIVNuJdGqE3QBTSYIYuAwdMmGOELtctrpTXp8+m5T1XOKNgrlxv4GkEyOZB1Ib85S\n",
       "nDQDi7/GpCrNtNMqDEiShe3H4DJxAs05hnQG64hTyhWVQb0cKuTwwfwv/rRTu4Z2vnX/n22wdXD2\n",
       "A/wAAAE/AZ49dEf/AAfGVPajvtR4sQREW0816zAIczqjulOHru4VD4YvYjrsiDjWHL0se3ixI40f\n",
       "nbDI8/gVlOIAFbYag1jyb3YUVbeIOsUChOC5Bs/zJR2FieAgYsHQsqKezJ60C7NZzInw6myP6BSl\n",
       "3gp/t/zzCPEROt1epFi6quVlDx/CKjv3I2nVWmNX/WATPKx3Cia1IuyxGAbK8uY1N7t7kV6TZVyk\n",
       "iDtWAsEuR50wpO5bcy2NyAzwrWo2CQUusYkxI8p603ZyKZR4SOyChYE//dHL32zok1j6HmxA7JwB\n",
       "/+FjXUDJ9vUyvYPcDPZqxLuYaCEQhPAdF9kodGLhEkTwsJyxI0GsJQQcl25WzUjRVI4t2xdKWDd3\n",
       "AeasbF1dBghUFJXFYdfHmkMBfzMvVNm9Qih2AvkGvAbWahF0VBkBswAAAVABnj9qR/8AB8KL/AJu\n",
       "do0e4KwuJuy+SoTae1yfBuK/gzkZZMHgADyACQ5qzRdcMXuQ7mE6YcF7VoibQq4QTKfeOJkCAhNI\n",
       "cZk7J49nexKmJyRtlpfFYkwbAF2n8jSl/v/Tv9ipFwcohUn7xcvQCHXVii3b+zYxDmXnkg+K5wni\n",
       "aSjfIGthll11+iVkdbaUEk1EBx7yPcxFBEcUJYhY9Eml/m13S9njLebaxVROzFIWHZcTW3F4cM+Z\n",
       "lR0E6ir8OeNMYappqdw/fuEbFQBdkBRdewTYUvV2Qj6fNHm/n57JrA5bZxyiykZQqrpKPtAI+H+V\n",
       "ifjNLuuNVGVy7CBl9+e7deCoEJMCA802Kskgq1dfNuIbetFpbXsrGZsneRznGQdFHOFAA4lpKssx\n",
       "cxfIAYWqp0GueGXy5YbhqdccwR0uRstzgn/7f8s/o6LTSmnoAccAAAN6QZokSahBbJlMCGf//p4Q\n",
       "AA8qnA+ZtagA+A6onpvQvoqjKwvobOPpFtiBIhYXRff3pnCh3O5udXiwy8+7RdPeINAns/H+jpSG\n",
       "QXjIRfRFbiWIW0/xx5UknJ/sKjc4P1IGchr3hWEkojC8qKGG+yv4JcUcwyN+pKLfXFvFTh8OOnWD\n",
       "thngRg4L+nKleV8lK+ur5yXKe0RPiBlhD/IKOU4N3HfYIDOnZPilVD7To1lWkbbmqJL7VUZbLMW4\n",
       "yQIlsi3mDFqzdXHI4qz1OjzRLq4v8Bx+JP9dWV5IKASWJHMZBZQE4ttOpV3yGG7iGXA0VN4bCtAW\n",
       "+6AL/LmR7+cyDISV9dNRkrAU2bItFyHGW7MxgNvwe7RSreWr8897jedfstH8MgI7eEQSXKseqaug\n",
       "Go7ITuCr58qiLdhBxClJn+k8AQvkz68qmM5/u2VZfNkwTGYeiWDBgmTwJXe5k/E2LFNDlqoG4ukw\n",
       "NJ66LBBp02Kdq6dYJ2mggGzXAId4y7HeYYGsU+jplgoIAW/Vilrbwr0D/zok8E25i8Ds4ts6iFx0\n",
       "jZa61l9PIurtieqHO4I6ChGO9P0thzQsU8WJmC6n7hVmL5o77epXN+aKYJQC3Hg8+RSWss3A575h\n",
       "20MtJj58NVwUt8mpLLrHqBbHk0GhXmX11+ch08piPHHkKxGgAFQY6ZGRPW1xVcbBkVkY+03Vs694\n",
       "r9+fwu9z71EJTs/sOtphFPEgmDNjN7IIP+I93kPSUjHCAbfbuSez6OA0hoFf0zz8EAo/Bb9iWkgB\n",
       "/M3Xjro4kd4yTasOlpHMzjymS1qAq43yLYeWoqsyycABW2mwbS4DnbFU0dNeJh6mSTw8EfEx3Tq3\n",
       "gWzej1CP4ET/AQsrI6hKLVSMZIXWhUNRZ/3MhpABcqfd4g2zP3xhbeo5GRnJbtdVmJ/wrJVtyQQY\n",
       "9TYypCqr1cUHNlw6wo0fT9JNJpj/LokZJ7LxsTsHbD77q71Du+/79+otJub0dtg2XyShalV+lS3C\n",
       "kYfcuxwIrnQzyr4mIJFxmfV5EBi6uJm/mMUu7eWcSF8I2O5aRCfOM1/Vd+OY6Pp5McrHcc9wOm+H\n",
       "wFQjCUmIwHZox22syJfReUMl8x8J6JBDuf8Pzw2H5NtUQ9j6Do0tMCHKLG8ggazY3E434hyEfeKM\n",
       "s9cuNBB+zbIK6EW5pDzNmKcf3bAAAAGzQZ5CRRUsI/8ABPi6PsfniXVbmAnEgUSoQAFhzFiCWkY+\n",
       "g6NcN1KDPWtrEgHFjPrQr+KlTDPnFE3UtZLMo0NXJQFebKtf6SImac+dvqbsMMfADvY+fucK80W6\n",
       "x/mwoxYrA3rltPFkrNvG8SVNuabPmy5CKOMCK90mGCMXeDQCMIdAqUWDvw+tcx0s+nLsjYikxi/8\n",
       "zg2O+0HyYyPCqrK5BfrjpAG0gdIWExz2oCADZho8xOeKSkiDNgfG2U7hES+m+R4P6R/j7n4+BXzO\n",
       "5YMVmERiBxmZ9iG1RzN5Z2j5fzuOrlMnQ3hPdpx+eg4d/A8u4OzcMg36Cywh/gJVFjNTTqS42FTH\n",
       "FDhTDIQrAVEz+r+KEf6R1HvE5KCHSN2JiVk+vH9nMryYajBQEVEoY5kbgUc7XJ+oun04XYZEKMIs\n",
       "fgSza4kiFw7ohWb3oNK8lz9/SlN2uIUOPIgJeLEqVUszk1a98PR5wpaOU367kmHXFGwa2YPhVBLD\n",
       "8s5NtzcZBdSZo3oJSiHj/W6bc/NYT7JPBK89ncwXhk7dwNFqydVXTlS4jDUEERxF+sE35390TxMP\n",
       "7YnHAAABagGeYXRH/wAHwb7I8Uk8s29us5AMJ8Tt277qhHbk/C9D8Ak+gBUCcB3xNF5axBTTxa0z\n",
       "MZVRWRSnIGB5D+dwXHhVxr+k/UYhTmkJZ8gtCAhE67BH3PW0jyWgzVZhTLiGQIdMV1lu5H/Ml7hj\n",
       "YZLRT1CHYjdruLBxWyEHLYDTks9hw4WrtGr6GxSkUlGtO7gger8gvHoiS2d9aep9v7TRhvQAeOBO\n",
       "dWcNHi9aJf4um4otC58HT2ps49xsxv85q4Ag+dn2PD61xvNtwmp+tNaxB7CNiLiB/3EuS5kjXE1F\n",
       "3VXoQKgtswQVF1sCfJri1teC9UEW8/pnwsF8Uh4InGNuxA8OHsJmxsgEDFWB9HOvNnekFAJcOACe\n",
       "ttG2jV555PgsclRCPpaZyiLJksaMBjQCzgDd990NprmxJe2QUjVToRWx4V8cGFjZyRTuHlD0d6Cc\n",
       "T+qN4jtSUjV1JOm8qF3a+NQ6Acm7FSy0awRcAAABOAGeY2pH/wAHxcHvA7cCZ6G0F3BF6YhI2MnI\n",
       "BMYikTuAGtkTjy9g2gBGRcB9DMtVMyXupKu6EHe+VfFqpF/gUBOJgtao45XiSUBECqhZZXFGt9TE\n",
       "CBZEnyQAuWwe3vSsv3NKbrgtSSgCjOaTEr7RYNBBeTX5BVWNtJwsO9HpMHc/gp32EQRYdlXwIzTY\n",
       "67q2UHyrumH3uXuE1KajV33grYp3Sx2DqacUW3TW2MydTE4zy/TuMkb2ko+xwxqYUnZDoqhCVb+p\n",
       "XdzRj/UGLOoWKapZzhVExEgusXAIAOGmUlBngg+TeU5Zgd3gsIzCkoWaFJFQVkweyitql8jcOKWP\n",
       "oaR20eDyn2P/ZprtmyrGNli+uXzFIn+p6UfDL+K1/OUAPgJHukaEwg125kwB9Sj390BBkY9NLfBU\n",
       "wQAAA61BmmhJqEFsmUwIZ//+nhAADyeU3HOgAE6BwllQgnC93DHA/dG58flHFO6vLWD+yuFusRRy\n",
       "ZqRe2JjnhYRH9Bj6nStX68pRmLi8T6PFBKr9fviVrGzZfMm+wV9qNSdy1fNd2C+5N72uFMa9FvvO\n",
       "wOttQAHrSqXL/J66TzvbywEteK5gwWm7+xavIHsUto8RiR7wm9wKbFbXVpGgkT9vGnpgS4yA7h2a\n",
       "EKIeWN9RgbY1NboPpsQYrXGEKblw4C5paJnnX6WhTo9w8rLJhH7Jvxu4TMXwRGW1X4fbxVB69Lax\n",
       "pDt/tJzvqJYZRRDrw24Me1hLdQsO3TztqDbu51hW1NorvWQ7YRvV2a1IegAo2upeO/INWOiqKxBt\n",
       "q8A1QCNBr58/uiB9t71hTXA7w6zRjoMSklKxyieCDphXHL16r7mXZLYVZxwWKjHPhzixJR8FNOEF\n",
       "XjwDzqXFMU58+ygj6EwMrIabLFeRBtKW3zH48mh+4Dp+10yX7KbPr9qitCd4G3w2Pwj8oYS7rTO3\n",
       "AoyIRAg4lRZO50ta5mzj9qF6TUH3mnG/QEc+h8+1xI2gCOvjXvjD4S7ZjimXT7pwELePaJopvvQ8\n",
       "zzQeuYbqJht4lpGbzPDdQ69L4CePUQXK2CDAjSD4+5rNhTIONlBTJ94YWMrzSRrB7nuVsOZDhj6k\n",
       "m+a3br2UFMViBPsqF9RAWwht7zUcQ5eejD7wYiKHVEzweE3VDDQrkHwNZuDIpBeIikYiPbCKsezC\n",
       "voDn9s8bF/hpVBWNT1Yb2v0xrMQ//0L3tthS6TBTa1f4oqEv7Hg59Uuiy18AAHJYnZWEUix9sOLf\n",
       "6QAe8GyUDCmRrC5At4/AYGfSVhe/I/GTHXJLK5SDek9m12Gt4rnkO9tTsqAJPYcNqyt0fAflxPpn\n",
       "9jznuGHRydcDHRoB5pNvSBWSAWzkW7Ek0ntukK1uVpRF26JQgzgZl5hBT4cg3I0poAOsFcQxXkHo\n",
       "gVdDqvxlzobF2Ixu6gxXyo+HDVlDbE06BLz81VqyMrVfSjxxyKshaw3F3i2G3sRnkDaBmiE0Zi4z\n",
       "1Qqz781xc3K/jpEO+6CsJuUORmGHrQhhuIvD+mWz5belJ5bHSTVX43E3k3JzVuRQ/d7fQNZaQjK5\n",
       "udxUR8CSTQp4TVouj8S3e5uRSlQ4OoXkiN9HPvj+6O9EbmO25UZ3fjJFNn4dSOlg9lZrmxJSQyOe\n",
       "VjNtpjjzYg1FSVSwIyhXjFN7jhN+xwvHAP5c43aXnIBVIQAAAbVBnoZFFSwj/wAE9vWyXuQzPcNU\n",
       "zgvgld5TP8V7VylTPJ3PQrV9zkzJwRdu1PUWM99wdP/62O/29/lEDzw6Jb+8HGegCsO5/d8e8noM\n",
       "20Y9VmItpFLR0WYlW/d9GitBUjsXvvonsAwUlJzB9u9lKLv7kXbJq/0sQEgkefJwSdfOWluLZ0ZK\n",
       "JWx1lhyJGITPCcBmTCeAEY4fGVhFpQP5sCJlM0Ng1NAQ5mSTx7sQLr7cLhqcFa7evpMNaT0xNsrl\n",
       "2me4pP5hRC+YL3ZoMr4+Hxg2T5QQY25zH00+o+uNODh+pBUagKPBUrnIGn2ldbXd6vSzr755LOce\n",
       "GBpn9cvSBk6qXhjjrrABPLQgNajzPiqiYG0+4/zuzb0+ep0Td0VluAvIR3ZxTnxUM6xF54GeZs3L\n",
       "dqNafCueOwCx6p6zW9Ncc2qUkzz7ggcXhp7jL71+lPWMVlU/5uC0XQDS53yzIK/LF2hxQhJkdGY9\n",
       "B/RQIxs4wNwJFdfj/VwEoops0Hm6tAlSJU5HvT1ZR9PS2cv/JcOY6HZzvvSfiTFYrGTLDSeahe3/\n",
       "/HzH1dJUvTiZUfvk9Q3P0jFgQQAAAVUBnqV0R/8AB72yMqdbQN2mdVIHDnV9YCr/ywuPBlnyqquB\n",
       "WWOpkfN+wkSf/wwAYRg9NQvgXoARkWuGtmYhjLOwzoUZN3BkbMZd7v6lzz2nayhg/069T8ugSHZw\n",
       "dQUJYFehpy4Xzje0Sg77TU9O+AkRI0vwjTfs4dd1rBKrP0upc9bksranVGszlE7r735sYwgbeRuD\n",
       "maD6Pug9sZOgqar+EdnKuXht9U7DGJxhv8HECKv1Lw/oZeE95Ck7pgVTOOVvSo0PBNxybw7NjOHz\n",
       "aiXWbjtIpznAZfbIESWDkeB1wYi21756H0hLg0c6ug1NJxbvQA1ViIPY0rniGax7R0AamSnh8d7W\n",
       "mN6tbalGzNiTRFqseuvfHjGfkCDpAoosDYRAfA4vkbhuSxIDKYqwR0C+2VEP3H8Iq636HERyoZr6\n",
       "6hrhF6kktPIhgX/yneW1tPJCKIgHHQAAATwBnqdqR/8AB8KMpzf7q6XYJwVhKPY1EbQCuegpeAY/\n",
       "r41KxXosRu/9q1gBGdi5jj83OMA6s4qERgjXZwyE3lspK5ceO/H6INimLaWzuzJQFstXgUkACmGY\n",
       "WE6L7ncu6f6OpPrJBREXjxR4CP0K8jNKPNpzOIhMvy45GaA6kh5+rqxRIulc/vz4DVytJOs6brTc\n",
       "MX/LAxqmTqr/ehQJC07V4kaugTus/ZWSjJvZ9zEdf7X4sDKpPr1j7dB47fh2iJk+KX6noK8HRBEj\n",
       "ACoTn+FCu9xnMPSg+UbJztyb6v625X/602Hl9pMq+Y34AfTjojK78uhDzD/9TnLYNvnPHz+66gyI\n",
       "tZ6RHZr8k/iofEaxDyz/iVrJyl1XtLidwaHcXP2xSuXVUEEpBK8URRTWpBu0byQHC280Ie++EBnw\n",
       "AAADgkGarEmoQWyZTAhn//6eEAAPNsev+TtwgALMRxPoxbAYbjyS7m/BeELgn9F1dNv6XY6wmWAQ\n",
       "Xy/xqpGB11ZLido1trC8ukc2j1t/uZ4eMKgsG5lCXQLBIMImDgxE1z4ZW6OKitZrrDd1jvdvlRKb\n",
       "mJKoiwlAq1bPQaEXeOEqzrTmRO84l0QbWjJrEEq70q1Vn1Lpem2khGIDKoYKeH43WidTvDENtxMy\n",
       "h2PXZM/gSTkPO8gqrmT19EwTGeulMljN1xdxTt1/pOErlH5CeA+2UXmfBZ3Xx0JLMOsgEEAWQrkZ\n",
       "mF5Qa+Tec/gLRi7WYfb5FZdJWLMhlGU8zH3rcQbLzPaFfAZqt06fs+G/BEQr7c5DtIdx6RxBHRP2\n",
       "F8UzGVwX6zNvaHHpGwbDppuAaDjtxcowfvGtJop4N4wYwpglc8fqhfBYARjXbI8MK8Wwrs58zAoA\n",
       "WZ9a5mFlmXq/Vr7aL157AAPq50ELZb8PqWXawkzQM7mKKfGNLhGF3Bw+24mg1KIEGA9rfklegjic\n",
       "vmgsBVRfSr1y48lCM5ASuC00+4g2AZgJd1GwMBhNvbajNotS7e4oPIsF7glrTxbk1Ob3FO0PyKJQ\n",
       "W2mjrp9x5EONl9hhL+JMXffwk10tUPXT5PhKkEpyvW8GB77OIdlVtwWLDUoVuXe+yauu43ddpgV/\n",
       "mKedd25BSYnEbQOmoYIsy6DfL9i6U3ISCy0Taxe8EqwpPdG/ohwgMqkuT61utOVSSaZGupF0NiCF\n",
       "bEZQShlkBasqG7mXWSPQlDKu21/F3gQ1l8Y2RbpF+AGI1Xa3KM7hhq3a+qR7QH11c3h+hQD3QIXk\n",
       "ltlQPVIZVHFTMiyBiYwDXMbvlSVVN1xErDSR2n0hhURUGqWzxCCHad0t+XkSKagnpuSXCn1lfxlJ\n",
       "SDzVDNo/Qc8QJ+1QOWSaI2L9lYq2FjcZyINKC2ouRBSAQq+6/ZDqW9JgmQEyC3vPgqWVZNQs0GEg\n",
       "+Um71tyzGmmjFVW51pkv0fWW3D7X/o/utdlceqPkUw5K6De9Jvr8ZvLNlYY5gOS/9NW2G2WLxY42\n",
       "TbJ9NTzUw2FRudkt8l1c3AMTH/wE/YeuIBGdo2nsvfl1AOHz7BMY3KXLvRAqRl3ctm20xgtE1yM8\n",
       "uSx+MX+IXAcfZn6fEP2V7Cx88dPHYjFp177sI2HOLe9M47evJJyXZDgf6mIR8zAAAAHDQZ7KRRUs\n",
       "I/8ABPbtiqy7JfrEyY+Oo3ZBeoq6kgpIdJLttntECcRcppvPqXI0N7sgUeShowO/Z+/yr8EW7sVj\n",
       "+y7j6fOUoxJsf2diVhuvOtNQvJ8FY70g8W1wFqjYHXD29dH4d1QHgBVj7l+/aDwKbqCBRdowM7jM\n",
       "A1+t3S5Kuuoq3OVOk88HhzAEncPRFDp5toSJvWp4+zeEPu7I/zy5ia5akJ159rSl4Ja2KqMGRita\n",
       "ryeMVQFvEMN0O52sm0jIMmZcD0LAmB+OzfcOD+Owv8fQZzuOamvuGS19RXhrPLSCyauSrorSREO+\n",
       "lzc4g8JqSvuawcDEX1UR/0zYDztx7e0ea+yI4M1a9Qmy2rnrtfHH6syscRw3ejzZiIkhPSadkuNJ\n",
       "QgBOlovnIXKMK8+PAM1tnZZ/CiVreTiKZRUM55yvPuLzZisHHrHKFi1jWisH306esBZczuio1fVB\n",
       "zWLhiC25KYFMhyZKGl61Slyha1nnqIvyndOALCJ2BMkTrvQMXRJxOFCZ5ofZ3RtgdlFpHnpvEyW7\n",
       "c4wJQQKWz2JI/mPWLunDR5mU8ZF1xhgQSOkfxeE0oxR9eMxoLqQsZT8O40SGVQAAAUQBnul0R/8A\n",
       "B8Y34RYdKpzYeLuY/zhCQuInUvSU3qDnq/2x7HRxMAAVpmsME8VY9ZEjQErENxpwCs/oeaOWjFcK\n",
       "HRo6iJHJTZwQzWIF9fjpUWLRTpfuS03ttRTsqzurVQAydUT8b7cUP/75mi7HRCeX2ykuf85tvISk\n",
       "s5l5v9A4v1Ac2zOh42UUwEXSIeBJsQ7atXyAQCpJst4XUvG93rJPvS0PVRqkXNI8o7WWp/ZNZBiA\n",
       "LwoCglSt3YUCHBY1Mc2dqQhX9Gx2ZFL95RO/UY+aRanlAE5o0BK4UMjIZQR1l8/k25fLbgOPQ4Ht\n",
       "ZN8MISu8TbyoxDrdjrRrvsiGDtEB9MP00l3sP74Z1aZqTiTbqlpDBlMX/GVdO/N5ZObxljjKv9ss\n",
       "kPDRH5z3DcFZVo5v5kuyHJP1vmMEgdn+uk6/k/yAMCAAAAFKAZ7rakf/AAe/GDsYhxjl5M07LunK\n",
       "Jlwu8UAEYjAcclu24/vOsoouPArDiJWoO+LPHAsquDqxKiOP+N1bjEJglTwEoThrShtb5maDdJI/\n",
       "bqSEcsjAo3mQ+yZHW0XRylxcQOO8N7GwhhhuErW9kUFcpIyoxQJzo40K4WmW5NHba0t7IeyneC1e\n",
       "VGEjsHxp21gWrwCbnSwrMBGnX/lf1AmQg+9hFPPtituEkC+/2USVkJAWgThxEpmMENVKy0Oz7Zi1\n",
       "EnpgqZn7WrmklareV1DjU1fTFjT3o/IIbB97twDO/wEZ48IH4ouIK1VBp+3afm3Fddd16CWhyDpB\n",
       "5V6vWFJ5n9LXMzsIMYs8MkjNk5rlzRzjJ4P8xoCRU+pIaoTeU2C1aLVCpb9eMmHlPUwr+4PiEEbq\n",
       "Yvy/Ctptf5EDMT1On6kGxxAweWwH4AXEAAADxEGa8EmoQWyZTAhn//6eEAAPNtJN44ZWMwvO6QAm\n",
       "qmx/YCDCQRiq8F8QWTPiJh2oO4huRHkIjfh5hCwum9PMb/lljxgB8hudO9OJs5uKua7BFJX2ZfK2\n",
       "humvRoCqx7MmEI7BqyCoS4nFIpfZOcCZfMiiVrHHSgw8GDeaoLxvrOXcASWktQ0DTHv64I/EgT0b\n",
       "JjvukrBBinMf4CAE9Esuf3byVPsEtgKlSoqnmMLF5EIE8/scGrkJHckm77F1pihW1NzDstRCmYeP\n",
       "T+UmMicJiP0B8Txej0R/sW/Z3VJe0j+emoisjgfRBwGhfszRsT/KqBVKaUBMOjXeT4d406RroqAs\n",
       "hTi60cdcb+/aV8tbuvm7RTsg3DF1arbrKa8d//9N21aL2CBZc1Lcxzf9ECCdW9lWSYjpoItbObRg\n",
       "WRQ7mp3LUYpqafv5FOLdd397QHgQGFDpsnyC35ffPkT+m4RjeQdSX05mUZsVQGzuhiD9TsGJlyyf\n",
       "5TBdenuGUhBKkHXZZeX+/Qg4yBzfwNcnuhG00NcUORnFR0O+rZuKD/pyqOi1lORegr/m8jkkJbMw\n",
       "JsF60BwPV5xREBz1k9dkh8zKEa+xiYaLSOFLUEL+WWb838Q8w0NiI967IzTpO+JQoiKOr/AA9Ztq\n",
       "zhxe7nGzShRgzh2XHJ7E3/fXan23tw6fAbV6aZhorEBDfvBl5RT4NHlR8DCoQRHaXkWoPmlYMiPA\n",
       "VVqdGexjAXAezKJ8JOj9bEP5eYcq5wbbgIkcU+416bSMPryGhRR5V+j/VaD9NfwRLU2TJkOLCREI\n",
       "MDGLsP2rVsCJ/FbRuJqW+6Sw8YZsIiVNGDe/syTrPEzdbN9xbx/fZTdF5o6PB1iSbPoY7Oqv1R1n\n",
       "gGrd7BWEp1amfXr1an3khZKG9ZQ1lOI69vq71QGZ2DbyFdiY+Po1QHxzfvpLd5v/BgrFGUoJZ7CA\n",
       "rC+8yB0ZU09wmmtc+bpKII2/DjR/G5TnajVqUs3xTx5maiB9QnF8S7hv59X6NsDbDtR8+aWPkPH+\n",
       "7GwD2SGvOE3PlSMTVykqAVWSO/MvL2bM1L+WkIWfQX1VOxzfk1APj3BXtwl82pKoRycYroT2bUe5\n",
       "ScJPuXbtdCEWU1eQzfS+CfypZDoPVJAXoW0qMi1uuXxLh/oe/mikrnBu+GJVaqD/5ok2AwGoNP+Q\n",
       "UGhsX3u96ueNG7pjugDU6OyDabd/lBgs7caiglgIBFSScoTblT5Qq17k+yVbwgCF7N4TOx2bfisR\n",
       "wS0Xk5JKUUrRqPlU0pJmOaXSZ5bJcUEAAAHDQZ8ORRUsI/8ABOeHObad5pG/QO5aiRzSdvQtuIfe\n",
       "mqPqeQlyhxJhZh50woA0a8stzfy/yY8nKlAAV3lViwf49SXpLC30epGZrfdU7ZwJwmboVeapp1gu\n",
       "1wuyJJFgSE88o0vAd4oJyAXVLLeeklhpYotBbK9pU6VrMF2wGcOmVsgGz3wruKIY9c9gc1+tEuL/\n",
       "7ED3pGpoDkOk5ZlFE6ffyMECT/bnJdbDjps+3b/05lrFXOg67sJr051CcvgmEKB3c9a3/7A5y6n8\n",
       "aiTHu1lQ97F0+9rC94xPpeBQp+QG46kpFbgRbUkAiUqf9Bu3ekZqO9Yd56rPmgq5dYgUG7siVhOy\n",
       "vjZsubDUMviiGE9/ivl2Bg/QbgpcJhdYapIlr3fXw1mluwMwD1TtN87QLL4iIvZec2FCGJsOHIUn\n",
       "0gaGLaeyUKHN4z8160IGDpqQ/IRLlmbr8Zp01b6GLDFE/fuVG7NjRPt/ZOvLnSNU8g299iNYLhm5\n",
       "K+NjDK29P/8VMIOG1PKMJ+/yyy+IGFxzIYHwb0pBozdtI9Vy8wHhxd/Krw6alpalnuTtAljtNOL0\n",
       "BRJP+wB0V6Pzf3pLnSPqNDb5mphNqQAAAUcBny10R/8AB8ZQlmCBcGnEuXDyAEXx4GhkapnaCNXK\n",
       "RvfBi2vLOdduFbThDJSlcIxjB6/jd43qLY0BJ+TBtdjaWTIWoiYkhltwL1pLGJQwmebiEGfJOjed\n",
       "iyw+7ZThCKLRQXMo61baZAVHir0v2QkOBLP2dW9Nuce38e7+7LR2KeWXwAbXo8PR4gHkPrXwQhY/\n",
       "6LIbBH4N6vh+JOSGROjoxVP7Dqm2Z2ABU9Fr19WpKxP1RK8+ELH/wR2FQJv+y9IdsRZo+98hwOkv\n",
       "86SQYwS0jxKjaxwxhZOeQmFsp+8vz+7Xo0aj5Rtz/maE5yvNj6yAxrqcGuU1FeE3oiDJYzU4rOlM\n",
       "kK/2nL8mO18GWNM/QOYv2+e3DPazlpHb7CPmSNcPw+gkzmYgdP4zUUFdlS0ggGv6FfQ1IrA/LPZG\n",
       "E6FyF32hHckIsWUAAAFEAZ8vakf/AAe/MSxgAkVD7jpJpi//Vmp3XyTKd4sAEXx36VIY3vzM/QmQ\n",
       "feU/Qk+FGQ2F+e+JHVZwKh3Tl1QkGhnLVctPSvo+cdngMlD0qfc5+/kNyyVt8eE85Jls3YBhh8vV\n",
       "mjYsMhbxtPFrTahAv1ori340odjzmVu16kzWirLvQG2RJo292Z19hElTszMbK+n2qxu3fIsC64LY\n",
       "tP/Ds5r0PpXSd+jHNWICZMtdlC2odw6iwdXmND/Cjj9mPuHfwRn72YWdZtFwNKb2GA1sSpJ//S6z\n",
       "16e4x9ZDgxDBLLujop6ndLsQc2x2RWmCqPiwpNQXQO4OPhBn1E4S49WscYbxQo5sK0X2L1doNcxL\n",
       "OkYEe4aHLwA/5mBTjxFkyiUgdJ0zETy3QSYxUhudveq6MZFP9OaK6pgps9+DAzGv0CzZuj0gAAAD\n",
       "fUGbNEmoQWyZTAhn//6eEAAPPtagQPRHVSY9WNTvNAB5eNEg30t4mcy6/MCm2/4nRuZtLfCSujRW\n",
       "mLalQ/EorGa3wsp5IVjeghsaTcy1ejw3QbPJ67hAIt+XDsvdTBKyRx6j+bTO+cGlHYVP9/6Juptp\n",
       "zC3VOuDNDhMAMTRgM8Q4g/eGWEKxkYODm/Xf0mwZPxDy9AbKhgkmdjAk2xN2bNmt/UucEy9MLgN0\n",
       "zr8jdQ51gQJ2WLdHUdmMJaCWM66S9Z+lY6wzo/yPKjM3axnfn/9qcuYD9i+hgZ/6LUb3ra2lQFMq\n",
       "/MPv4PvP1pA80RqO7OKak1oQzoBrz/s6yEfpU9Mxjvf//Ym8QeOUDM9Av+qqg6F4z63LQW/Y1Ogs\n",
       "6Lo2sJdwu/Csry+QgZicBYeFURfy6CPemQeEwTgrIFEIUzEeaSaNDOYvRpR62JWUGNTAfK4Fl31z\n",
       "4NzQ3fjS8StaCAq5rLGrnRX+UfNivDQDFYhB2OBXTW/n2pFpKRnYGnGVstcO1wR/E2k7IFz/cBp/\n",
       "L1ShVaW9hoL3yAEQDSEwzD1g/w4/xqlvArSTYdcubrx4ieBnjJHy1apJg6eSd7x1Xiaj2YKkwl9+\n",
       "9SlWYc6w4NzzweXrG6233bW6wPd6xvhexBMkt7VU/s/yL6BkEB/ybnMcAWwPFFi7lYxgq44CTGNM\n",
       "BGPdbdh3T7T5HjARzyzds78nZP4gr+3v9k15c6EPdUP02aJ3veVC0FhpiBVpnhLloIp51gLCi5kp\n",
       "qMKFfGn7fNoGx/kaAzKIYloLF9/Z6C0D0zf1rddNSzv2l+IRxQG4DEDTJ/ycqHMmfbxN2+JTSxE/\n",
       "vqi7i2GB73RQj0d+COdSPcu1Uc4HxSt8ymVLl9OU+7eskg2xwJiaVo1mTtRLzyQx1KtAY7VR7ui/\n",
       "UEYdi5sRErsCGhmgBWdl231/ADaM37yZRw7gFSXKKsmGSBeIfXsayDEK/85fU30tFkUzCNVT+/wj\n",
       "qzeH/nZPDDb6oTMHPmapvg5tI/RDyR+H1tXZPMawZ49GkcKoPdt/VQYqFT5WrFTEcq3Vx4sJllMV\n",
       "VZBEmfPIdjjMYajdym+zmPftQdFcG/k6QyvcwivGkW/4/ZmuMyqR4pS8v+CF3oxsvD8UolMj8yj+\n",
       "/Sxkyr2jO2zrjd+vyGehkdxY2yyayP5LAO1+CmrYuZRCZCXpUZIwAAABzEGfUkUVLCP/AAT5Ri38\n",
       "cAGA2fHQAQHlViwJF14iUpCbeVczuW1SfF/xJsK2eOsGJXN+lmHIoMafg8ttoxrRjvMY555gW0s5\n",
       "Bkid40qxa0vk9BsfK4wsuLifejGNbo9HXj9eeo6fkJxgLYq0+087VXlrSX0umSjukVFFPdQH2rDj\n",
       "LNCJAgknXsBQpd7a5q7HXGtxmn+d7r3YFNrNVAsGf0KI5Xo2PhHS5xWirAZPZWIlsIpet2yVPfN7\n",
       "w/8l+tQUyS+xCjc5au+fFkh/tVpGC4qQnTF6OcM9dAh6QYY+3YJWnOqiOP6a689ib7g5PETG9j/Y\n",
       "u0tjgQP/eLFo2Ho2iz8/HtJ61Pd/v4UeymxNb8wGkSYM2eLELtJiukOtNdAkH3z1Z5mu4A3BvnfP\n",
       "S2/5xrBGP6Z1xlMeXDRfHVCEAQN8MFE3PbVkRNpBZjWaEsbSL6UJ7y7I+7S/LF1fw8E5oWLyst5Q\n",
       "Bt2UlUN/mC31SCcmm2TBgMEciQuCfIgwQFMHJjn0/mhdh4BZMkTBlaYb6vL/6zosHrLOyPdv2CYb\n",
       "nNbMT815NNe80wrLoWD81mxwagxksdbEeTdQaaRPQnIyuKujBieef34BZxggwIEAAAFKAZ9xdEf/\n",
       "AAfGUJZggdOL/XVKqHcV+HoqFL+aO8dWoLWxb0zD+lHY1mCCjvwwALEdOAKlr6clYX1mszA1nJYy\n",
       "+5yBPTJBLI8diTVCF+RrlGyCNX+iQ439eh+qU8O/ExUgAFlC7qcvYWuWr1d5DyfbWRHksSUYOrHE\n",
       "b2hTVb4d7T0B/6wTaa6KElF6LbnbRKV/iil3qOrhx8NsSUNWeEZ+Q48F0N7U040f90Iyli4iIWRl\n",
       "HGhtRpY/Ps0WvPP4TWhLKJPvYmOqf14DSRwy4PayqRBRF7CY2fEqhvQfbAr7CJy6DOYdDiGBPprx\n",
       "QNQp4gDoGnVO993MD4xB8/L4tyQ2Ttv5aAlXEhsjAD7Wqb+7ZOqjFIABzvvw2u0Rl48jYjDAOmhA\n",
       "YnxpEc9IEMpqRF2k3ixGngmsb0owRxTxpR9R+8cop9j5QYeTrKVsAAABWAGfc2pH/wAHwxm+woKb\n",
       "z9P8ARooJkp7AQ/SmkAFVYWAXDuMhdo/WhtcvI3B+fr6Z3X0gTcrmyhhdwRA1gN/QFO3VD0Fjlnc\n",
       "TkfJGEu9UoZgR/ykpc59dm2EpYIpJbtdEyBpyy9Ko4p5Dr4l36SexHj0uqWeJvQxWt3LToK29yoV\n",
       "jBev1xxnVKTTx5AWM9BdbfZSskiEN+SgSYu8psGD2SUie7OQZP9JtLxIf6MZp7uasmvuB/GBYVWq\n",
       "2MeAOo34EBUtQXNof1B4RMFPifKneMREXxLXkVpKGGvb2+vEu01ZRLTuYjfhpjX5AMFzGCtC8Vjc\n",
       "E0X7WUfSDFGzsQc1Bjy44KpqS3xpHDpLtQi87T5B/qqDjYIa93b9Oh9HGCgTcWs5TBHT+ig3ET4u\n",
       "7U3cV6oh+f9DuyrTEkGYgrr3+Gj7DAAOgeQYE4tHtHu6UUW9FeesyS5voLiAAAADrkGbeEmoQWyZ\n",
       "TAhn//6eEAA7UBaAAcWirkNw0Lt+GQoqm9dM5NdrlyQtExesO649+q72IeYvIXxBskwq18t2Hm6t\n",
       "uX2OUSg1L5yM6wge6ul/AXIjqf3Q6oEdEPdzuugPnns2bWyvWOpN6+tL6IIb7p7S1eYkURpZmTNr\n",
       "fM7QIRiBiSCqYV3TClMsOrMWD3Zht/lRsqaWKTDcvl0L08ts98sAV21/eNQOAo7ABDTLSpUiD5j5\n",
       "FYUXTGrC0HP3sSUaKFJ/nBngIoa4NV1VtOIGvPwA1EuWNJeiZwrUrlONgbTB7t3O52go57z3Efqf\n",
       "40cj78gnJ8NFzWoBS5Zc5iH9/ffno4jBSzqFzSwgiqVnLCo7VNZ9I9VlErqA/BIfTdJ7Mm/aLeSj\n",
       "IwkP+UfuQtE0hNsqb5CMJZnSJk+WGNrXmCDCiomTWEMJaeMd5rp8kEiuy+OOsCrLjYv3F+2S6T3J\n",
       "tPC5QkUjSVnueWp0CF0iDwSgGPzk6tCVtJi41vCqtrNVXj24GEaz5ZyYuWnlJfeg//CXvPVU4jzR\n",
       "ewUIx9eEorF4rLN7mMIHjMoBQ/b9SAWbNYkPQpoqqDHZsiPwfNHsXwzMJza9Uh2YtXwuVja946jd\n",
       "8eIOpS7SFJ3T+byHfrZJD7uyBiIQ82vGwjCt6rmcccFjGfxWZfzF9401PuhAT4GzqSexJCWg92Re\n",
       "lDPyZ5EEY0HkTXUt9oeZA6Gp4HUK2iop89arYmK+7ERwpyAh8r+qYowdiZurywdWtznZHQ3P8VmF\n",
       "95oPwWC1OAjfeA1iilTK1lP60xYCPX4/AnHOWELm+UpVBIR6W6mS4Y1EKQyUJ24PdhNZF5cFlKFG\n",
       "tLPcW2aPiA+FUzMfyL2tNQ2hcie8nGUUctLeNdoLQomLsfUiCmmiLLUXTAKaAfACi7sWCM7OL6AT\n",
       "gWe5aPMtiH011YD3izNfW9UqInBkZUMOlfq1DvCmEHfl55ybsvouBc5fQzgKuAWUy49vkGwgBqtl\n",
       "btCY9kVGsVhOarESzJrJrfELP+rFXmvDDOeUSdMnkopTWaEKdU6rmAPtjWj293lly6IR600uYaIz\n",
       "m+4JxqDzA4k/wkRyaAlayKoSAWGa+3Mag82i+poZQI6NrQOGd4SN8I5om459QN0/LK93zqFlEqEX\n",
       "jQN1EejG1p38mk5D4/0oHy898vpGoVh3WaCCFFePRmMA1KYJ2KfFRKPZ2dY1wEEhYqb0Fa7xPyiM\n",
       "KXaeSdxjBWdGGNOuWPAohATqFINCRQAAAZRBn5ZFFSwj/wAExzY38GMulgQdyIN/Nnm/oQYSz7e3\n",
       "YhKjSfWdZqg9A8BzrO9NDgWghofU05IMB73U6wFwtnLMDv2C5EPHsFBOnBPwxj7y1pGQ8kjM6/Iw\n",
       "2dng8XJ5wUGXCL9vkctX9SMOPZkQZg+j2n3eNUq6kTDzIfRfjI/n5fkFdfq5kmylYi8Eu6wwAW1b\n",
       "1JaxPQPrl+wcUPcl32i1Y16rU9788lYSEUAsZCCzhqqyJ2ag7QXYrr4O4rZv8kweHBoJOpJMBwIu\n",
       "vyzmS4KwBxovfpyfTBEU4qENIIR++F0pFX9O7W0oBpj5WFAyg36UbZHo9B7fHQ2o0Yq5ixcUpo1I\n",
       "4sdTtNy9t4c39Tp/9Vs+N1PGFH8bFdLKUL0AUwahWiuwBo1ocaMljTjSc7xMK8i2v9JY9yL9RIEj\n",
       "SejezHINOCZ38y63CaGb/qEjyljEWEdf7+ZvvF6tKPxoN2gblcLWS5CmLs42GKKQDrDb3AwGpdTK\n",
       "Jd63e6dCZuonFH0ZjpOVspF+BOi1qjwaC1V49oORsAAAAV0Bn7V0R/8AHmsPq/aYChWJqZ0BJHB+\n",
       "aLyy2/aV9XvHHSQACuErm58Dlsjj5ZznR0kiMFo1X1V+MW3Unv831RWgZ3tmlP04beJOkwkSoKb3\n",
       "QIDzQukY5GWdgieSAspiz8G92GCwZBSW5cVByC9FJWA7qJBkWLz03iMHhBI+Ep2W8Km6SgBPrRNl\n",
       "gpHsmjJJ5PUkF6pJP2/ifWpLHrVV+jP6NQLvnxn3tlbfKnLYYxPAXCEC1/qGRE1eYZLRa2XYVQek\n",
       "ijzQrYD3/1sfwOjRjB1lBkDsCJwuDhijvxkaZIdUBdl7UD5JCtFqDD0wbaUQ+L4ZIXaM4AyB9mzI\n",
       "8/NSICBxcOSsLfMGtgsuQ0WM9uw7OD4TZxwpf9GoGx/kCAC6wRUNDZKAX+RstNwepOLugTbTlU/3\n",
       "Ks5ThrqHf0GQEJdGyrpAYWPDjcijb1HslVFfpfbTnYoAQp8VpQRE0JmBAAABSgGft2pH/wAHloiY\n",
       "7gzFdz0rFFDsKuXDiAArWkEEc4+w1xvqgeUYV5arU0DdK5V1nQ97kjDmyPnsWrwGG/suOZeODtV1\n",
       "NpuZvUK5nKK4DV8jjg/cozpf7EZyEYUoocecLhf/MDM8OkVMi1Jpwbku7PMIjKQdBBjSUVxMIahl\n",
       "zfsFTEQjt4TdXRaGwR6BLY1qNYaLRZP39mwB8yiWs390ImwJefRGUwXuK7AwjOuVqhzFQXzJhh1b\n",
       "v8sZmjpyx/j+WgLBxPNYacHlYjtVSVb/CBmHN5PWwl0duYN0CtdCsx/T5TPzPgX3BzKALryRUF8H\n",
       "KgN7JHx6ghN4sbMm0iy5cBB4QRXL9bnYVNFS801MC7hYP8KJ+bSccxjubHC0cv8bipcXodkxjMZr\n",
       "xlOk8v9gku/arhQg/RC6R/UfJGEKVut0FFd74eJflK2N1wAAA2RBm7xJqEFsmUwIZ//+nhAAO0rd\n",
       "jgBuvJNp0UZJ4kwoIiqSkrmiVh8eghkBv3eKjwYvunpQlK9AIDxdug0g0YBYDoUEOz36qJGnJrj8\n",
       "VSoAHWqBAVgUpqaz34hC5+LvhsO1xJICmUMSOLT5u7uq+6L6NTAkoxGaDf981JKgACIM//b77x4Q\n",
       "7eL73jnL5B6+D7PQ+K3boP7rbQTihkoXTVJRNEMbppVBk9Z1TTrIv+iEkDjENAQ5koYFVq/gCjb6\n",
       "+WHpZJE8faWldsn4JULZQtcgLIZAdc7Kt50rpSITQdkrxR7gg/PuSLJ2Ynr5D/JJqk4a4QwjqThf\n",
       "4ysEjZRZIpyFAILQKspPy+NQuiTY5rZdfjWzFTMw+Gau7SuGKwsFvLTtcdUjRaydf3BwwkXE3Cql\n",
       "Ovo+PPRkA+OQlyK1pthT+BBIPM8LF2bqqQd3cSx8BQuaZD/NF3HMkEdQykIfX6SmDJ2P21we/3I/\n",
       "dNEbM8EK+2B68wYUpAkX7cLFarCIo3ieSd3lwmdr4o+E+Uj4B7vGa6nBeePa2YsQ/RQ0Aapndc/c\n",
       "Ey/b9yPJrakRTqTsEEUmHX8jQ/26QXI5KA3EyKSDDyABBWV3PRNERWy6CMIuYI61wkl5tcWDHHhG\n",
       "tv7Xx86wpW5XMlJy/sWIyVEJZg9lQRnecCr9wa2m/NIESHEWKMfcDsyJC1uos2Slr+9R5pNAB8P7\n",
       "XLB8Ajofql9JU+4D2GyDAjHJgly+UTZJrd6053YhMnYa7wGs2hKtNV/Q2ZZ39J9cBFiZfw3h29fR\n",
       "l4z5h4xUnFjJ/5L6FS5iT4noIsBsLfBv0pfsu4eVzBnnwjDEhGd3I5q7qBgyHfBDDXL5O+XL3kTH\n",
       "oDC0aog33VhXOhKuAqYjuFlSml5BcLdzAy9ln9szcajkzd619mbRTAiGvOQnVW+7gqOIClgGB4/V\n",
       "L4M+8r5+n3WkczEacG38zo/I57uByUEnH2Npe6HEpn1+hrurdKC65Te8ldf7Ftcg5tb2Q6Z1I5Jm\n",
       "knr0dnaGWdpcF4M6E1/IbTVa0JfpbHQaGCOMCkZGcb/3wy+JOYb7wz3ydgfxjJWRB4rhicAz2R3o\n",
       "4Y+ojClDxuxrlag34LsEifCPE79xfOHFQhBd6hXmK6wH0GEWQpFuCPztF8FoaluRRyLoAAABuUGf\n",
       "2kUVLCP/ABNBGS+WCN2ARTQqERr2RiFipvF0gBUfss+KneBX+S1f4FOwYr3bU1alvDqcqBMvcaB8\n",
       "Wnmp0BXv+RuCJcDRGEjpdEdktyG1zWiVMTIo+BnY5c56AYJxEweCf7axD+4KTI3Ayw5HGmghOzeI\n",
       "ZQT1vyMm4QojEET4gGe/j5jpw1Z4JGjc+7Mbkuc9KiyQiKG+prKFdQECOhlTQSWqu15gtaSVIv87\n",
       "ednUcwGTm3ruwlUKH55byPQezhiOtr7RYqu9CBRjXPP7LtP6PLhMPrTdNeKqDWYgoi6Q/0LWL/kL\n",
       "PgqXZbcXSSMeJII/ND/WgcA6o82sa07XpY1Y5ZHy/+/rZw8UNf0XNlGkGSngZ7L6/1QwVzWu+Gns\n",
       "PBd/9CunAbnrZBn+iX2s35xT9BkXZrr5LuwSkj9rcv3cAOn2aYls3Z5LYnfPI26cMi7Z7cHMJBgx\n",
       "Mi85hAr8cQhZ8ue1RJfktceaTRL9tROJJYZtgkTYKbyHntbOlf/8vVG+mg7CX1wCeICEIkoO9nMf\n",
       "bfevRolN6FstO+oFtZrICGDLT3UZfxZuz/HcPXamZXgEVUB9pyeOOQAAAWABn/l0R/8AB8IjqWoA\n",
       "AmOMDmN9GWwJlXSJfVaHBZEwtj5/VpZ0GiKQPcfTxSZoLgdHW1dWqFa10rFTGP0ybgdj4/OsqJjw\n",
       "T6U4q/90lx+ltbPliu1t1/D2tuZWTz03+ByvbodN7nsg67lO7oLV93JyOob/SzGZZPHuVypwVXgD\n",
       "/nBRSn1eLn7g0beVhPSFx8NOz6y0PbeUlolxbxLa+Mg1kPoNHSh9zKU/TNbMQ7SNuLJ3JrDLpuFc\n",
       "8YjkIN+WJcQNI1LjASRwOSX9Os3Edijtot5Bjw8oGksXttosJ+OhSSaY0r9DruZv6OGzeg8X2vL+\n",
       "QWhDTbsFcXWJkGDGCI9LYhHPv5IxbgChugbT0HDeNRvsxLkqUYKIcMtiXCxlSLCw7Yw4IIElF0sz\n",
       "Wp3FyZR+mFdDj0knIDfxG2eZq4xgpG48s9JnhTennMnXlFY/9TQmzH0d1gdOhTS8OyHNxPSAAAAB\n",
       "SgGf+2pH/wAHlohx7zGxu7WGyONonr5hwMrZHjR6lqeABmM6dUNry3mACtaQQeuendCDLCFHJDL5\n",
       "xqqmeAp2qdnzcDE1Apv221LOAAhrLIMUB6FpBkXtkElM4PaDgqn8FL4diOOFgs6DYNYrvY+R2PIy\n",
       "sZFGZ6+8/Xvkk5DXkQ9BEYGG35FiTMdDJtNpRRwrZg6gZydJNCLihKiTPWzFyJDyEVkC7XqwToyu\n",
       "FbhH/hgPCdy815+1WA3hqaaAzhhnrahK8LpGuhgzmNPvpFNqaaJc3uz1e/F9OugaIQaSWxRsqQFC\n",
       "gzlB8skExeBtBpCkUkqF2WoWxS+zQcVZAt92nYXw14UjPewD7P3clpYwzRErq3MaTyCb0NJxu3Tz\n",
       "q1t3vrwaTP32mre6XuxaovOyJndSFvuekUAPHtdQNf8xo6w/MZiH4kAznG4J2QAAA4NBm+BJqEFs\n",
       "mUwIZ//+nhAAO4d4eLCZVoAJZLyOhIMlJD8jYJdgzxj85kJrxoD1qbm78Ak4Jdws2OyTEt2HrLJn\n",
       "bXnnVzll6ODQNDylra5KrycdYYXfbVvNfXTijcjLRevlBrEZ5ltpxwzD+eAiQ40ZlbBc5wGMYb9i\n",
       "z8S+uS6A7eYWeeysyVhZcB1vxs4ph5z6Uy4aJhjOYgzsG4tON8zyBnfgJPzRDLS6s0+EprRZNKZK\n",
       "flo8Y7gqVVprO/W+ZpF5AJfvhU4uanxJFMgMvHI15jpcnm+3BMwaoliAlxCwndU1+PWWIw3MMnyM\n",
       "KwM1DEqYZkZiwrCZht4uYct5e0wwA0f0Vn7vE8kUGPbpJIuOzwNS+aCUAbVc21tuRLbpsA6CMOeB\n",
       "bykbAsjt9EuYkjUSVXPVhV5redGe+UovL8P7RHIJH1DVUul106X5cRo6cmMH+FrhDSDpohVLtqos\n",
       "oh+dUSHGfIGfiT6iC4m0PyBvgx+9J4NtsEn4jx1iIO3T3QcNWaLPoZR4Qz8sX3cQsp7swvX1wWAP\n",
       "IJ57zq1w1OZgInVOMfFtgyqM5NbAR8sTdT0xM1NEMen++PlUn4qVWWvYO9PoKgwOQlR5OvaKSmeO\n",
       "esQRTmpts+EFxN+M4zIP6Yyfgz64vWEGL5UlKelVu00FFciAjXLtht2HFDrJCfLtVDEtWsZq3RMS\n",
       "fU2cJyj53VNv9vBuZbokHdEuaXoY1BQXNvWgJoyMRTghgEuEMGruPEebIOKdrKKVc4KdAXZbqsYT\n",
       "U46GFFhxM4ZNXjS/Wzf3q5fVV3fq6hAhLrSSs0wHCXU0vIuj82KPBcX/fXtiQKjDJZ3DOEwA9L+d\n",
       "baRIQgYzSibDyS0ZbOOSE43AW6PHGm3KNpvElZ6MQXOV6h5OJWd1sIvpanuKYNHDzb6GZKVvaDIu\n",
       "bNqIuAXyTDE+W+Tq1bTM9bAulLUQ02H+0klV9jxXheX/pH77SNnDu5tpU11ckF9OzfAsopgniLYy\n",
       "4Bdi+HrtOvRjr7dE+ZqKq2QCEW6+Jve0LtEfn1u0BndhuSPMEEsr2JwqkJUfcp1pqxtaGlgqTtiP\n",
       "/RfzBw8YadIstxjq6L6GF9VPINq3HKKMZyJV52Z+CBv0azCGl9UkHRm71sGfngXYUismRIF8PBIQ\n",
       "2VM3QHE/FJVRgmCJHs2LzIv0tCWMsStoqdhmicp8zhe27a1laQAAAcxBnh5FFSwj/wATQST+6Bo1\n",
       "sX2UTwCcoPJ5sAAagnkX1zzfO3Ik7p+l/kplsO43uoOfDisy2EJZqAZm/lbRGtPD5ulAut/LD5ap\n",
       "q0U2Hm16pfRbTsXPCifScDhWwvzQwXdewHnumjpAR7TQmzElchL6wRFtLHrVb0RgdKb64DwGxRLB\n",
       "AGhq2n/u4Y7j4WG8pq80II9LlR+RNSB2eZIjP3X2yvo7fbCgpLDQvZh7c+UC87mMOESGqjyqniNT\n",
       "jqKWtjRH8gEwJs2u6LwaDjqWa8LCrF1/0Q0etdFkmVJuP9NbchVTMOMZuxCAmrb5GVLncqN2ZY1A\n",
       "+nZvFmSXZd4DgUfLKZ2yv9mYTpyjtm8Yon3tzn5tmQ+kboQnt4nuYoAW3jrQI9ziTc+26QXICche\n",
       "18sRElcQQxD0Sei+LN886XMXaieSpfVGJ4kQ3ROfyWWurRLWmAGEzR8jvgPwSE/FhVDMUykDLdlM\n",
       "RlkfOcyw7Ks2ggg5JE2RPQ4dvK1E4+R03LHhhoZ4fs+S1gyZvn3D/Ovv89/c9niLMzKbnGtYN/dM\n",
       "bY+KbOR8DNS/rNXcGRaSYMW9+MO5Z5mTX0nqIbgWaDiCUIfi9rzQ67QeNgQsAAABWgGePXRH/wAH\n",
       "gTryskk1zreNOkTJQlN8AKsSeoiUjxf8WaIjhk0qdTF7Fl0+Qdn0xu0XpIFxIzKVJCCYrQJ1ooU2\n",
       "iiEulxyuQBto8m9nFan8fSRYYD7hjo8Da1BTMCknz07LWn2gQ31xgG19Zf2So12J/SL6gQU36vUH\n",
       "otSIBL0ObssPlDu8hxpzKZMEaNMqwEV8DO6LsflvgZuI3P4kgV+e5cdtjInKmtzUF3N7iNm+mpEH\n",
       "a4tMkMaluznpGV7DJ9oVK5emR5FzT+ta6HcLCYLihJOSD2/r42hcR8c6oqa8nnlM70CAPmlrjbiu\n",
       "rSvUu3COn4rRyyQicW8mE+CK/2J3bPHpUAuLo3uR7LC8t4MTWw2yQ4XQfjNu4XtYjBYgtfZ2Pttg\n",
       "FoQ+sdspetkIs8dymCGWwHJ4KBm/DmSwFz5IMdHUOE2YL+/sUuJ51zmTTlHlbo8QtRAAwIAAAAFA\n",
       "AZ4/akf/AAeQXgqiJRNfu0AvaIEoM7iIBSgD/ceOnKqLHGlEX/6BVHTnW29aGpeAs9yBq90Dp4kJ\n",
       "FuuTGqNR9OYmA64P6mgBGB6wLQtzZf57aorDB2OaZAXlpIMCZpc7TKhzjMMwacvKJ8WfjSnmGEoY\n",
       "SBPb6wFfUbkatj+oVtyHwXxJ+gw+jgVvFCHsKPiJfmNHaFDnYn4Mi9B5rGvtUNA6xEWx1Vz90/fr\n",
       "ny7IDybDA4f/sF9rAfhqZwcUJmbH3WwwFdqKfxBH5hKWzrkP7e3c8v8SK/mHVjrPDxmuNtxBYeOt\n",
       "ZVLyrfbUPnF3tptRGp59DjLuh2AEtL2D+9FCvWL9jQJWIXDoHuK/pHE7ZzVSDxK/MFrwaVafYEUN\n",
       "tCxgsZkvdnI2xeCpHfZlWamu/9uZsE0TXIQkWKFse9pQJOEAAAOWQZokSahBbJlMCGf//p4QADt9\n",
       "r3NQBFaiAAKESr/0FbhffNuDq0LKrXz5DMK1vZvxPovBZ2/Im6fMkY6wrvAA960+efS+fl2oJlzB\n",
       "SCM/pWrLAOScihL//mSrVprCGyCLtPmAU1FxZKCM6rLbNoNL7aJuZemTckdh2G9FsjHot8twG4Xx\n",
       "7OYFfd43BYojhuauxNYY71bf81tphSoGAfCJjZzQvcgYatl7yyy06+l1hkSb5yFLzeo+3vY7u1/h\n",
       "V1InAZitJaAArcJdLn0gW7P6r4GuCaT/ebxrIXxa5JrKmZjVTxS4RqaPUOm3/bOa6XHKE1/evh3s\n",
       "u/3G77aNbSS5QQBLw2qDBzv16wHPB1MUlt5JuANWQ1GQ1UAEmn2x1neaEWLcw3gruhzN5vIShk0M\n",
       "tL+dCZGZd3yqfw+f718bkgAaQSYefUMK2FPj4MvMB+ACmyigCN5du9o5jBOO9O2mA9APZEaqa2NF\n",
       "4tYgb2Fl+41a2dRIQmEDY2Q3WAI90FZssHxO2u328IKNKHLcibmeeUBeCall27O7b02BieMRCyGv\n",
       "A0DXUK0a3IgKcoaLtpztWccknnPxooGS5QGCdreSaCWYbuC8lbjN/E4MZbB9UlGgMG1XLIzC0O1U\n",
       "9d9r/HJoSxNQ4h0gIBSidWAjAforx5EmxX6vFQkPubg4cy04K9XM7yt+SPEhi3wPUUZMSn6V55wi\n",
       "PchdE4wY9+SnC1wfLeFFgc7MFPVMKJw75XMVjQCAqKLHmkP5rzwacrRDkwKI8ap0kbxmpOlwuIm9\n",
       "rn/4LfReUl83LO0FUgbrEDmBik+Y+JSGcn4zGHxkNgPgEOuDtFCsfho+R6MSwkNKCNXXRdQLVfsv\n",
       "IQhqCHuOVrsyzcG+E0ha3E2JtX4Vy5eTuXXwRMhDXKcWgVeEG4wlulFal+j85db52BsneRsArT7k\n",
       "76PF1ekXyFPoWmq6EtodVn23YXqMcl+5BrURzZ3+7J94lS0VbzSwubTfir4r1Kde3UP30wYtrJbK\n",
       "fcTBZxC4+49vu4vsZUhfRNCQxfCa7HMlaDFNdUd6Sa43yiSk00tfM08dSTp2U1UnHMb2b3RSIHUl\n",
       "kCooxTPfaRXcgS3LJOWOyupRLT55A8D+0ZZouen8D0847VC5eDlhZ+0hZ5q08jWZVJEP/rjc4oL8\n",
       "XiaHGuJZQae6JyYzyT+7mB2dfFGWStFLato3Nl4uEVU6a3YmpVuqYj+yPcFGAAABwUGeQkUVLCP/\n",
       "ABNX1AYSfRU9KqiCEU8HqLSCDATBTx6ej962c31bkAKr9LD45yHwSLtyjhXEZLQbImbZbexWwzKG\n",
       "w9NHb5coUorBjxpC05RInv6VcCBe6JjWPp8vGR5Q2702TWkojYmttIc/VAF3pK/zyyOtkbK/M5Pt\n",
       "E86nx2LyqIRhFg7IfjisZVW3qSULmZIHPYiIcvfCZAUsq5MUYfLb/kuujuf0SCE1W/dnjgtBZpV6\n",
       "NFss7FdlbYp4Q0iPkvc7GQQs6S0KSDaWG278pCk/kD2Jtsmur4f91JAaQzSt394JJeTSjF9PxtRK\n",
       "9txtF+68X+SJ55GGs0IecmCjGEX+7UrSnN8qxEVBvh9rXDKYammrDdsLoi1lTVtk8uLjlaQ5msZe\n",
       "4AcWp0mh0rfVRLritIak/3msGKIXT+bpn9k+S2mxYkrAJn2wVvJXjtYXhvDyIWHQvto7Q3Yjwt2s\n",
       "N4YtdglQ1xry9i74eURPCj6klhIFe9aSRXfY4MNxvSWIbgSMHn17vzohzuI6EhPgiSh+xPD2arg5\n",
       "ZQrBwxJ68gtORriCwCkeaLhOCIACrwt06PLmsL/uPQdIEdyA/pwlnUj5AAABWwGeYXRH/wAdmAdY\n",
       "qGRzfSwMYY/3p+4Di7vYfNGL1mhuugAD/L04dJ5jLfbRNfIFhjDHaWt9bufU1eF0f9vJ5kl6Kyco\n",
       "TQi+8uH86Ho+1mScmipWIDVIZ64/irTE1MpnGMiqdLYAn9GIWWhI9CVlhgoDH6rSIEI5p7AImuxM\n",
       "Mlz/BWs6FAPVcOnFFxczqbgszeBsd9OYYvimwpkvIqLZZh48JxxQdJFRRsxLzsQISbmjy8k9ZkoQ\n",
       "iDrVX4TN0owSWVDCHPzie8BAcwQ6YbZoB0LLUQ7wwSQGFhwajnjcdjKzBP6xeC4U+4btO3uAFEqk\n",
       "kjaWzM/69t6eL3QUHDAMSMvcc9gBuJo/u9b7apBkSmN5TST3oE0VrDwYTKDxDWrQumB1VdJWH/Mh\n",
       "DvoK3Mx2M3hxPwYqPzNciXtxHN3LWDqeyDyZGydBQetWoCbYMBjqB6iDO1MJ2EZBX5twAAABcQGe\n",
       "Y2pH/wAdnMao7+fZHABT650Qygo10X60ebw1Qig2VOn5lc9PPZsJduvP6uTepzBPnxpNAMkGBO/9\n",
       "Ksa1imORi49BE5enmgggih0KUcU63ZuO71G5kbpkiHJbGzlEcDKSLCd2oe+8MXSuZuAFy17kaO9y\n",
       "ViazX1xVUMQAaibnKWGl5LPQV+Tvrx+Fl8yBVOb3HlVx7j65Zu2SmeLsYreZuXekOTihLATuxvkx\n",
       "0bHI/xSYKXms/L1k+cKFxG2B+gpagT1X+JKTe3fYjWrQdCo/RBFYkBkSijUF0HTme0w29JnYhyxr\n",
       "NQdtW2qnAgZbzWAVfcxjaFlXD27vj+HqxSXu91csyLpPwBkI+9/F4jZuMvoziO+49m2mJRhZwHNv\n",
       "tjFxEsCk/GMbPgNOwUG6DAUzOZZNV2ZNEfcPr4c8pJ3R/Z/52flAMyz3A2uNZmraGsc8mWWhvv0C\n",
       "0TqEHddpMqqgApRAl60H+v9Nl3wZAbehswAAA7dBmmhJqEFsmUwIZ//+nhAAOdQ6GyzmgAFzBSoR\n",
       "XCbd7lcEGn+fzV1Ts1XsoM2psUqmqPswDkjebWsyITtYINQrjAmElwcIdDf+hUba81NSBNpDOQNV\n",
       "M/0k4/T+5Dd4kwWOWXwmW3p8zJn46cZ4Vjz+qoRNrSQCsiRgS9YMC9duteu+q+P2KKfxwUQcpXt5\n",
       "S6Dt+f5VqNRhvGuebHCdhX2R3MRurpRs5/aciYdL3IPRrqzrAOLcynIUKGtUOmhYWncccsB15TSh\n",
       "FeAbmMM3Tfp0RtvMjZrSqr8zC9t/K9Y+5vtqkwqyECBDkBW4HSzwaWcTLL14qLhTHZe8DNeMbO3l\n",
       "8mkH9wE+upeZCTTnj4qFIPkSndpQejIjt4i1NMgLJstx+ehi7AQ9laq2WSseyiTefF+yFt6baHfd\n",
       "cuz9XySkGjvrpJ/CbvpxuDZ7BMwmClVxEbLnrRev2xtDW0S5GhTjaKOW8otyX9qnKWrp7zQGuDhf\n",
       "hnQ95VmEl1JdCTVZnR1RLSw5uFFr0k2gG7fBDosmMoMEFwUuID0xwD1jJvvTHlh15OSo4bpNjrmi\n",
       "IZV1iDiN9nRyyshAe1Dub+kg6nXbNurpokxbDSdzCnKp9mMJjciS2ksW7E2J/mIG5ze/kRSBupbT\n",
       "F4LROaHqe2FEzsw+CTc+DgvvBxQBW4sqz4R+FiNomi1owtz4v3z7n+IJ9d6+TrhYXT2tfY5d8nGK\n",
       "gfU6irX5cecGjejcLRtT4wVVLCjcNY5Gj+Cvkv3mvG7lUDDrS2T1OSdD5bR6gbICMmSqDI4qW5BE\n",
       "SuWGBeQEnAVzkGP6l4/7MCUoxkT93ABUzZwyCNs/T/zxxFyxk9OdWuTQFzlvYkZhdn6xTwx2Sgou\n",
       "yjX7l5IO8pRWNVrVxwvwJ1Tq9WQLX9SQ3L59EnXI24O6Pp+h9JD1+Mk5Rqz2L1Nlj7MmB2s6UWvg\n",
       "PIk9qggImbKJtPZPT5SKdH+ZEadVk3bQAJEGIj0Q0z0NBrKIHFkK6JmiMv0iVA5iGYERm/C9d7hM\n",
       "+bsUt/86oLE3x9kd1wn3QknIWgiMCYUHNdotWjtLv6qI2AD1mycA6Zc1njRxGB2P8OGFg7jC4TnV\n",
       "aMqWPJH05ScJ4reR9dQBBbyqi3qhDkQMdcPu6XXDJPQvigAlS22FaQmb01jPsaAY+UTT4QUtT9SU\n",
       "2SudLDjjhA0gFdnMK/Bs/ebqbGVoFQvdz5LrRMU9V1cGhviJ63j5U82bx536aDbM4+h0ao+a8tqE\n",
       "XkBB0S0fTaORTbEAAAHUQZ6GRRUsI/8AEpsljnEnyU8qcE7Brh8a5NiNeQE+64/Dd79gB8/Pb/aJ\n",
       "7ECpsHjM9dAjeiytllnB+WfSDU1JtNkpe+NJ5A6uk4SOdWUJS9XbGgzq2LCxUBRuEqMzf1DofuxZ\n",
       "UMlwGfXpfs4vdxUmIueW9PaP0kOTQm3N6pnKgWk1Ab7orai4IlyeHurDK5biV2PnCuoX1gFKB6Q7\n",
       "tSgHzHUjXRP5oOJHfBpMZKSO+N2MCoC7KsH4iNuve+Ba5blyP00zgcjHZFPqCNuYhaQbwmUMswGB\n",
       "k7Az+jXkUYpL/jbFTuPOxdn19emwmj/7ysmh2At2fdMT792hkcVAaSWv3aMIv5zBL8bTMyzZjrlB\n",
       "CJpDSDzuD+q6IXyOR3Wc79JBXHP70YQW1EekoBvCCqVjBmqubC6IIYh1rriMnTyebplsE+A22jKH\n",
       "mUDFglXHD/IP4ipr5+KEvPWb8Q46RNo4EVUb7MjgGz1Sc0yfuHG1wOObqWCSFDz0ISIc4sOBF1Yr\n",
       "moaVLe5hdqRQ0cwHGKmHU1khjRsIxUySrEJ93DKVK0iXguUw3hgXHC6b3ADrYRyDXlT4jXa3S6Yp\n",
       "fNTOAk757MvF48h8stPD1Hu9UEEB6QSoOgxZAAABZAGepXRH/wAdjZMmkeyltPQLxzjflCsyfRzn\n",
       "xzTHhY3aUPDwAVrSCi76MRV0+1bqsWR6sdoR6rSqzEpe2lH1YifTla9/xlkaDAxVok7k+ycqjH34\n",
       "G8eqpbrNFcFUB3xA72ry2SkABRcbV+7Nzt6vW0MFYCzI56WU/PVJbHMmIxORR3FseKajegbgGUrI\n",
       "nRN1TQiGQr8MpE6HNbveObQz060NLhIYMhr7OJpz2XDq9HL2f8Wy+8r6g3oweSNiXSOKbEA7ocBL\n",
       "GaN5z+uh7Rkt8mT7AEZCmshZ/+gnu4P5BVLLb/55s8y2Fwj0haeHeOUMgpo4zSSs8KC1aYcivix1\n",
       "LRlZMFcMwSYJxnE2QRoh/hC85ELumIDj+gZ0EDkzifwVfE58MuGcXZBCzb6QKbxfwlxDyK0bRrla\n",
       "+B2fHL+jj7Fwg2gqg3dUZaMDHwwX2/PRWRTlHbGc+m5xhE6QaHggT+hJfTAhAAABVAGep2pH/wAd\n",
       "nMao3yGXnednzTv6Pylutv4coAO4U49V/aY4z9CYb8W8DyMCVVCyqH9Zfa8VcWdDGN93b4tpo7DG\n",
       "UCHaCFcm66gseMiuAtV1GDjbC9BwhcyjBk0TpEtm68fxxe7EGVqRmDDu7hd/7rxZaMPyo+HapSfT\n",
       "mb6k/2jG2xCy+hkg18LxQ9ugX/VvzXQLIjvbE2Ntc/tucA+FlnHYT7CuHCntGYO30e2bxWpxpqqE\n",
       "i15U3CeMiKcoLBanissEDnvlHMLQOeITHJUSIU77IE8GY9U6Fbrrhqjd7GCMqSwn6X3SZbh/3dzG\n",
       "Jh4kVAdRBQ1tiKsQK/Ew1WkkujH72U0sjfTmdG34ohIbtu3QzuiFchF5SFEAxfCygp6CSS+WX/9H\n",
       "6BuN4GBVMLcu7v4CxybF20rfQ/sV5agQ6ecwiFfgZwEr331ZDslGQQzVuSXeBNwAAAOGQZqsSahB\n",
       "bJlMCGf//p4QADodkR1AAOE+4J9Lq/yXyfJtUFKbxdmsuo+1bf1BzFtXd7sxhB5HbDJc51QC0pRx\n",
       "SyKrlqZ+c66aSrvMv3ofNP8PLBtMJ2TzpYTAnQQq7mYPZvfqFN1cWyprb2lyBYaV0B1u4rTXcAt+\n",
       "Wvof7laKK4nugvRYUHpAP8w3CnqRJR5QKDBPACoR1vPYiXpksFjzM9luf5b3g+8aRS6zbaHLo+kH\n",
       "9jUwXvFgyoaTWoYX4nzQPsPsTfTHnxg1X4kDz6wIuzJmtfLT1Lgj8Ta/dLMa3PJGAYZRIrqjxG2I\n",
       "Gby4/eJZpjG5xgL/dItEp9gOpFRUKfuQIgWTVKioC6mHYI/KxFuymzEqMKy0koDBLJMPGJiKP6Zc\n",
       "0bIKjIvVoV/MFtr9BVtdI4UxlJSeWMDjSsjquLXe2/AnHQKPETvVQB2ncFFxHGQKFD1BbCXsbC9h\n",
       "VdarW764y+PKXhJt18URfAdjXDoml8+P1BgIM0G6VOePdE+2fIloVy7d0BK2ltSlQN5wNCy3EY77\n",
       "vSQbv96z0EYxX2SprwHnACafsXq3ILUSEh55xQcN1y0wdq1K6h0jJqnbKtzx98TqF3nTrZxtr2RD\n",
       "a0uRFmtdFAkcI2FwW3ZJajNgLENdisE7M4oehdJbPPj7fP5h9PEISpfjMxH4bogZIZDNdlIW9A3F\n",
       "k5CyVNdxbvtYCnwtCYlLcpk3NgTnni9UVDnz+82cxV+2V4xc7BgF2tz85GnqbDcBteCLK0yhmNg3\n",
       "KUAAtv8TAr1GYA41JIf56tt+gtZRqUYMatqW/C0MJNpKXEEQrbkRD4oynIVjye7I30L7uMduI+at\n",
       "PmIWqxJSOvNbCCESR10AvGlA61YyBr7KX5zPx+EyD5b2+FR4yWtLEn6Cwcl9sR/K5x5GDctynPX9\n",
       "nfE2MM8mFHvZYlVz30J1Lbu1wMaZvbEFOlvI8Y4ZJOCtF8oFCp4kcJGyoA7y8rgRjhu1gpJ86du5\n",
       "4Rj3Pcl+TeLF008J4MvtG/so6ZmouVjif2uEdqa9nMlag0vAOHpwiTjdHviYtn0qT95eIaEN+OdO\n",
       "Zw8su3mshr+6HjyfePBxuFNCvHkwBQtIBsd4u+6iPIQSMZ9N2kJEf6VTs+4gqeu8FHRMyfsSWOMo\n",
       "8H88iU3lJCmAGZLvdAN9OHAYnLwVV0dx3s4GbJE4OQ1Cj8o86N9QqfIAAAGEQZ7KRRUsI/8AEseL\n",
       "2Y4U4mgJFEvaQI6refV0Y6jI3q09tttQAGe2LXxbs1rn9ZZ9TXqlp3BM33n4j8VNBGCkHlUZjWdT\n",
       "RTCIbDVw64JGWVBTudHV5Lvq30RTwGVQBC8B9+DgjDSN9fvKoMqtEzRu84x05NRMAtc2Wbao0ttQ\n",
       "odOOOxca1e6PhwGTc69FoSHOkcVKndpmnd9VXFtSjqofg73UgBJmu6U0TAQEVLJN0jsH6lKSitGd\n",
       "cTYgOCE9I/hnDEByUA8rnEelTCWguZtmjrrZlufycy9LULVIgH44GkmDYvK1DZ7yCJ+eN9dUDcvi\n",
       "76oupG7fiaIcf9xntgk4/uZAW4+goSDgk4XnWEBnMJyhsIrDxuRdjJMsFRpa63kmOCsdeqfIJvJh\n",
       "urBoeEjKXrEhHP0e4H/FbixMMGy+5nTAdFgOIYkFYjqehVXDALeAUD2aHNJ8eoLItUOGQquw7Sik\n",
       "YkXbMxZgRGJDzdoyS2aIZQ/ejn474xVp05OOWG9HtPZRDwAAAWABnul0R/8AHaBZfSirtBTli6b+\n",
       "CwYT6AAFa0gksEFY57UXtxAtdRa+1egQ+cRKVEx4t7HPvcgFztIdIWHPewbR4WSItwhFXhWSjZTL\n",
       "rfYoqBJyjKMmymX0es3zu9AIXlNzckDA5iC4N8YHQ/WC1RDrCY4W2H8tQZjngqV+4rLr4Wv0xw38\n",
       "UbP8D7jnOUY4FimDZ/sMZ5kVKzSS/3fyleSfHI0dlFuHQuFGeWnJTaS/UUPSERWNnsrY/i9iIGQ6\n",
       "HomWJgEzBO4TN039FcwLC/IMquS1jAIzK3hq02uSbk0KGEO73BPgCWNaqvfxZDWsnKxPpwasDs0Q\n",
       "ieLukPV7AEUHi6/68Q93Puj6SshLL1UMKbYN/LBUMz8Vy9UZB1Seqnek09JW9CwXjTdDZf8ekHuE\n",
       "BsdgBmGo1e3ST2yckoYKCPBn+cBR8mY45KO9ArLl57GiqxvY63SuNvrzL9J11E3AAAABUgGe62pH\n",
       "/wAdnMalWL9ndi7je3rsh4wa6nB8WMAIwPa4MJABEQ1yGeJWSC9Ptm1OIXer1qgY5cVcPdvtP2IV\n",
       "zLu7xlNu9zspOzwUJoRvBunbfQnjvA84oEDXtG9WVcGgsCANqUCfO+W7lFiNcURWDkv9k4gmzfp8\n",
       "rHzSwrAdil+iEqVIjIWFFyqeMf+DgW/6BA2Py0sWkQPmFtpxYgMd/2XI+1D7uSnjuyvdeFDUFrc1\n",
       "NPlu/OOc7KrFL1sqr77wZKJvmWQbx6Ur8F6BGY6Yu98bc/1mJ0S0Kg5I+Z3K6XDzKBZ8ZFfFGrzm\n",
       "CuHenby6TcUz5UjMY2tHfRQ42YlMsVQOuD0lpwvF6TzoHOKFCHN/OzJ4R3ofo1nte+vjj1wO08we\n",
       "tlV1no4JcjFnHZ16qAom0Z8hFFTVX+dsAyireMWBxV9MbmfjenbYG6zdK9AutOWAAAADcUGa8Emo\n",
       "QWyZTAhn//6eEAA6HZDwCXXRsY57OHQV047pCLuuXdm6pQ9AuSs9sD2Q2A74zU4lqTcMgFyD2cf/\n",
       "4jQcLM5fr95r3inAKCmH6+SgtOLiD/GOl1c3h+l7x+Wt94neZjP4ZfwMvPUeuzwPIpeGLH0izEzT\n",
       "/1QuKS+LM5j+a+U0f6bQlrzPxA0T3uXIu2P7KX/xLggkfy3GxZYqvDWU4MWn4YWL2qY2kOxFc4OG\n",
       "VGz9uEBjj8qTbbyGAdZUvqRNKe+EItUqgvtiKWN2MzMQnwvmvcO2+RTpfuFQO2GMnMFQgGN+0Po5\n",
       "gl3DthZjnWXv5x8kds8ykacHgP2J1XFCSYRPfrZWd6NksrDRR12zvS50gK8Zncf/RMoHptRdIEDm\n",
       "8SGV4VTuN4BJX+zgCtdA85fPj+2Z0UFUeNfKL44pacXy393z2NhuYH23izPA9aqsYi+admAWoI3N\n",
       "shQH2G4mQZGUAIi4bHlPFFBIA2gfodCGQYpGs5Nmx+Zl5OyRSgHO1HqeOC1BaKjYLQViw91cbuAe\n",
       "ujy8dPaU+Iq+0Hp3Dd6SRdrFJRWOx0gmiFGWJPIz0K4mnvPDeQRzpoM/FqKlf0TI8w7izVaXzdUU\n",
       "/+Wy7AnqaN4jUaJMw7HXo6xHtWQeAalZuDyKLBrrgPX57zVg7nfYEAMvrx3MT8N9mJAfzbHwULVY\n",
       "XRNPXBeZg0ZfRAglc8wrxCfNYh6luDAVbsKXVke0IfxOtjm/P//9FqS3jpH2JKDdfNj69CM8j/WV\n",
       "V+vDhw0+ocd1TLqvUM/lMCKh0Bt/I04Jr7HDr8gGF4gzWhScx+IL4tqDTI9xeoDuC+nSK5J3jBhr\n",
       "CjERVgOiUvSOTSn4Q8vGcnQ33kt6KNhVKr/Ql7X1zQwCSHtC1NYqUqAqsk6kzK6nKT5+LJIBvuUO\n",
       "T7UiSYcpb5I7uWptV/SWdgX0FwJQ3bHUDRs14cZCMFlX9roJMhLNHWmeAc8fuSTptpJY+b/Ln3L+\n",
       "T3OvmP3pjjtzhlLvr/Qozo1mPKGkYfwGkuqV7oQ/kv0VoVX5QVksn0XTirgkX4+xbX1TDtYG72dO\n",
       "Ln0bH7vRDbbL0i+JnvbCbPyGQgnXpL6BGIcKMPsxG/MQSc8H48CzVWYtOJeQO4wM041Rmqa1hBvo\n",
       "AdS3/uaCeIhrq2y715k9Ovsq/jZBAAAB1kGfDkUVLCP/ABLHi9HyEpnL519JO74WcoZ9CAAWpQFT\n",
       "+tC18m83xSX7y0sPYoDPWck6joeMpV6NXD40dJhuBAUGBT5OioaekChltAQD7uM6DtbVxazfq0eq\n",
       "78ZbC0a6GLXVL2vfgfiZ6vz8GRoeBqyzAu+U4zMHlde985d+vCgI+XDSKjqxW5ufJ5SvwZiqW93j\n",
       "SpjC0j/3+CXO6xQrTb/t8yMP4izHYkYQZXYgDvnE72qdZK4gMgBFlFG+p7fgqNv83lG1fBRdMOqk\n",
       "zg+DNHa02lThu3i+x4NTs2U7qV4ePNuCIY9uyDB8wmGf9dGpZV5AagHZTDqV0uHekPPBgvebOD6N\n",
       "S6mgDDS15njjhRR8YD0+Z9ejGu3UMxW98+H4veTwi99G1DoiTJUTjaEwpZklF/mWgt6sO0cGA8tq\n",
       "f40C5LfhzDoVsFgm6quJgAIyngnDqc8FqWXIsj0BGFaaj7Ll+esXc8UE5q7vsl+zccbLHmqsvvUc\n",
       "dZB6iwabF3NkjHb1QTqtAXBcvja72/4o97KhrQucXT4fd9w3tLg2mNYXTgcT9zBF3CPKTq5tSv9c\n",
       "2mCF7wenQOIIXF4B7JhND9q7xwbw95VXS59PyhQHCvqbCxVsigWVAAABXwGfLXRH/wAdjZMmd6s9\n",
       "n89tsUZMATIE17TMOHUjxxuUCudACMi1wM4p6ZChGBbTUk6UEpzlGck+S895xxF4zQJcAySAmrL1\n",
       "3a+fA9MTjSkePafp1dh57oHpUd+B7DZ7cnho/AhQE5BYhYkpF6AKBILo6MLoU0u3pdSI6EShShV8\n",
       "yPXSAKYzAgVaDn0lWDDELYA2iFNecGa3XKowRfYlmftMaSYRjSdJ93G0fhKnrA8dYDgd3frx9AVs\n",
       "N2lFzkZ+5YuNmXFSojmOjV7u6YhaiZfv2yFF6RaJ1FtiJjQgqDx0QEBZeBYa+cpzjXvelfcjinDu\n",
       "qft1DsDnj+GZsXxWhWzXod3L1CTD2G8D78SyJePMioVa/27PKGFntzhUkJS1vm9/eO1hWN6i/TD1\n",
       "xFVBB8hnXUUSes54sVSDrjXVxwKB7nYrtKCIRdEKdvZwFjhXP8tO70OAJuhTifEC7q4hAwAAAV8B\n",
       "ny9qR/8AB2hWGCM3xNA548KsepVl+b+QsPbnuDCXmmPmdkbl/Vz/27w0GNwFMr37RSdijz1LLkDP\n",
       "oDRNFioqgYARgesZLQmEWy9m2XxvXY2q86oGkNpVFR7kmHRORE6wJhagfAfoPstRdVNMeBNMDXVp\n",
       "FMyXMCFlJigjRnMo3tQLwzHZP2UqN3gvuTkwVnOYypcyVf4jAeqS7JJv0euKWBNBgtHv7XlxGjjk\n",
       "XV3Xmrmq3GiGkqWFHUMOoHTmjKu0qwQ6sant5Sx2ynQE5/gOUU188YVfGvFFug3ru/QxrRZwWbeD\n",
       "gCvn2Tb5o6PZobnk8jzQMkoqUSC0qSc3gnai8Y3BxtWm96hEuw0+NbMW285HxtpQZSKG171kAwng\n",
       "8ZjFAqRNkBtRgG8/wKww7jPPrkVsSt8WyldPVUliGByGtsspA6RMppZzspC8a9fvPKBAWVv/q0WU\n",
       "8h+M4u3iU44AAANRQZs0SahBbJlMCF///oywADp+ll322RgBbdCg5l+jdajFgJFyiwasiJCy3rTM\n",
       "+snvSAcIEwAmnmQmLa9Y4RofNPW3HakYcyx4wYRi61gPPQ59J9o+Yzxx/8yU003QM3rHBTGuHUD/\n",
       "Nnd6JzzAWRaiV2IPZj3wZpxVhw5mjMLfmJWcU0UOKKu/IO2FWooq01ma6V0F1V3CciJsVsDYhVkY\n",
       "+HhTvcXkT/KKGzU3Sk1a2NKNe1NGEeM2N6Xn/DaWiTdXyhjEUUHOQRmtsjmtRn4G0Cb1YfGeWB0J\n",
       "wZoiDLjlPsXZs5TTbnzstHfogi3h8xwri8+PCzF9brkuwRxKVWyRZgcBZO1J8ZbiN/IL20Tll/e7\n",
       "2r4fdxKFLcnCW4wVQBShK0zCCydOHakUuKbqJ0q2Gv2y+XqbwtOz1sos7eOkCD3l3l4tTOxHFz6x\n",
       "G8K/Xq5+rS8igRcnFDwuPDUdxvii8q4a8JP17oBGFx2P97tW5TD/Slwngf/mkAZCx3oGB7WF5AYB\n",
       "I3B8vsXeNXReoHGIKtpuAt5gJdpGqXjazd/U0U9AbzOUHPxODTpy/qvxXIWXpPUdvQrwfOZCwc30\n",
       "7p8Db21gEzNxqzx/HPMBP41wZdRMBxeS2QeZIvh0IoaH/BqJQ9ynx1KWrkjPvcHVU8Jyn7fVPf9T\n",
       "j4RhDpXdGrJxtT1A2y0eK5VH15hvs/Dl6TwgIbs0+a4P5RpkoL747R9yYRGY2GypvVRWEbgBV0Iz\n",
       "Q/G7PnWZGiWWVph+6q5oRsb/VZuvX6g/uDka/0ZpXz2FoEz4jqXlEhkbvCWTasYnn2RMfMvgFd81\n",
       "asmYl6tIRK77qYL8gDCa3Q5Jog39Bsn18nvYFI3AXKiUB06SFQVH98pm9MME8bSfiVlkL3pOzUnC\n",
       "wN4HiJaoYXRb/4tEEfxvUSFM64Tt8RQxLCDPIpDqYfh5zz3takBSX0QdSzaAPdAf84iqgLBtX89N\n",
       "HKUP4S7CtAbfDaLj1gdblD7hPW9w+mAS+AjJPW7hP/UJl18BRbb555Z5KYFHoVIYX8hhUZ3nyK7+\n",
       "G9LpIrqtyXOA4aG469qBVWMhoiArslEq+FRcZCyLe94uMASRT6RJHmnv4iF07nKLyYYCf0Q/EtJU\n",
       "hlI9XU/7AAAB0EGfUkUVLCP/ABLOliloOcEi5SBTarH4SiR2PSNarxIiGqxACspQL1a8HXrzrVKA\n",
       "srdZEnU7iNfdOwNn5dyM8dZFguI7y2x17JL19OhOYUlhjJws7K/x2fe7LMKxCo08OGQ4CziIRHdV\n",
       "vd4+geH/Ab41JnXxqz3Q5W8BAw5d7j2LBB+DDP8X/QZ0Sp+0s4ZTmeanO16HLyCPwXs9f2CRVBzX\n",
       "MqrTZ7SNT/Ki2HDXYxD5ryO69rtUAgd+dx0QdKrI9e5C1xd/vUZQeDlCZoBy9WUaf7Pr+MwkWbKF\n",
       "VfSiR3nkUfgDydazF0zhyEGgcFuxkZWFWBuouno2mG4chNNxYvH5y9WiaPEgLgbJ+iq/tUV8yX4r\n",
       "algszQWl4uNsPLDqGvu/xV9qVbaKHr1HE0G1J7HfOFJj9yVQwLQv8QMowFoKJZ79jZnoB6JmoWf1\n",
       "eNxFa+hRdxIFYUovTK0COfOUJXE1zgytcsd/GjS6DZPzM8Cia5s4mbtclDbJJNyfbkj1Zn8GOxXp\n",
       "JthCAebHzS3VfdrbyHqPvRjcZZ4C9MhcTD4l/crMHdZu8Y0/ham5nOwlvois4BYy3VtGiQOuSr6n\n",
       "HOT++191njHN2I7m25nhqIWlAAABXAGfcXRH/wAdoFXmLhhf/KUVIbdT57RrrKWAAucET0f+M1S7\n",
       "4nspb+IlFs3xn+I5glg9j1Ye/0m4L2ywJ5/6xK26pJXqwzrYt1JF7S7gEpKLcPuQ3EAYSNvcPMNY\n",
       "VYVDbzkJvE0DXgLWst95NU+ldavJYaN31izAtohseQhl5mbpdy8zkqurRPyvDU6wFhjsDNDZYoFv\n",
       "Atetp0CwBkpbH5BEcnH222D0VrMtnkPKSN5FaOv+BOMJGzDGUUDbG+60UoAAeCwAUWRpCDJxGVts\n",
       "H6LebqHspXGVVL2g5ej/8MjfeGObeXtpfHhpOixCuOIsTb33xONuuhqqzBn3WAdZzIKkx2pkUIk8\n",
       "YC6yzg2NL9Lh/2rG/Fq6yZu7sQeICPJlnBp8cgMcQmaNXtf0aSmYM3xeIfUocAvDSFd+XdwF+P/O\n",
       "kBj/Zg8mYiui39lRuLpm3l0GerRcBxH4FgCBgAAAAVEBn3NqR/8AHZzDmZ9EFzs7s6kVAiUuxl4A\n",
       "VRmt4A8SzcJno0dhn4ITu1sX7pwLIE5NZU3Ht3K7wnXsBobS4IQ4/oyi7WCpR0oa0YMBgHa8O+E3\n",
       "CDoCx2IBx1II1TfilDjci9I8G87uUgdCHvIcNk8YtRtplFvzwpy8lPpKcZXIJedQu+LNBxTlYoXp\n",
       "AM8LPJjZMSqQufPNThEdHWtpRVJiB8CSV31ouZq7XjXQcVOfst7NBNg+Bk1JyPDFHlFVpTC3qRbo\n",
       "4N3oFemlaEez5xxwokgQ80xhvAsdpPtITXtyZYFYQ8sRzBH1osH4difum6XeuZ4Ew4/DWSmzEIH4\n",
       "ZzZ+TEbLEPjy3yl1T1O4n/XAL5GqiqYRIvGCVx5dipFMf6dmjGEAXmimmOSfyjZgwfnSFob+2css\n",
       "UGUvXxisHyHXvvuQrUG+IRMznw1NS4g/4DegAAADIEGbeEmoQWyZTAhf//6MsAA6fsVjiAXoAJ1b\n",
       "OTHp9QWmSxY+hQF/FiXA43yzGuivz43cV0BrNV7C7FNUONqOLBq+03iVrHaXyU5c5IDoOndH4NtK\n",
       "cD98yEusYv3sz6oN/iaCPPb4x/eFt2r4hqU1PtjKK8bA2x//xz6l/M+GTHXgRVxQi/mV4L/Myhma\n",
       "ApizqQvbA1Gh98vhtzESUtVsP4QZVrYxZRGKmRC1n1BrRBBiSEI76a3oYJZuZT5HpFS1B7jS6wbE\n",
       "YkB/V0OHVXrspzqaQDQWYRa8p82S0QdUn2r+mn91xT/07+PaLukr5OYuZIbzmHlwEW2hB1vxvHlU\n",
       "Iq6IdE3YsVt0kABpqQ/xqhzPHRjJ/3EuldEXvLW5nlDyeU26A6+CqOUxg76TYq4GonHYlkU81NZR\n",
       "4kv7cGbQdqswpMrdwyHateu1y0n9CAyireMY+m36/0zZuuhTHx38oY1TEgpvw3AJQHQnDRsA9caX\n",
       "NMlLnA6gfK51ZayG6RkztKOyKznBE6ZBiVlKeIIkkHoWZBfLtPbyy5xQf3A33vJGMQR0qjASr9MC\n",
       "SagW9dfF6flcg1NU0wE9ZiN0f7SR9GkTiMhMv+iWkrJOpmbFeh/i7qap8tzyyYUoH2gNByKj+2hM\n",
       "YGQM4G7f/PtKMhqsYlOfi4rtRSbAxnnwJYSEMCcmF/Pou0ueLG5Mxs6/eAmsClrW+1mdwNcXjm71\n",
       "OBgKI2I8z2PjiYXVYIG1YCVjDwHYwJPDpH5Vine5Xo2PI/mQSPw7WUukJb234nNJbT/iOi4XecPJ\n",
       "iIyJys7Sb/01Fk5sqK85oDGCqfr93c7BpveQta//BjIyzKHRSqVPXPA9pAeIoMv03WoJ9l+OqCCM\n",
       "QQm82zhT7N7uQ6MpGjYwtA+dcnMhG3telGtG6wsxk2or+SBsTv+daOwuqZNEVAYSz/dHvB6P50V+\n",
       "zCG7nRuHFHuFn1VSWBFIk9cl3ub3xbPkMqpDwT01At2CRBBPmHWeNY134RcMVbVqbcW+6x7qy2P+\n",
       "8L0ps63OWqv0wABGkyNWCqXfW5Ukavp6LG2/rX+9hFZFAAABr0GflkUVLCP/ABLX1AATQZyB/W4X\n",
       "dnjdACVFFgXdy6jL7X1fFF0ZetlrKZM9sWmT1itewM3rDc8L3rJf5zQnmwMX3cAZzzXRKJVetGW7\n",
       "oRCZRFPvVyoXLAkfPmbIyPjYZplUpifRLU6DTiQT3eJVBp8EZ7GZ2YQZ+dLnTVRMz/TUW4YoSyqG\n",
       "e4pmON/Tgk7YtPZM9CaJh5tWX04xTKeuzhjBygdFwBxgTUxgDshsjfmBdEwBRpGpUiafpdAlRKkb\n",
       "botupcATjNxzc1wDU/sE2eaedm8qEq2NzB6I0mgKWE9IqbcLHSnaCNtA0qjKwmbF0MBEYe8xIXm2\n",
       "TG2Iv36zrsozru/E6ZtP2b3p9HVQ7qNh/RRLPZkTG1Pj80xZqBZWeJa3rTvY6XTAaUTLh86VYf+p\n",
       "v/m5RCIr4TcHM+usrfeVvWM0XB5uiOrusypIaoAtvsUsRigvRmeo50QgjVme/UMphD++MTjyrLtq\n",
       "Bk7WrUcNxZBB6W7V+/zb83imrREwy7uRE8OwdvSqJJMMSqpPZVOy09j6GFtxhG77xadSPqdtCwGf\n",
       "vGfUYqvkD0CAsiXgAAABRwGftXRH/wAc8Fl9JzSZVaU+zcHdjoN2rQv531ezjnVDWAABW2Gq/+RV\n",
       "qMHg9QGeIKkB1/4JH5GiSMH9DW+QR68A0MqprEwWTh+SrUIhCRoSS1XBA7jXdTkAzitGbtUm2QvO\n",
       "L+1Scn7V54+kynG/mdkqcw5B1Xqfmtq00PGf1HkoOFC5AgBq+PIwscW5VqJ+K+6hDblnvF8vZ7XD\n",
       "wPBHOLYwcDcWDXUsTAEo9Yc7PGTXKGs9ZusGM8faXk3YOVOFSlrJOyNB1Y+OWfVYmCtcXn/VCeMu\n",
       "h2USS3fJ75aBOgzMwYDw86JQChsnYYPc33PVFHgAUWkd/ztb+dTWjot2hI7n/gIzYcVCwA8WUuRq\n",
       "Q49x/8TlVimiuHbOtYTT6ezlxxIfLHwEKkq2UW+/foJSPZs5dlU/D7YqYKohFehYo9skVNErmAAh\n",
       "YQAAATcBn7dqR/8AHOzGqO/oGazylA9bt3bquIPshIGU8e7bBoqpqdHS9q9MAIxF42tzKmoNJbLB\n",
       "edPkk0QAwFc4/zqesntyteToWmQjxTycH5EzevubpX3q2Osm3UX81aOvrfzbqwMYggqR0hb31Ivh\n",
       "0j8p75bDdbVuWp+lm9AydqbNwkSz/pwEHiKkxcHuDVe/QMHyDFFfVPoLgpF4IRL62FtXTLa9Krat\n",
       "OjFuo9adznuQ3+VgdG4iP8AcCDU5F3UKVqQf16xpW18W1X1FIE329aEDzOWnyQSEQ4DAsCET+ss3\n",
       "H+4blxkLY9aRZR3NjbHs8J7F7yOn7eiD1TUAZIm1INjvVP8PCbz5IQzw/K6BGvcANSXPvrBBkNdy\n",
       "GU+nSvAlkW/IU6rFJ15Tc/tMZiU7olAI2LhLqfULaQAAAspBm7xJqEFsmUwIX//+jLAAONFOoo0t\n",
       "WADZm+uDA0jsbVmg1vsJbgvbQ/wvHtiJavm3E97AwnKsPSu8DiJyFH6BE/IZvPjdPhxYLQd+jR4y\n",
       "K1ki7vU172I2/0ThcES6LaAvyKt+RGSAqYsqsLylO2Nk8uqQPh3o/KBxgbjiQG4YvJZCwRpJkK22\n",
       "tkT8nCBkpDykYqxC7tyExXf/EjBL28QGgtXokAGoTBxF0ROOVuoykeHh/bsJsg1f7tQNvOE/brP4\n",
       "cAVMNDZCn+0XG9snAFX3m3LGkiZ91W8DJkJ4CDeChFTPCyTqfP9eA0nC12YmSeoWoq7rWoqK/W+b\n",
       "F71panhMIpCxZ7ZQuQS2MrVTs8yWNuoYVbMl+nFz/2ybOxDWmJM5lsEUXFFTabYXfP8RFOVspDh3\n",
       "fpKnAQ9iryfWseTWz3Td83Dgj+zTrIlLH7tNhYBT9Kj9+fRQxwKMnzUw1DyePq7woLHSruX1EQcR\n",
       "xEy4GSeymN1ySRcjdQ4icPk2Wb73JlyofVSagyckoRcQpeAr1yTkd4ZGaRWoA1Vm5gHmW7FgXEzn\n",
       "wSSQXiI77b0cvS2QQGoj3obMIedyp4LztJbDIR5PYSTa+3wuWj2wPem7qrxFwt6ZfNMPkkRT9F3A\n",
       "Cxg6sfKLKIXA2+YddVRnJm+CC1DpojjN3AKaDg9LSHxR9a/Pwmz/S119PBrS+XMNmY51IIMgTe1b\n",
       "FIBxKDx2gDEvXjMBgrol5djbGeRpJQAa5D2nORFyS3Sy93LtkhzfdjIdDhLbU0ebmhcg51VG4cEY\n",
       "HKFHI+Y/01kpUMTER9+cxoYA8x+lfiVlKisl3jHx+cFC5kK09JRC9THWL6Zljo6h7WqWH4//CEW+\n",
       "r7XWjLzMRpDiXoWtUcVJvjmTEQZs2fQIHq/GTzQuc5EaazWpfyQisiGE5XB8FdvWMfbgAkRnHhaq\n",
       "GD+6+XvvcuAAAAGmQZ/aRRUsI/8AEhskxPrH0AA/lZ1SqwIpHQJfIkXk18ZWUtFT57/LTeMRhdfy\n",
       "orEFGSHiZi6iti7Mjh7F2TWTz8C1ljRJZoS7qQKDJgCb2iq0G6TgF8/XCf2vxOa23HKv23hLN+Am\n",
       "i+JSc+k+xKDqWaE6PkqXsxFeXPIii0V/W+iSAQKhXZpXAkN9SvG0b0kYVcPZ9gYrJmFVRrXkSxd5\n",
       "ior+wquP5nd649ugh4g7amgbd6ihl1AqEVDNvQAxY6K6NfAR3hmlkKs2kTYrOFMCk5NRGFNTOgE6\n",
       "+asHLMhT+k9kjziegnNpYRABUyaiSUIuxkP+6fKJSDWffkk2nd4sTEPuPzw/MO/hTzpzGP2KWx4g\n",
       "X9JIEdowY67DYTgzhtM8JA/WYuKmwe2Likv6wuKrR4v3SfhBonpEqSuDBsHiTAYOyoVoh1tB4QVh\n",
       "CsHuRH//2dqJv1+EhmNThk1SuKgXeLuXJxuNL+cHtuy+/6bMskK41PhYnF8aJJYi0DCKBS7OOM2+\n",
       "Gy3QwGVKYQOAVnOUo9XBrKNz+q+FX1GDHYnQVuVsvTBMUEEAAAFHAZ/5dEf/AAdm72xd8aHGc60n\n",
       "v1PIirpJuhbEtTXz8W0FDjaTs3bX5G+c5RmCuurSC4vyILejmtwzMAArbDTGkbiUxDB3SyZjF8CC\n",
       "yPzDbfp4x7Lk+kwPivworI/TifR4q9UzUNpt3yVJdEDUuUrnWudPS58BhxnUYwK3lgI6A1NfznJE\n",
       "uu8g3eoPuSSU7aBNf+oMcd16TydD8HNjXP+v9RiYH2NSJxKykPL3CX2Ntk1RV+S2VOnevrSV/YDo\n",
       "qZPSHLH3JYqamimoPoKtEoPy5YKhP2MVf/IgZKgAJa44i86XUBtNX/VeezT3Jb5pVeXp41ZFsHz/\n",
       "eFERBrp1+hz4ENr+hHWjDqNFfRy/KQFUUiNblgNHwLy+6OnAgpQCDwYa4ypSvnRwb86gLf0s7+dq\n",
       "ZORXDWeY6E7Y7pBHuicvwXBp9bJbAAUUAAABSgGf+2pH/wAHV/GTvVUstr8Gq5OL/H2u28QhuQAr\n",
       "bCuFE7bnKImUDKIViuUrO5/duxPKKsjdPW1xTv31id9mNY+G57snQLb6apyw6tcjaXaW+SupDZTm\n",
       "usvOCiX2lS87J0mbxLaIGCjyiF+uj8zGSNvRsJuhXVSKJQrm3NgSsetbmx26tL/uuXfV2XCqH12Y\n",
       "yVT4/tB5SJE9b50FIastvi5CPU/8dLhVuERDJob0SuzjiwifFORHHvUZ7+fpIXHTQpseJVgadd04\n",
       "MmJo1Qg4G1Ci+SIvM78SZ870ldEvSpExyeE6ATdmBxdYmBJREBX6+Z7qZgsD5ZXYj3O5Onh84wfG\n",
       "4YrTERzyZpmXe1R31ui6ped6CphScTgVylthgGqL2xJTUmwVbZachiEehhc5rq/UBUa/9M7O5w6I\n",
       "WQBLBedi1qhYoc6xBBMGXQAAAoFBm+BJqEFsmUwIV//+OEAA3HWEfo5ltbkcZikDgATnk/12zzFe\n",
       "OF7yOfJ39/N20DPPl8ApKA/INFRA87IFWdNR9eD6wJy5bNfuf8zcAxN5aEedSARKdsd+Xk3AYbhj\n",
       "XRxJj3tpd45/sO9jmspR9GSPpXuOoRa1JE/mCgWj+2Wljm+bBgkqsaLxyUAUan0G/gDpSDMs4/Ov\n",
       "ZJvWcIKRQlddl8zJ/dWkql7A0m6EIUkIYhPo/KP8zoh/hB65MGYgLjpTTGjJJfpvG22vdAsTNN05\n",
       "QVH7d3spTuJPMTKt7uit1tRgsqYBmRCEi849PD+LupYWoabmNiiu3Dq42PYIbocgvJJ3xjqHwNKn\n",
       "QU2t+6V6bo5PoA47ttxBD8b6yhSJuFc9rBG2pZgM+TVXCenohZoVIDf4j4r9pN+aAXLJnCCyff6o\n",
       "iF+cAXcLBRCQUnzo3RZCkf/bxa3eJe9Q3Y0CdVk7DzLSwob/fhtZvMk9GVkZnst3JFS+8svaEP7o\n",
       "2OdGECN2aYROb+VR77ARccHrQjGOklc4/2jtScwA2s70JfEDwB3L8D/MK8xO3NC1i+c9sDsBNuzw\n",
       "JrppEo/b5r98wYT7j8Ha9XgGzyfoUBmzsLMnWJf+5WG2SuBDohgzXj/Q1bomddx5El03pn9ZIwWU\n",
       "wNNm7ft6ljAT2qxqIgz18uPULCssOJCYHgF2N8r3OjvOXw54XQXurg/8F9u2Zs/5pWVHLicEO1wY\n",
       "yvunyzF1aQSf9UPfPYOW6tnQjHJ3PRHfbaR9g176CbA8eUMELx0aX6uki8hj3BHWM4CqdJlXC2Mq\n",
       "2MMozedxtD0b2y1ef7f/eWEUHvxEkHCT3bFWwU1noMPLmQAAAaRBnh5FFSwj/wASPo96gAnWUN8k\n",
       "bbqt1UXY8Iz6z7tz/z6V5eOMGx19HYxNCNw3+XeVXvg52fR3IRmA336AjmGL9MeEJ3VnaG+9f+hj\n",
       "bLuhK5TKAvuss9q/Y2gn6es1fBfhDno4XBxZX+HTlZo6zjaZibLqnsJIMSQARX7VMjEBT6j6mbIy\n",
       "6bKA3EntH6gtUtR+NVZ5TUwloNrqOVE5GRZjrfm9IMEQ8hvYc2gZGBK8G/pFQAoMaJ4wZpbxld80\n",
       "oHelMyRjFbAO7loOwrHkBC+njJrxinf5QXqDQb3EaN70F4cmOfGIdCC0mRYUldH1bPTtCyXl2QB5\n",
       "vszfOBBmmFPr3x2h7VZiurqD7o17WxHkmbBMgVFKOiQo6NE4yX8e4y00J65XO8R4lTyZ6s7zbGcf\n",
       "1dmZEPli1TjPuiFSIfB2jIs8bfrUpXc0GQAyshrn2nGhdLxDqLNL755TDJyUYUhcMy07HNk5jez8\n",
       "+2n2xeOhN4vBMuPRU0x+H/vaQ0L7USwwOSqhhDYrhWOt7YtuwCf6w1b+CS8EXdiOIj1uPIqJXJK/\n",
       "TLgAAAFoAZ49dEf/AAdsj07rhtmI8AAlC/nHwkiU9+qa5MNlmBh3j+EOYaL5Cm2Tkop+DQ4nS+ND\n",
       "Dt6QXDGhSNeWPW58+SHKpe+Nc/FIZ4zs6inaG12C1rt/rPqHHlZDw+HO6BX8uyDXur5dbZGoLoiM\n",
       "akb/4EpSzSCu5ENKjvtiGZhOuapiouUvq2aAP0v7HPjFb+AtDQtdc0BuSO7hXqAuKmq1S3P1cdlM\n",
       "vgdwbdJlfFFgaz9/iVMfeju1vh2tV98GIrDCg09r7B5Dxo5S9XuTWZHMfECHSwLCut/yG5wkJvP3\n",
       "80bJByKNaImVUEQlRaMm0NOrT7e+9NzKGh37hRUPnwNkcYVMhrqO2xdlrIxOtesPkpWmujgTwely\n",
       "6wmxnaoNxxn6sgz2mOoxKWdr0eZr5SbXKZLtEOi9yUtg3fd8HWjQJGZnN923NNagHAeGK14EBPYc\n",
       "JL95oFwH5l7JKdddKE/nW2CI6PeuZEsoAAABawGeP2pH/wAHax1nBVVIsp2k5tvscsOHfbBvu/FU\n",
       "DCSHTYefJcZZifgAl8dwILShu9uqU4QxlJrNpgyaJniqHWtBZZX8z25V3p6zoRn8KIfbbhtz51QU\n",
       "nfZC1x3fYLbX1zWWj9MUqbsun2iwN4AtmZoxGjeZRtEgZRtXcvFI3wr/502FSFmYyIbk6fIGaJDl\n",
       "5fgUKdlnyp67At2s1uiZSM0vgMbZVWO7TCaCysgbnk+LnO9qUNW0tn/0DwZdFSZRWqaeCkCLxrs8\n",
       "QNGuGqLXdATH01oUidiRyLl+M0utFs93HqHSzo9gTENV/g2VhJVH0qKQeew5R7tDG+q+EVkD9+8r\n",
       "Akd3ddU3wAV8/j6tiC9VtW0LoREldtS00QHBwNoWnnnHmV97YAv/T1rt4oQyo2GCsfvj37Hgi9IO\n",
       "98Vc+xTJTiywVH9JyAtx33Yv86KOg+cz6F04Bpv/rnmjURPsyeLTnpgZlRnqxribgQAAAWhBmiNJ\n",
       "qEFsmUwI//yEAANJ8BV7aJxfqUTKbZ2E1AIBa5ZWIIeyxD5YD/M1DprQdccuq98bBFZOALmvYjd3\n",
       "2XtELe4Pn4sZ97xusJSpAU1wOARB1SnCUefeC85ie7cERkVoQv/Rn2AzINXD0ZT+h9y8O7X0/Qfw\n",
       "+a0ziYuTSXqowqQdAPH5J0P6Nzu0PiTUbXCdlzenAI5cF4kIVZBSImM7sHYPGb3vRb4PChGR3b+1\n",
       "gShzJsJcjejG220c1ir8GWbLx1izt4c/0WH2J7KV/TKth0/H9wMh2VVmo/H4CrKhReVZoRmTXmHd\n",
       "UmGzpL+8HmpM6JOGnjG7hxmFfJuogXjA9UtrSDqw6IFJGFJO1k8olQe8X6CKKVx541q3bOj7nj6W\n",
       "PANBXIctMByRNVrhZEF7ZH/WoXZ81m0iJxEwMXxAI0gRG3b8ysZPWKIbgGPf60JYHStv+0jhF296\n",
       "AF0AjEJu+JyeHl4Ac5gAAAF0QZ5CQj//AAc7E7BwNCsRll2G76k7iYLuhtVqtNLIHOLztnXRd1fd\n",
       "geb1KjmrVsgQvs2wARjIAXHEtQ2Of85GgUqFrcTsYG/NCOMQuflL0TPKU6SiOjKAe6Ytyuy5Hh73\n",
       "DDn04LVoUuHgpA5SFJSFkJQEKYt77EGJh5A5W/Fxu8YBCjpu6vt90u10dqfCQKD8b0B9c9SZccy7\n",
       "tL9wKrB9Vc/vMJCZK+jAqkoFgaaMMpeafQRvIFfLBaTvVxtlEMkYgqZIHBF4W71hayzRS9vEwgP6\n",
       "0pfHx9mpAbaff4cR7Vb/2Oq/tCT/Rt0eA9HyLbh4B0JJTO1+9pI9VMyQu7MQajeq4fvtGjd3MwpY\n",
       "HC8x3pj2HVz/1eVN1FBfXFaqPuU28iBp3WnmEXWLGJEc4M23Af0Mzla4k07g5gxOOi53MOolg2QU\n",
       "hyn6Shs06gNP+I8HDPnRBOzYWpI9uzDJAc+o2g+gT1VwkqG4R4jEjQfdeOFRjsGzAAABXgGeYWkR\n",
       "/wAHOn13I+4ivgz4tB8VC+0ffpjpKg7GC/xHMjK+/gAleaXG83qtPbHHYen15ps5wyJAUucBwsmH\n",
       "cv0/rbrOWYfUl/k/SulowUWOgaIvxuaYKYPt6Lu7MUw3y89nJigq4Q5sQIUhB9CtqDLNE64rjZhV\n",
       "i6nCDuR2THsZaICrqmopGJfteZdQo+WPvtpco0jAf+Lj4IbrBr9Anq7XwbzO0jpqFajC3XxiMywx\n",
       "0v+ZF8uZ6mzOaZwWIjR5w8usP7SvBBoUd858hA79mI/88YbKnT6xBBdIMmgiUQ0HofQGAEAfZCkY\n",
       "dEPdvp/s4KvhQ79segqZt500IHp9+NnhnthWQXy1v53eNt5CsidUs5M5lmJgMtmb95mf7LOZgiSz\n",
       "MJq+GR1VRkMcnfMheFCf200G7heOqAhevngmaQ5N/a6lPKD8LNgOf+f1hkGJk64/ybdA3UNSYGWe\n",
       "MYm4AAAH321vb3YAAABsbXZoZAAAAAAAAAAAAAAAAAAAA+gAAAfQAAEAAAEAAAAAAAAAAAAAAAAB\n",
       "AAAAAAAAAAAAAAAAAAAAAQAAAAAAAAAAAAAAAAAAQAAAAAAAAAAAAAAAAAAAAAAAAAAAAAAAAAAA\n",
       "AAAAAAIAAAcJdHJhawAAAFx0a2hkAAAAAwAAAAAAAAAAAAAAAQAAAAAAAAfQAAAAAAAAAAAAAAAA\n",
       "AAAAAAABAAAAAAAAAAAAAAAAAAAAAQAAAAAAAAAAAAAAAAAAQAAAAANgAAAB+AAAAAAAJGVkdHMA\n",
       "AAAcZWxzdAAAAAAAAAABAAAH0AAAAgAAAQAAAAAGgW1kaWEAAAAgbWRoZAAAAAAAAAAAAAAAAAAA\n",
       "MgAAAGQAVcQAAAAAAC1oZGxyAAAAAAAAAAB2aWRlAAAAAAAAAAAAAAAAVmlkZW9IYW5kbGVyAAAA\n",
       "BixtaW5mAAAAFHZtaGQAAAABAAAAAAAAAAAAAAAkZGluZgAAABxkcmVmAAAAAAAAAAEAAAAMdXJs\n",
       "IAAAAAEAAAXsc3RibAAAALRzdHNkAAAAAAAAAAEAAACkYXZjMQAAAAAAAAABAAAAAAAAAAAAAAAA\n",
       "AAAAAANgAfgASAAAAEgAAAAAAAAAAQAAAAAAAAAAAAAAAAAAAAAAAAAAAAAAAAAAAAAAAAAAABj/\n",
       "/wAAADJhdmNDAWQAH//hABlnZAAfrNlA2BB+WEAAAAMAQAAAGQPGDGWAAQAGaOvjyyLAAAAAHHV1\n",
       "aWRraEDyXyRPxbo5pRvPAyPzAAAAAAAAABhzdHRzAAAAAAAAAAEAAABkAAABAAAAABRzdHNzAAAA\n",
       "AAAAAAEAAAABAAADMGN0dHMAAAAAAAAAZAAAAAEAAAIAAAAAAQAABQAAAAABAAACAAAAAAEAAAAA\n",
       "AAAAAQAAAQAAAAABAAAFAAAAAAEAAAIAAAAAAQAAAAAAAAABAAABAAAAAAEAAAUAAAAAAQAAAgAA\n",
       "AAABAAAAAAAAAAEAAAEAAAAAAQAABQAAAAABAAACAAAAAAEAAAAAAAAAAQAAAQAAAAABAAAFAAAA\n",
       "AAEAAAIAAAAAAQAAAAAAAAABAAABAAAAAAEAAAUAAAAAAQAAAgAAAAABAAAAAAAAAAEAAAEAAAAA\n",
       "AQAABQAAAAABAAACAAAAAAEAAAAAAAAAAQAAAQAAAAABAAAFAAAAAAEAAAIAAAAAAQAAAAAAAAAB\n",
       "AAABAAAAAAEAAAUAAAAAAQAAAgAAAAABAAAAAAAAAAEAAAEAAAAAAQAABQAAAAABAAACAAAAAAEA\n",
       "AAAAAAAAAQAAAQAAAAABAAAFAAAAAAEAAAIAAAAAAQAAAAAAAAABAAABAAAAAAEAAAUAAAAAAQAA\n",
       "AgAAAAABAAAAAAAAAAEAAAEAAAAAAQAABQAAAAABAAACAAAAAAEAAAAAAAAAAQAAAQAAAAABAAAF\n",
       "AAAAAAEAAAIAAAAAAQAAAAAAAAABAAABAAAAAAEAAAUAAAAAAQAAAgAAAAABAAAAAAAAAAEAAAEA\n",
       "AAAAAQAABQAAAAABAAACAAAAAAEAAAAAAAAAAQAAAQAAAAABAAAFAAAAAAEAAAIAAAAAAQAAAAAA\n",
       "AAABAAABAAAAAAEAAAUAAAAAAQAAAgAAAAABAAAAAAAAAAEAAAEAAAAAAQAABQAAAAABAAACAAAA\n",
       "AAEAAAAAAAAAAQAAAQAAAAABAAAFAAAAAAEAAAIAAAAAAQAAAAAAAAABAAABAAAAAAEAAAUAAAAA\n",
       "AQAAAgAAAAABAAAAAAAAAAEAAAEAAAAAAQAABQAAAAABAAACAAAAAAEAAAAAAAAAAQAAAQAAAAAB\n",
       "AAAFAAAAAAEAAAIAAAAAAQAAAAAAAAABAAABAAAAAAEAAAUAAAAAAQAAAgAAAAABAAAAAAAAAAEA\n",
       "AAEAAAAAAQAABAAAAAABAAACAAAAAAEAAAAAAAAAHHN0c2MAAAAAAAAAAQAAAAEAAABkAAAAAQAA\n",
       "AaRzdHN6AAAAAAAAAAAAAABkAAAl5AAABg4AAAIiAAABkgAAAZMAAARXAAAB6wAAAZgAAAFdAAAE\n",
       "VgAAAc8AAAFqAAABdwAAA+cAAAHNAAABbgAAAUkAAAO3AAACDwAAAT8AAAE1AAADcgAAAdwAAAFo\n",
       "AAABTwAAA8YAAAHCAAABaAAAAUQAAAOfAAABpgAAAUMAAAFUAAADfgAAAbcAAAFuAAABPAAAA7EA\n",
       "AAG5AAABWQAAAUAAAAOGAAABxwAAAUgAAAFOAAADyAAAAccAAAFLAAABSAAAA4EAAAHQAAABTgAA\n",
       "AVwAAAOyAAABmAAAAWEAAAFOAAADaAAAAb0AAAFkAAABTgAAA4cAAAHQAAABXgAAAUQAAAOaAAAB\n",
       "xQAAAV8AAAF1AAADuwAAAdgAAAFoAAABWAAAA4oAAAGIAAABZAAAAVYAAAN1AAAB2gAAAWMAAAFj\n",
       "AAADVQAAAdQAAAFgAAABVQAAAyQAAAGzAAABSwAAATsAAALOAAABqgAAAUsAAAFOAAAChQAAAagA\n",
       "AAFsAAABbwAAAWwAAAF4AAABYgAAABRzdGNvAAAAAAAAAAEAAAAsAAAAYnVkdGEAAABabWV0YQAA\n",
       "AAAAAAAhaGRscgAAAAAAAAAAbWRpcmFwcGwAAAAAAAAAAAAAAAAtaWxzdAAAACWpdG9vAAAAHWRh\n",
       "dGEAAAABAAAAAExhdmY1Ni40MC4xMDE=\n",
       "\">\n",
       "  Your browser does not support the video tag.\n",
       "</video>"
      ]
     },
     "execution_count": 5,
     "metadata": {
     },
     "output_type": "execute_result"
    }
   ],
   "source": [
    "animation.plot_anim(wave_packet,xlim=(-4,4),title=\"Gaussian Wave Packet\",xlabel=\"x\",ylabel=\"g(x)\")"
   ]
  },
  {
   "cell_type": "markdown",
   "metadata": {
    "collapsed": false
   },
   "source": [
    "The plot then renders as an MP4 video directly inside the notebook using an HTML5 wrapper. You can play, pause, and fullscreen the animation, as well as download it as a compressed mp4 file."
   ]
  },
  {
   "cell_type": "markdown",
   "metadata": {
    "collapsed": false
   },
   "source": [
    "### Animated GIF File Output\n",
    "\n",
    "Alternatively, you can have matplotlib directly save an animated gif file. These are nice for web display, but are not optimized in filesize by default.  As a test below, we define a sinc fuction, but animate the drawing of the sinc one point at a time for visual effect.  The file will be output to `draw_sinc.gif` in the same directory as the notebook."
   ]
  },
  {
   "cell_type": "code",
   "execution_count": 6,
   "metadata": {
    "collapsed": false
   },
   "outputs": [
   ],
   "source": [
    "def draw_sinc(x):\n",
    "    y = np.zeros_like(x)\n",
    "    for ind in range(len(x)):\n",
    "        y[ind] = 1 if x[ind]==0 else np.sin(x[ind])/x[ind]\n",
    "        yield y"
   ]
  },
  {
   "cell_type": "code",
   "execution_count": 7,
   "metadata": {
    "collapsed": false,
    "scrolled": true
   },
   "outputs": [
   ],
   "source": [
    "animation.plot_anim(draw_sinc,xlim=(-15*np.pi,15*np.pi),n=200,delay=10,ylim=(-0.5,1),title=\"Sinc Function\",xlabel=\"x\",ylabel=\"sinc(x)\",gif=True)"
   ]
  },
  {
   "cell_type": "markdown",
   "metadata": {
    "collapsed": false
   },
   "source": [
    "## SymPy (Symbolic Python)\n",
    "\n",
    "Symbolic python aims to reproduce the functionality of Mathematica completely within python. This means that it can perform symbolic manipulations of expressions, including automatic algebraic simplification."
   ]
  },
  {
   "cell_type": "code",
   "execution_count": 8,
   "metadata": {
    "collapsed": false
   },
   "outputs": [
   ],
   "source": [
    "sym.init_printing()        # Tell sympy to use the prettiest printing available (e.g., LaTeX)\n",
    "x,y,z = sym.symbols('x y z')   # Define the variables x and y to be mathematical variable symbols\n",
    "f,g = sym.symbols('f g', cls=sym.Function)  # define the variables f and g to be mathematical function symbols"
   ]
  },
  {
   "cell_type": "markdown",
   "metadata": {
    "collapsed": false
   },
   "source": [
    "Expand $(x+y)^3$:"
   ]
  },
  {
   "cell_type": "code",
   "execution_count": 9,
   "metadata": {
    "collapsed": false
   },
   "outputs": [
    {
     "data": {
      "text/latex": [
       "$$x^{3} + 3 x^{2} y + 3 x y^{2} + y^{3}$$"
      ]
     },
     "execution_count": 9,
     "metadata": {
     },
     "output_type": "execute_result"
    }
   ],
   "source": [
    "sym.expand((x+y)**3)"
   ]
  },
  {
   "cell_type": "markdown",
   "metadata": {
    "collapsed": false
   },
   "source": [
    "Factor $x^2 + 2xy + y^2$:"
   ]
  },
  {
   "cell_type": "code",
   "execution_count": 10,
   "metadata": {
    "collapsed": false
   },
   "outputs": [
    {
     "data": {
      "text/latex": [
       "$$\\left(x + y\\right)^{2}$$"
      ]
     },
     "execution_count": 10,
     "metadata": {
     },
     "output_type": "execute_result"
    }
   ],
   "source": [
    "sym.factor(x**2 + 2*x*y + y**2)"
   ]
  },
  {
   "cell_type": "markdown",
   "metadata": {
    "collapsed": false
   },
   "source": [
    "Differentiate: $\\frac{d}{dy}(x+y)^3$"
   ]
  },
  {
   "cell_type": "code",
   "execution_count": 11,
   "metadata": {
    "collapsed": false
   },
   "outputs": [
    {
     "data": {
      "text/latex": [
       "$$3 \\left(x + y\\right)^{2}$$"
      ]
     },
     "execution_count": 11,
     "metadata": {
     },
     "output_type": "execute_result"
    }
   ],
   "source": [
    "sym.diff((x+y)**3, y)"
   ]
  },
  {
   "cell_type": "markdown",
   "metadata": {
    "collapsed": false
   },
   "source": [
    "Differentiate: $\\frac{d^3}{dy^2dx}(x+y)^3$"
   ]
  },
  {
   "cell_type": "code",
   "execution_count": 12,
   "metadata": {
    "collapsed": false
   },
   "outputs": [
    {
     "data": {
      "text/latex": [
       "$$6$$"
      ]
     },
     "execution_count": 12,
     "metadata": {
     },
     "output_type": "execute_result"
    }
   ],
   "source": [
    "sym.diff((x+y)**3, y, 2, x)"
   ]
  },
  {
   "cell_type": "markdown",
   "metadata": {
    "collapsed": false
   },
   "source": [
    "Integrate: $\\int_{-\\infty}^\\infty e^{-x^2}dx$"
   ]
  },
  {
   "cell_type": "code",
   "execution_count": 13,
   "metadata": {
    "collapsed": false
   },
   "outputs": [
    {
     "data": {
      "text/latex": [
       "$$\\sqrt{\\pi}$$"
      ]
     },
     "execution_count": 13,
     "metadata": {
     },
     "output_type": "execute_result"
    }
   ],
   "source": [
    "sym.integrate(sym.exp(-x**2),(x,-sym.oo,sym.oo))  # Note that sym.oo is infinity"
   ]
  },
  {
   "cell_type": "markdown",
   "metadata": {
    "collapsed": false
   },
   "source": [
    "Solve algebraic equation: $x^3 = 1$"
   ]
  },
  {
   "cell_type": "code",
   "execution_count": 14,
   "metadata": {
    "collapsed": false
   },
   "outputs": [
    {
     "data": {
      "text/latex": [
       "$$\\left [ 1, \\quad - \\frac{1}{2} - \\frac{\\sqrt{3} i}{2}, \\quad - \\frac{1}{2} + \\frac{\\sqrt{3} i}{2}\\right ]$$"
      ]
     },
     "execution_count": 14,
     "metadata": {
     },
     "output_type": "execute_result"
    }
   ],
   "source": [
    "sym.solve( sym.Eq(x**3,1) )"
   ]
  },
  {
   "cell_type": "markdown",
   "metadata": {
    "collapsed": false
   },
   "source": [
    "Solve (damped Harmonic Oscillator) differential equation: $f''(x) + z f'(x) + y^2 f(x) = 0$"
   ]
  },
  {
   "cell_type": "code",
   "execution_count": 15,
   "metadata": {
    "collapsed": false
   },
   "outputs": [
    {
     "data": {
      "text/latex": [
       "$$y^{2} f{\\left (x \\right )} + z \\frac{d}{d x} f{\\left (x \\right )} + \\frac{d^{2}}{d x^{2}}  f{\\left (x \\right )} = 0$$"
      ]
     },
     "execution_count": 15,
     "metadata": {
     },
     "output_type": "execute_result"
    }
   ],
   "source": [
    "diffeq = sym.Eq(f(x).diff(x,x) + z * f(x).diff(x) +  y**2 * f(x), 0)\n",
    "diffeq"
   ]
  },
  {
   "cell_type": "code",
   "execution_count": 16,
   "metadata": {
    "collapsed": false
   },
   "outputs": [
    {
     "data": {
      "text/latex": [
       "$$f{\\left (x \\right )} = C_{1} e^{\\frac{x}{2} \\left(- z - \\sqrt{- 4 y^{2} + z^{2}}\\right)} + C_{2} e^{\\frac{x}{2} \\left(- z + \\sqrt{- 4 y^{2} + z^{2}}\\right)}$$"
      ]
     },
     "execution_count": 16,
     "metadata": {
     },
     "output_type": "execute_result"
    }
   ],
   "source": [
    "sym.dsolve(diffeq, f(x))"
   ]
  },
  {
   "cell_type": "markdown",
   "metadata": {
    "collapsed": false
   },
   "source": [
    "Define a Gaussian function, take its derivative and integral symbolically, then convert them to numerical versions that use numpy:"
   ]
  },
  {
   "cell_type": "code",
   "execution_count": 17,
   "metadata": {
    "collapsed": false
   },
   "outputs": [
   ],
   "source": [
    "gaussexp = sym.exp(-x**2/2)/sym.sqrt(2*sym.pi)\n",
    "gaussdiffexp = gaussexp.diff(x)\n",
    "gaussintexp = sym.integrate(gaussexp, (x, -sym.oo, x))"
   ]
  },
  {
   "cell_type": "markdown",
   "metadata": {
    "collapsed": false
   },
   "source": [
    "$g(x) = $"
   ]
  },
  {
   "cell_type": "code",
   "execution_count": 18,
   "metadata": {
    "collapsed": false
   },
   "outputs": [
    {
     "data": {
      "text/latex": [
       "$$\\frac{\\sqrt{2} e^{- \\frac{x^{2}}{2}}}{2 \\sqrt{\\pi}}$$"
      ]
     },
     "execution_count": 18,
     "metadata": {
     },
     "output_type": "execute_result"
    }
   ],
   "source": [
    "gaussexp"
   ]
  },
  {
   "cell_type": "markdown",
   "metadata": {
    "collapsed": false
   },
   "source": [
    "$\\frac{d}{dx}g(x) = $"
   ]
  },
  {
   "cell_type": "code",
   "execution_count": 19,
   "metadata": {
    "collapsed": false
   },
   "outputs": [
    {
     "data": {
      "text/latex": [
       "$$- \\frac{\\sqrt{2} x e^{- \\frac{x^{2}}{2}}}{2 \\sqrt{\\pi}}$$"
      ]
     },
     "execution_count": 19,
     "metadata": {
     },
     "output_type": "execute_result"
    }
   ],
   "source": [
    "gaussdiffexp"
   ]
  },
  {
   "cell_type": "markdown",
   "metadata": {
    "collapsed": false
   },
   "source": [
    "$\\int_{-\\infty}^x g(x')dx' = $"
   ]
  },
  {
   "cell_type": "code",
   "execution_count": 20,
   "metadata": {
    "collapsed": false
   },
   "outputs": [
    {
     "data": {
      "text/latex": [
       "$$\\frac{1}{2} \\operatorname{erf}{\\left (\\frac{\\sqrt{2} x}{2} \\right )} + \\frac{1}{2}$$"
      ]
     },
     "execution_count": 20,
     "metadata": {
     },
     "output_type": "execute_result"
    }
   ],
   "source": [
    "gaussintexp"
   ]
  },
  {
   "cell_type": "code",
   "execution_count": 21,
   "metadata": {
    "collapsed": false
   },
   "outputs": [
   ],
   "source": [
    "# If functions are known to numpy, just replace them with numpy versions\n",
    "gauss = sym.lambdify(x, gaussexp)\n",
    "dgaussdx = sym.lambdify(x, gaussdiffexp)\n",
    "# Erf (error function) is not known to numpy, so evaluate it pointwise explicitly\n",
    "intgauss = np.vectorize(lambda x0: gaussintexp.replace(x,x0))"
   ]
  },
  {
   "cell_type": "code",
   "execution_count": 22,
   "metadata": {
    "collapsed": false
   },
   "outputs": [
    {
     "data": {
      "text/plain": [
       "<matplotlib.legend.Legend at 0x7f418c39c978>"
      ]
     },
     "execution_count": 22,
     "metadata": {
     },
     "output_type": "execute_result"
    },
    {
     "data": {
      "image/png": "[encoded data removed]"
     },
     "execution_count": 22,
     "metadata": {
     },
     "output_type": "execute_result"
    }
   ],
   "source": [
    "xnp = np.linspace(-5,5,1000)\n",
    "plt.plot(xnp, gauss(xnp), label=\"Gaussian\")\n",
    "plt.plot(xnp, dgaussdx(xnp), label=\"Gaussian Derivative\")\n",
    "plt.plot(xnp, intgauss(xnp), label=\"Gaussian Integral\")\n",
    "plt.title(\"Gaussian Functions\")\n",
    "plt.xlabel(\"x\")\n",
    "plt.ylabel(\"g(x)\")\n",
    "plt.legend()"
   ]
  }
 ],
 "metadata": {
  "kernelspec": {
   "display_name": "Python 3 (Anaconda)",
   "language": "python",
   "name": "anaconda3"
  },
  "language_info": {
   "codemirror_mode": {
    "name": "ipython",
    "version": 3
   },
   "file_extension": ".py",
   "mimetype": "text/x-python",
   "name": "python",
   "nbconvert_exporter": "python",
   "pygments_lexer": "ipython3",
   "version": "3.5.4"
  }
 },
 "nbformat": 4,
 "nbformat_minor": 0
}